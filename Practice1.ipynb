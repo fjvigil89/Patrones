{
  "nbformat": 4,
  "nbformat_minor": 0,
  "metadata": {
    "colab": {
      "name": "Practice1.ipynb",
      "provenance": [],
      "collapsed_sections": []
    },
    "kernelspec": {
      "name": "python3",
      "display_name": "Python 3"
    },
    "language_info": {
      "name": "python"
    },
    "accelerator": "GPU"
  },
  "cells": [
    {
      "cell_type": "markdown",
      "metadata": {
        "id": "1e99qYjbJ3iz"
      },
      "source": [
        "##Prácticas 1\n"
      ]
    },
    {
      "cell_type": "markdown",
      "metadata": {
        "id": "yk48_pe0geVI"
      },
      "source": [
        "***¿Qué he aprendido en esta práctica?***"
      ]
    },
    {
      "cell_type": "markdown",
      "metadata": {
        "id": "jC9NyHVBghrf"
      },
      "source": [
        "Los clasificadores Naïve Bayes (también conocidos como Independence Bayes) son una categoría de modelos probabilísticos supervisados ​​que, a pesar de basarse en supuestos subyacentes bastante simples, todavía se utilizan ampliamente en el mundo actual. Debido a que son muy rápidos incluso cuando se trabaja con grandes conjuntos de datos, y funcionan sorprendentemente bien a pesar de dichas suposiciones simplistas, se consultan y / o se utilizan para muchas tareas críticas del mundo real.\n",
        "Este modelo toma cualquier punto de datos nuevo, nunca antes visto, como un nuevo correo electrónico, y (1) calculan las probabilidades de ese punto de datos (su conjunto particular de características) por separado como si perteneciera a cada clase diferente, luego (2) elija la clase más probable según la probabilidad más alta. Debido a que el denominador de Bayes anterior es una constante que permanece igual para todas las clases, por ejemplo, P (características del correo electrónico) es la misma independientemente de si la clase es \"spam\" o \"no spam\", no nos ayuda a comparar probabilidades.\n",
        "\n",
        "***Los árboles de decisión*** están formados por nodos y su lectura se realiza de arriba hacia abajo. \n",
        "\n",
        "Dentro de un árbol de decisión distinguimos diferentes tipos de nodos: \n",
        "\n",
        "Primer nodo o nodo raíz: en él se produce la primera división en función de la variable más importante.\n",
        "Nodos internos o intermedios: tras la primera división encontramos estos nodos, que vuelven a dividir el conjunto de datos en función de las variables.\n",
        "Nodos terminales u hojas: se ubican en la parte inferior del esquema y su función es indicar la clasificación definitiva.\n",
        "Otro concepto que debes tener claro es la profundidad de un árbol, que viene determinada por el número máximo de nodos de una rama.\n"
      ]
    },
    {
      "cell_type": "markdown",
      "metadata": {
        "id": "YjoBEGdOKmqN"
      },
      "source": [
        "descargar el set de datos y cargarlos en las variables de entrenamiento y de prueba"
      ]
    },
    {
      "cell_type": "code",
      "metadata": {
        "colab": {
          "base_uri": "https://localhost:8080/"
        },
        "id": "tZeIo1esJ_bb",
        "outputId": "b4ce6263-0722-4de7-81ab-c136468e8ced"
      },
      "source": [
        "!wget https://dihana.cps.unizar.es/~cadrete/mlbio/p1_data1.pkl.gz --no-check-certificate\n",
        "\n",
        "import pickle, gzip\n",
        "import numpy as np\n",
        "import matplotlib.pyplot as plt\n",
        "\n",
        "\n",
        "\n",
        "with gzip.open('p1_data1.pkl.gz', 'rb') as f:\n",
        " x_train, y_train, x_test, y_test = pickle.load(f)"
      ],
      "execution_count": null,
      "outputs": [
        {
          "output_type": "stream",
          "text": [
            "--2021-04-09 12:17:33--  https://dihana.cps.unizar.es/~cadrete/mlbio/p1_data1.pkl.gz\n",
            "Resolving dihana.cps.unizar.es (dihana.cps.unizar.es)... 155.210.153.34\n",
            "Connecting to dihana.cps.unizar.es (dihana.cps.unizar.es)|155.210.153.34|:443... connected.\n",
            "WARNING: cannot verify dihana.cps.unizar.es's certificate, issued by ‘CN=TERENA SSL CA 3,O=TERENA,L=Amsterdam,ST=Noord-Holland,C=NL’:\n",
            "  Unable to locally verify the issuer's authority.\n",
            "WARNING: no certificate subject alternative name matches\n",
            "\trequested host name ‘dihana.cps.unizar.es’.\n",
            "HTTP request sent, awaiting response... 200 OK\n",
            "Length: 23377 (23K) [application/x-gzip]\n",
            "Saving to: ‘p1_data1.pkl.gz’\n",
            "\n",
            "p1_data1.pkl.gz     100%[===================>]  22.83K   149KB/s    in 0.2s    \n",
            "\n",
            "2021-04-09 12:17:34 (149 KB/s) - ‘p1_data1.pkl.gz’ saved [23377/23377]\n",
            "\n"
          ],
          "name": "stdout"
        }
      ]
    },
    {
      "cell_type": "markdown",
      "metadata": {
        "id": "wEb9oX1DLySS"
      },
      "source": [
        "Imprimir el tamaño del vector de la variable de entrenamiento y mostrar el tipo de datos de la misma"
      ]
    },
    {
      "cell_type": "code",
      "metadata": {
        "colab": {
          "base_uri": "https://localhost:8080/"
        },
        "id": "vkB3PuDjLt4A",
        "outputId": "8a0652a9-a21b-4987-ec13-1b67bed36486"
      },
      "source": [
        "print(x_train.shape)\n",
        "print(x_train.dtype)"
      ],
      "execution_count": null,
      "outputs": [
        {
          "output_type": "stream",
          "text": [
            "(1000, 2)\n",
            "float64\n"
          ],
          "name": "stdout"
        }
      ]
    },
    {
      "cell_type": "markdown",
      "metadata": {
        "id": "XQyHJXLvNmUb"
      },
      "source": [
        "Funcion para buscar un indice en el vector"
      ]
    },
    {
      "cell_type": "code",
      "metadata": {
        "id": "72T17u4VNr3M"
      },
      "source": [
        "def find(x, value):\n",
        " return np.where(x == value)[0]"
      ],
      "execution_count": null,
      "outputs": []
    },
    {
      "cell_type": "markdown",
      "metadata": {
        "id": "_EmGg8P8PMFe"
      },
      "source": [
        "Buscamos los valores de los datos de entrenamiento para las clase de y_train\n",
        "Indezamos los datos encontrados en la clase de x_train y como resultado tendremos dos vectores con 500 datos y 2 dimenciones."
      ]
    },
    {
      "cell_type": "code",
      "metadata": {
        "id": "5QAIW3ZdN3Pc",
        "colab": {
          "base_uri": "https://localhost:8080/"
        },
        "outputId": "a142b900-fb5a-4c78-cfb8-6ccb234ae445"
      },
      "source": [
        "ind0 = find(y_train, 0)\n",
        "ind1 = find(y_train, 1)\n",
        "\n",
        "x_train_0 = x_train[ind0]\n",
        "x_train_1 = x_train[ind1]\n",
        "\n",
        "\n",
        "print(x_train_0.shape)\n"
      ],
      "execution_count": null,
      "outputs": [
        {
          "output_type": "stream",
          "text": [
            "(500, 2)\n"
          ],
          "name": "stdout"
        }
      ]
    },
    {
      "cell_type": "markdown",
      "metadata": {
        "id": "D4gJWPiMUfk4"
      },
      "source": [
        "mostramos los valores de las dos dimenciones de vector X_train.., con la captura de los valores de sus columnas."
      ]
    },
    {
      "cell_type": "code",
      "metadata": {
        "colab": {
          "base_uri": "https://localhost:8080/",
          "height": 282
        },
        "id": "7DFcUqbDO2SF",
        "outputId": "fd308370-b245-4db5-c6e5-ec0b1d70481a"
      },
      "source": [
        "\n",
        "plt.plot(x_train_0[:,0],x_train_0[:,1],'bx', markersize=4)\n",
        "plt.plot(x_train_1[:,0],x_train_1[:,1],'gx', markersize=4)"
      ],
      "execution_count": null,
      "outputs": [
        {
          "output_type": "execute_result",
          "data": {
            "text/plain": [
              "[<matplotlib.lines.Line2D at 0x7fd5f95a7610>]"
            ]
          },
          "metadata": {
            "tags": []
          },
          "execution_count": 5
        },
        {
          "output_type": "display_data",
          "data": {
            "image/png": "[encoded data removed]",
            "text/plain": [
              "<Figure size 432x288 with 1 Axes>"
            ]
          },
          "metadata": {
            "tags": [],
            "needs_background": "light"
          }
        }
      ]
    },
    {
      "cell_type": "markdown",
      "metadata": {
        "id": "aY0YRehKUdAQ"
      },
      "source": [
        "# Pregunta d"
      ]
    },
    {
      "cell_type": "markdown",
      "metadata": {
        "id": "-I6UREyWbex_"
      },
      "source": [
        "Estimación de la media y la desviación típica de las clases x_train.."
      ]
    },
    {
      "cell_type": "code",
      "metadata": {
        "colab": {
          "base_uri": "https://localhost:8080/"
        },
        "id": "jzTARaBbUia7",
        "outputId": "82d06a95-96c6-430e-a835-f3db20ae3086"
      },
      "source": [
        "m0 = np.mean( x_train_0, 0, keepdims=True)\n",
        "s0 = np.std( x_train_0, 0, keepdims=True)\n",
        "\n",
        "m1 = np.mean( x_train_1, 0, keepdims=True)\n",
        "s1 = np.std( x_train_1, 0, keepdims=True)\n",
        "\n",
        "print(m1.shape)\n",
        "print(s1.shape)\n"
      ],
      "execution_count": null,
      "outputs": [
        {
          "output_type": "stream",
          "text": [
            "(1, 2)\n",
            "(1, 2)\n"
          ],
          "name": "stdout"
        }
      ]
    },
    {
      "cell_type": "markdown",
      "metadata": {
        "id": "qtk28YfghCqV"
      },
      "source": [
        "##Implementación de la función que usa el algoritmo de rebustez numérica"
      ]
    },
    {
      "cell_type": "markdown",
      "metadata": {
        "id": "aKXJs-iti4lL"
      },
      "source": [
        "Comprobando el tamaño de exponente"
      ]
    },
    {
      "cell_type": "code",
      "metadata": {
        "colab": {
          "base_uri": "https://localhost:8080/"
        },
        "id": "zyAaTl0Phkrj",
        "outputId": "54db0e3e-557a-466a-dd8b-e5d50dce595b"
      },
      "source": [
        "def evaluate_log_like(x , m, s):\n",
        "  exponente = -1/2 * np.sum(((x-m)/s)**2, axis=1)\n",
        "  return exponente\n",
        "\n",
        "print((evaluate_log_like(x_test, m0, s1)).shape)\n",
        "\n"
      ],
      "execution_count": null,
      "outputs": [
        {
          "output_type": "stream",
          "text": [
            "(200,)\n"
          ],
          "name": "stdout"
        }
      ]
    },
    {
      "cell_type": "markdown",
      "metadata": {
        "id": "L_StbArmjI97"
      },
      "source": [
        "el de arriba era solo para verificar el inciso f de la práctica 1"
      ]
    },
    {
      "cell_type": "code",
      "metadata": {
        "id": "YEKWcIWqjHQs"
      },
      "source": [
        "def evaluate_log_like(x , m, s):\n",
        "  exponente = -1/2 * np.sum(((x-m)/s)**2, axis=1)\n",
        "  d = x.shape[1]\n",
        "  llk = -d/2 * np.log(2*np.pi) - 1/2 * np.sum(np.log(s**2)) + exponente\n",
        "\n",
        "  return llk\n",
        "\n",
        "\n"
      ],
      "execution_count": null,
      "outputs": []
    },
    {
      "cell_type": "markdown",
      "metadata": {
        "id": "eCLMKTuSj1Dr"
      },
      "source": [
        "inciso H, evaluamos los datos de prueba en la función de log-verosimitud"
      ]
    },
    {
      "cell_type": "code",
      "metadata": {
        "colab": {
          "base_uri": "https://localhost:8080/"
        },
        "id": "HNDvkBZVkHID",
        "outputId": "a7b1a04c-76f9-4bc3-83a5-545716c407ae"
      },
      "source": [
        "like0 = evaluate_log_like( x_test, m0, s0 )\n",
        "like1 = evaluate_log_like( x_test, m1, s1 )\n",
        "\n",
        "print(like0[0])\n",
        "print(like1[0])"
      ],
      "execution_count": null,
      "outputs": [
        {
          "output_type": "stream",
          "text": [
            "-3.317787056255929\n",
            "-1.5386251761870557\n"
          ],
          "name": "stdout"
        }
      ]
    },
    {
      "cell_type": "markdown",
      "metadata": {
        "id": "mkUwzmCpkUuB"
      },
      "source": [
        "Calculamos el acierto y el error  del resultado de la función\n"
      ]
    },
    {
      "cell_type": "code",
      "metadata": {
        "colab": {
          "base_uri": "https://localhost:8080/"
        },
        "id": "ZH12MIw6kwLR",
        "outputId": "f8aad473-ae8a-4064-b8b2-8141bdffff54"
      },
      "source": [
        "acc = np.mean( y_test == (like1 > like0).astype(int) )\n",
        "err = np.mean( y_test != (like1 > like0).astype(int) )\n",
        "\n",
        "print(\"Porciento de aceptados: \",acc *100, \"%\")\n",
        "print(\"Porcientos de errores: \",err *100, \"%\")"
      ],
      "execution_count": null,
      "outputs": [
        {
          "output_type": "stream",
          "text": [
            "Porciento de aceptados:  84.0 %\n",
            "Porcientos de errores:  16.0 %\n"
          ],
          "name": "stdout"
        }
      ]
    },
    {
      "cell_type": "markdown",
      "metadata": {
        "id": "9Me2es8amsNs"
      },
      "source": [
        "## 1.2 Datos de Imagen"
      ]
    },
    {
      "cell_type": "markdown",
      "metadata": {
        "id": "2ik4Ozosm5zg"
      },
      "source": [
        "leer datos "
      ]
    },
    {
      "cell_type": "code",
      "metadata": {
        "colab": {
          "base_uri": "https://localhost:8080/"
        },
        "id": "Daa3Wimxmx0Q",
        "outputId": "6273231b-7b4d-46ef-fe9c-ba24084e5f90"
      },
      "source": [
        "!wget https://dihana.cps.unizar.es/~cadrete/mlbio/p1_data2.pkl.gz --no-check-certificate\n",
        "with gzip.open('p1_data2.pkl.gz', 'rb') as f:\n",
        " x_train, y_train, x_test, y_test = pickle.load(f)\n",
        "\n",
        " "
      ],
      "execution_count": null,
      "outputs": [
        {
          "output_type": "stream",
          "text": [
            "--2021-04-09 12:28:12--  https://dihana.cps.unizar.es/~cadrete/mlbio/p1_data2.pkl.gz\n",
            "Resolving dihana.cps.unizar.es (dihana.cps.unizar.es)... 155.210.153.34\n",
            "Connecting to dihana.cps.unizar.es (dihana.cps.unizar.es)|155.210.153.34|:443... connected.\n",
            "WARNING: cannot verify dihana.cps.unizar.es's certificate, issued by ‘CN=TERENA SSL CA 3,O=TERENA,L=Amsterdam,ST=Noord-Holland,C=NL’:\n",
            "  Unable to locally verify the issuer's authority.\n",
            "WARNING: no certificate subject alternative name matches\n",
            "\trequested host name ‘dihana.cps.unizar.es’.\n",
            "HTTP request sent, awaiting response... 200 OK\n",
            "Length: 2590291 (2.5M) [application/x-gzip]\n",
            "Saving to: ‘p1_data2.pkl.gz’\n",
            "\n",
            "p1_data2.pkl.gz     100%[===================>]   2.47M   918KB/s    in 2.8s    \n",
            "\n",
            "2021-04-09 12:28:16 (918 KB/s) - ‘p1_data2.pkl.gz’ saved [2590291/2590291]\n",
            "\n"
          ],
          "name": "stdout"
        }
      ]
    },
    {
      "cell_type": "markdown",
      "metadata": {
        "id": "UnPqmHyynMqo"
      },
      "source": [
        "Funcion para plotear los datos extraidos"
      ]
    },
    {
      "cell_type": "code",
      "metadata": {
        "id": "ITog2jAdnUCg"
      },
      "source": [
        "def view_data(x, y):\n",
        " k = 0\n",
        " for i in range(4):\n",
        "  for j in range(4):\n",
        "    plt.subplot(4, 4, k+1)\n",
        "    plt.imshow( x[k].reshape(16, 16), interpolation='none', cmap='gray')\n",
        "    plt.title(r'$y_{%d}$ = %d' % (k, y[k]))\n",
        "    plt.gca().axis('off')\n",
        "    k += 1"
      ],
      "execution_count": null,
      "outputs": []
    },
    {
      "cell_type": "markdown",
      "metadata": {
        "id": "3l6iIJa3qvdG"
      },
      "source": [
        "Mostramos los datos"
      ]
    },
    {
      "cell_type": "code",
      "metadata": {
        "colab": {
          "base_uri": "https://localhost:8080/",
          "height": 265
        },
        "id": "Yl5BSvDHndna",
        "outputId": "800a5c5b-cc0b-444f-bdfe-12b7a719a1ed"
      },
      "source": [
        "view_data(x_train, y_train)"
      ],
      "execution_count": null,
      "outputs": [
        {
          "output_type": "display_data",
          "data": {
            "image/png": "[encoded data removed]",
            "text/plain": [
              "<Figure size 432x288 with 16 Axes>"
            ]
          },
          "metadata": {
            "tags": [],
            "needs_background": "light"
          }
        }
      ]
    },
    {
      "cell_type": "markdown",
      "metadata": {
        "id": "tgdTadewysEa"
      },
      "source": [
        "Inciso c) Siguendo con lo aprendido, podemos calcular el accierto y el error del modelo"
      ]
    },
    {
      "cell_type": "code",
      "metadata": {
        "id": "1f0SMiTgvine"
      },
      "source": [
        "def evaluate_log_like(x , m, s):\n",
        "  exponente = -1/2 * np.sum(((x-m)/s)**2, axis=1)\n",
        "  d = x.shape[1]  \n",
        "  llk = -d/2 * np.log(2*np.pi) - 1/2 * np.sum(np.log(s**2)) + exponente\n",
        "\n",
        "  return llk\n",
        "\n",
        "\n"
      ],
      "execution_count": null,
      "outputs": []
    },
    {
      "cell_type": "code",
      "metadata": {
        "colab": {
          "base_uri": "https://localhost:8080/"
        },
        "id": "3UL4NZvQv0wG",
        "outputId": "43f4a4b2-8077-426b-d140-e7478647c0f1"
      },
      "source": [
        "ind0 = find(y_train, 0)\n",
        "ind1 = find(y_train, 1)\n",
        "\n",
        "x_train_0 = x_train[ind0]\n",
        "x_train_1 = x_train[ind1]\n",
        "\n",
        "k=10**-4\n",
        "\n",
        "m0 = np.mean( x_train_0, 0, keepdims=True)+k\n",
        "s0 = np.std( x_train_0, 0, keepdims=True)+k\n",
        "\n",
        "m1 = np.mean( x_train_1, 0, keepdims=True)+k\n",
        "s1 = np.std( x_train_1, 0, keepdims=True)+k\n",
        "\n",
        "like0 = evaluate_log_like( x_test, m0, s0 )\n",
        "like1 = evaluate_log_like( x_test, m1, s1 )\n",
        "\n",
        "acc = np.mean( y_test == (like1 > like0).astype(int) )\n",
        "err = np.mean( y_test != (like1 > like0).astype(int) )\n",
        "\n",
        "print(\"Porciento de aceptados: \",acc *100, \"%\")\n",
        "print(\"Porcientos de errores: \",err *100, \"%\")\n"
      ],
      "execution_count": null,
      "outputs": [
        {
          "output_type": "stream",
          "text": [
            "Porciento de aceptados:  96.84265010351967 %\n",
            "Porcientos de errores:  3.1573498964803313 %\n"
          ],
          "name": "stdout"
        }
      ]
    },
    {
      "cell_type": "markdown",
      "metadata": {
        "id": "VIC-QENkz41C"
      },
      "source": [
        "## 2 Estudio de Clasifiadores"
      ]
    },
    {
      "cell_type": "code",
      "metadata": {
        "id": "rYt_w3qmxIub"
      },
      "source": [
        "from sklearn.model_selection import train_test_split\n",
        "x_train, x_test, y_train, y_test = train_test_split(x_train, y_train, test_size=0.10,\n",
        "random_state=42)\n"
      ],
      "execution_count": null,
      "outputs": []
    },
    {
      "cell_type": "code",
      "metadata": {
        "colab": {
          "base_uri": "https://localhost:8080/"
        },
        "id": "wiDPKtlsz_Qp",
        "outputId": "a41ba7bf-0738-453c-ec7f-be70a6494c3f"
      },
      "source": [
        "from sklearn.tree import DecisionTreeClassifier\n",
        "model = DecisionTreeClassifier()\n",
        "model.fit(x_train, y_train)\n",
        "\n",
        "y_pred_test = model.predict(x_test)\n",
        "err = np.sum( y_pred_test != y_test )\n",
        "print('error rate test: %f %%' % (err / len(y_test) * 100))"
      ],
      "execution_count": null,
      "outputs": [
        {
          "output_type": "stream",
          "text": [
            "error rate test: 2.803738 %\n"
          ],
          "name": "stdout"
        }
      ]
    },
    {
      "cell_type": "code",
      "metadata": {
        "id": "i3Sq4TW_w1db",
        "colab": {
          "base_uri": "https://localhost:8080/"
        },
        "outputId": "a1431871-af0c-4cda-f859-cf7cae3d148e"
      },
      "source": [
        "from sklearn.tree import DecisionTreeClassifier\n",
        "model = DecisionTreeClassifier(criterion='entropy', max_depth=2)\n",
        "\n",
        "model.fit(x_train, y_train)\n",
        "\n",
        "y_pred_test = model.predict(x_test)\n",
        "err = np.sum( y_pred_test != y_test )\n",
        "print('error rate test: %f %%' % (err / len(y_test) * 100))\n"
      ],
      "execution_count": null,
      "outputs": [
        {
          "output_type": "stream",
          "text": [
            "error rate test: 6.032285 %\n"
          ],
          "name": "stdout"
        }
      ]
    },
    {
      "cell_type": "markdown",
      "metadata": {
        "id": "XpqldRzqB6hQ"
      },
      "source": [
        "Mejora el overfit"
      ]
    },
    {
      "cell_type": "code",
      "metadata": {
        "colab": {
          "base_uri": "https://localhost:8080/"
        },
        "id": "okfMg0YhB2yS",
        "outputId": "33d0359e-6265-4c94-ffb3-96923997f2be"
      },
      "source": [
        "model.score(x_test, y_test)"
      ],
      "execution_count": null,
      "outputs": [
        {
          "output_type": "execute_result",
          "data": {
            "text/plain": [
              "0.9396771452846219"
            ]
          },
          "metadata": {
            "tags": []
          },
          "execution_count": 19
        }
      ]
    },
    {
      "cell_type": "code",
      "metadata": {
        "colab": {
          "base_uri": "https://localhost:8080/"
        },
        "id": "oX05cknbxXCz",
        "outputId": "b0f2b043-7b84-4406-ec8c-e3049c50ba16"
      },
      "source": [
        "from sklearn.tree import DecisionTreeClassifier\n",
        "model = DecisionTreeClassifier(criterion='entropy', min_samples_split=4)\n",
        "model.fit(x_train, y_train)\n",
        "\n",
        "y_pred_test = model.predict(x_test)\n",
        "err = np.sum( y_pred_test != y_test )\n",
        "print('error rate test: %f %%' % (err / len(y_test) * 100))"
      ],
      "execution_count": null,
      "outputs": [
        {
          "output_type": "stream",
          "text": [
            "error rate test: 2.718777 %\n"
          ],
          "name": "stdout"
        }
      ]
    },
    {
      "cell_type": "markdown",
      "metadata": {
        "id": "7D-YDm_66mKe"
      },
      "source": [
        "***podemos ver que tan bien aprendio nuestro sistema***"
      ]
    },
    {
      "cell_type": "code",
      "metadata": {
        "colab": {
          "base_uri": "https://localhost:8080/"
        },
        "id": "cptonAkA6MNm",
        "outputId": "6edb2865-a181-4fba-c098-8610aa7aec52"
      },
      "source": [
        "model.score(x_test, y_test)"
      ],
      "execution_count": null,
      "outputs": [
        {
          "output_type": "execute_result",
          "data": {
            "text/plain": [
              "0.9728122344944775"
            ]
          },
          "metadata": {
            "tags": []
          },
          "execution_count": 21
        }
      ]
    },
    {
      "cell_type": "markdown",
      "metadata": {
        "id": "gYWnZOXg9l4s"
      },
      "source": [
        "Aui vemos que aprendio mucho sobre el set de datos, algo que n siempre es bueno"
      ]
    },
    {
      "cell_type": "code",
      "metadata": {
        "colab": {
          "base_uri": "https://localhost:8080/"
        },
        "id": "6HmtC_1v9Zjb",
        "outputId": "481c2d24-4cfe-4c7d-e49f-d676ee9aa95f"
      },
      "source": [
        "model.score(x_train, y_train)"
      ],
      "execution_count": null,
      "outputs": [
        {
          "output_type": "execute_result",
          "data": {
            "text/plain": [
              "0.9996223564954683"
            ]
          },
          "metadata": {
            "tags": []
          },
          "execution_count": 22
        }
      ]
    },
    {
      "cell_type": "markdown",
      "metadata": {
        "id": "oiHryD3n-GC0"
      },
      "source": [
        "Graficar nuestro arbol, con todos los pasos y pregusntas"
      ]
    },
    {
      "cell_type": "code",
      "metadata": {
        "id": "9tNOwIv5-NOk",
        "colab": {
          "base_uri": "https://localhost:8080/",
          "height": 1000
        },
        "outputId": "f7f2a8f1-4836-4f9d-95e6-0b7322556e20"
      },
      "source": [
        "from sklearn.tree import export_graphviz\n",
        "import graphviz\n",
        "\n",
        "export_graphviz(model, out_file='arbol.dot', impurity=False, filled=True)\n",
        "\n",
        "with open('arbol.dot') as t:\n",
        "  dot_graph= t.read()\n",
        "graphviz.Source(dot_graph)\n"
      ],
      "execution_count": null,
      "outputs": [
        {
          "output_type": "execute_result",
          "data": {
            "text/plain": [
              "<graphviz.files.Source at 0x7fd5ead78910>"
            ],
            "image/svg+xml": "<?xml version=\"1.0\" encoding=\"UTF-8\" standalone=\"no\"?>\n<!DOCTYPE svg PUBLIC \"-//W3C//DTD SVG 1.1//EN\"\n \"http://www.w3.org/Graphics/SVG/1.1/DTD/svg11.dtd\">\n<!-- Generated by graphviz version 2.40.1 (20161225.0304)\n -->\n<!-- Title: Tree Pages: 1 -->\n<svg width=\"7931pt\" height=\"1114pt\"\n viewBox=\"0.00 0.00 7931.00 1114.00\" xmlns=\"http://www.w3.org/2000/svg\" xmlns:xlink=\"http://www.w3.org/1999/xlink\">\n<g id=\"graph0\" class=\"graph\" transform=\"scale(1 1) rotate(0) translate(4 1110)\">\n<title>Tree</title>\n<polygon fill=\"#ffffff\" stroke=\"transparent\" points=\"-4,4 -4,-1110 7927,-1110 7927,4 -4,4\"/>\n<!-- 0 -->\n<g id=\"node1\" class=\"node\">\n<title>0</title>\n<polygon fill=\"#fffefe\" stroke=\"#000000\" points=\"5011,-1106 4871,-1106 4871,-1053 5011,-1053 5011,-1106\"/>\n<text text-anchor=\"middle\" x=\"4941\" y=\"-1090.8\" font-family=\"Times,serif\" font-size=\"14.00\" fill=\"#000000\">X[215] &lt;= 0.194</text>\n<text text-anchor=\"middle\" x=\"4941\" y=\"-1075.8\" font-family=\"Times,serif\" font-size=\"14.00\" fill=\"#000000\">samples = 10592</text>\n<text text-anchor=\"middle\" x=\"4941\" y=\"-1060.8\" font-family=\"Times,serif\" font-size=\"14.00\" fill=\"#000000\">value = [5308, 5284]</text>\n</g>\n<!-- 1 -->\n<g id=\"node2\" class=\"node\">\n<title>1</title>\n<polygon fill=\"#e89153\" stroke=\"#000000\" points=\"4506,-1017 4374,-1017 4374,-964 4506,-964 4506,-1017\"/>\n<text text-anchor=\"middle\" x=\"4440\" y=\"-1001.8\" font-family=\"Times,serif\" font-size=\"14.00\" fill=\"#000000\">X[213] &lt;= 0.171</text>\n<text text-anchor=\"middle\" x=\"4440\" y=\"-986.8\" font-family=\"Times,serif\" font-size=\"14.00\" fill=\"#000000\">samples = 5759</text>\n<text text-anchor=\"middle\" x=\"4440\" y=\"-971.8\" font-family=\"Times,serif\" font-size=\"14.00\" fill=\"#000000\">value = [5093, 666]</text>\n</g>\n<!-- 0&#45;&gt;1 -->\n<g id=\"edge1\" class=\"edge\">\n<title>0&#45;&gt;1</title>\n<path fill=\"none\" stroke=\"#000000\" d=\"M4870.8106,-1067.0312C4777.3058,-1050.4206 4612.4975,-1021.1433 4516.0961,-1004.0181\"/>\n<polygon fill=\"#000000\" stroke=\"#000000\" points=\"4516.5826,-1000.5498 4506.1246,-1002.2467 4515.3582,-1007.4419 4516.5826,-1000.5498\"/>\n<text text-anchor=\"middle\" x=\"4520.4378\" y=\"-1019.0438\" font-family=\"Times,serif\" font-size=\"14.00\" fill=\"#000000\">True</text>\n</g>\n<!-- 128 -->\n<g id=\"node129\" class=\"node\">\n<title>128</title>\n<polygon fill=\"#42a2e6\" stroke=\"#000000\" points=\"5250,-1017 5118,-1017 5118,-964 5250,-964 5250,-1017\"/>\n<text text-anchor=\"middle\" x=\"5184\" y=\"-1001.8\" font-family=\"Times,serif\" font-size=\"14.00\" fill=\"#000000\">X[106] &lt;= 0.045</text>\n<text text-anchor=\"middle\" x=\"5184\" y=\"-986.8\" font-family=\"Times,serif\" font-size=\"14.00\" fill=\"#000000\">samples = 4833</text>\n<text text-anchor=\"middle\" x=\"5184\" y=\"-971.8\" font-family=\"Times,serif\" font-size=\"14.00\" fill=\"#000000\">value = [215, 4618]</text>\n</g>\n<!-- 0&#45;&gt;128 -->\n<g id=\"edge128\" class=\"edge\">\n<title>0&#45;&gt;128</title>\n<path fill=\"none\" stroke=\"#000000\" d=\"M5011.2857,-1053.7575C5041.6457,-1042.638 5077.2277,-1029.6059 5108.1803,-1018.2693\"/>\n<polygon fill=\"#000000\" stroke=\"#000000\" points=\"5109.4405,-1021.5352 5117.6268,-1014.8095 5107.033,-1014.9622 5109.4405,-1021.5352\"/>\n<text text-anchor=\"middle\" x=\"5107.107\" y=\"-1033.7885\" font-family=\"Times,serif\" font-size=\"14.00\" fill=\"#000000\">False</text>\n</g>\n<!-- 2 -->\n<g id=\"node3\" class=\"node\">\n<title>2</title>\n<polygon fill=\"#e78a47\" stroke=\"#000000\" points=\"3556,-928 3424,-928 3424,-875 3556,-875 3556,-928\"/>\n<text text-anchor=\"middle\" x=\"3490\" y=\"-912.8\" font-family=\"Times,serif\" font-size=\"14.00\" fill=\"#000000\">X[217] &lt;= 0.2</text>\n<text text-anchor=\"middle\" x=\"3490\" y=\"-897.8\" font-family=\"Times,serif\" font-size=\"14.00\" fill=\"#000000\">samples = 5435</text>\n<text text-anchor=\"middle\" x=\"3490\" y=\"-882.8\" font-family=\"Times,serif\" font-size=\"14.00\" fill=\"#000000\">value = [5068, 367]</text>\n</g>\n<!-- 1&#45;&gt;2 -->\n<g id=\"edge2\" class=\"edge\">\n<title>1&#45;&gt;2</title>\n<path fill=\"none\" stroke=\"#000000\" d=\"M4373.9521,-984.3124C4203.1883,-968.3145 3747.7735,-925.6493 3566.2398,-908.6425\"/>\n<polygon fill=\"#000000\" stroke=\"#000000\" points=\"3566.5242,-905.1539 3556.2413,-907.7058 3565.8712,-912.1234 3566.5242,-905.1539\"/>\n</g>\n<!-- 111 -->\n<g id=\"node112\" class=\"node\">\n<title>111</title>\n<polygon fill=\"#4aa5e7\" stroke=\"#000000\" points=\"4498.5,-928 4381.5,-928 4381.5,-875 4498.5,-875 4498.5,-928\"/>\n<text text-anchor=\"middle\" x=\"4440\" y=\"-912.8\" font-family=\"Times,serif\" font-size=\"14.00\" fill=\"#000000\">X[92] &lt;= 0.006</text>\n<text text-anchor=\"middle\" x=\"4440\" y=\"-897.8\" font-family=\"Times,serif\" font-size=\"14.00\" fill=\"#000000\">samples = 324</text>\n<text text-anchor=\"middle\" x=\"4440\" y=\"-882.8\" font-family=\"Times,serif\" font-size=\"14.00\" fill=\"#000000\">value = [25, 299]</text>\n</g>\n<!-- 1&#45;&gt;111 -->\n<g id=\"edge111\" class=\"edge\">\n<title>1&#45;&gt;111</title>\n<path fill=\"none\" stroke=\"#000000\" d=\"M4440,-963.7971C4440,-955.7887 4440,-946.8597 4440,-938.3198\"/>\n<polygon fill=\"#000000\" stroke=\"#000000\" points=\"4443.5001,-938.1841 4440,-928.1841 4436.5001,-938.1841 4443.5001,-938.1841\"/>\n</g>\n<!-- 3 -->\n<g id=\"node4\" class=\"node\">\n<title>3</title>\n<polygon fill=\"#e68540\" stroke=\"#000000\" points=\"2703,-839 2571,-839 2571,-786 2703,-786 2703,-839\"/>\n<text text-anchor=\"middle\" x=\"2637\" y=\"-823.8\" font-family=\"Times,serif\" font-size=\"14.00\" fill=\"#000000\">X[75] &lt;= 0.276</text>\n<text text-anchor=\"middle\" x=\"2637\" y=\"-808.8\" font-family=\"Times,serif\" font-size=\"14.00\" fill=\"#000000\">samples = 5201</text>\n<text text-anchor=\"middle\" x=\"2637\" y=\"-793.8\" font-family=\"Times,serif\" font-size=\"14.00\" fill=\"#000000\">value = [5034, 167]</text>\n</g>\n<!-- 2&#45;&gt;3 -->\n<g id=\"edge3\" class=\"edge\">\n<title>2&#45;&gt;3</title>\n<path fill=\"none\" stroke=\"#000000\" d=\"M3423.7763,-894.5904C3267.9201,-878.3287 2878.6603,-837.7143 2713.2712,-820.458\"/>\n<polygon fill=\"#000000\" stroke=\"#000000\" points=\"2713.4908,-816.962 2703.1815,-819.4052 2712.7643,-823.9242 2713.4908,-816.962\"/>\n</g>\n<!-- 90 -->\n<g id=\"node91\" class=\"node\">\n<title>90</title>\n<polygon fill=\"#5baee9\" stroke=\"#000000\" points=\"3548.5,-839 3431.5,-839 3431.5,-786 3548.5,-786 3548.5,-839\"/>\n<text text-anchor=\"middle\" x=\"3490\" y=\"-823.8\" font-family=\"Times,serif\" font-size=\"14.00\" fill=\"#000000\">X[89] &lt;= 0.069</text>\n<text text-anchor=\"middle\" x=\"3490\" y=\"-808.8\" font-family=\"Times,serif\" font-size=\"14.00\" fill=\"#000000\">samples = 234</text>\n<text text-anchor=\"middle\" x=\"3490\" y=\"-793.8\" font-family=\"Times,serif\" font-size=\"14.00\" fill=\"#000000\">value = [34, 200]</text>\n</g>\n<!-- 2&#45;&gt;90 -->\n<g id=\"edge90\" class=\"edge\">\n<title>2&#45;&gt;90</title>\n<path fill=\"none\" stroke=\"#000000\" d=\"M3490,-874.7971C3490,-866.7887 3490,-857.8597 3490,-849.3198\"/>\n<polygon fill=\"#000000\" stroke=\"#000000\" points=\"3493.5001,-849.1841 3490,-839.1841 3486.5001,-849.1841 3493.5001,-849.1841\"/>\n</g>\n<!-- 4 -->\n<g id=\"node5\" class=\"node\">\n<title>4</title>\n<polygon fill=\"#e5833d\" stroke=\"#000000\" points=\"2255.5,-750 2130.5,-750 2130.5,-697 2255.5,-697 2255.5,-750\"/>\n<text text-anchor=\"middle\" x=\"2193\" y=\"-734.8\" font-family=\"Times,serif\" font-size=\"14.00\" fill=\"#000000\">X[94] &lt;= 0.033</text>\n<text text-anchor=\"middle\" x=\"2193\" y=\"-719.8\" font-family=\"Times,serif\" font-size=\"14.00\" fill=\"#000000\">samples = 5016</text>\n<text text-anchor=\"middle\" x=\"2193\" y=\"-704.8\" font-family=\"Times,serif\" font-size=\"14.00\" fill=\"#000000\">value = [4928, 88]</text>\n</g>\n<!-- 3&#45;&gt;4 -->\n<g id=\"edge4\" class=\"edge\">\n<title>3&#45;&gt;4</title>\n<path fill=\"none\" stroke=\"#000000\" d=\"M2570.5287,-799.1758C2488.7005,-782.7733 2350.2182,-755.0145 2265.6522,-738.0632\"/>\n<polygon fill=\"#000000\" stroke=\"#000000\" points=\"2266.1069,-734.5848 2255.614,-736.051 2264.731,-741.4482 2266.1069,-734.5848\"/>\n</g>\n<!-- 71 -->\n<g id=\"node72\" class=\"node\">\n<title>71</title>\n<polygon fill=\"#f8dfcd\" stroke=\"#000000\" points=\"2695.5,-750 2578.5,-750 2578.5,-697 2695.5,-697 2695.5,-750\"/>\n<text text-anchor=\"middle\" x=\"2637\" y=\"-734.8\" font-family=\"Times,serif\" font-size=\"14.00\" fill=\"#000000\">X[170] &lt;= 0.202</text>\n<text text-anchor=\"middle\" x=\"2637\" y=\"-719.8\" font-family=\"Times,serif\" font-size=\"14.00\" fill=\"#000000\">samples = 185</text>\n<text text-anchor=\"middle\" x=\"2637\" y=\"-704.8\" font-family=\"Times,serif\" font-size=\"14.00\" fill=\"#000000\">value = [106, 79]</text>\n</g>\n<!-- 3&#45;&gt;71 -->\n<g id=\"edge71\" class=\"edge\">\n<title>3&#45;&gt;71</title>\n<path fill=\"none\" stroke=\"#000000\" d=\"M2637,-785.7971C2637,-777.7887 2637,-768.8597 2637,-760.3198\"/>\n<polygon fill=\"#000000\" stroke=\"#000000\" points=\"2640.5001,-760.1841 2637,-750.1841 2633.5001,-760.1841 2640.5001,-760.1841\"/>\n</g>\n<!-- 5 -->\n<g id=\"node6\" class=\"node\">\n<title>5</title>\n<polygon fill=\"#e5823b\" stroke=\"#000000\" points=\"1889.5,-661 1764.5,-661 1764.5,-608 1889.5,-608 1889.5,-661\"/>\n<text text-anchor=\"middle\" x=\"1827\" y=\"-645.8\" font-family=\"Times,serif\" font-size=\"14.00\" fill=\"#000000\">X[90] &lt;= 0.029</text>\n<text text-anchor=\"middle\" x=\"1827\" y=\"-630.8\" font-family=\"Times,serif\" font-size=\"14.00\" fill=\"#000000\">samples = 4962</text>\n<text text-anchor=\"middle\" x=\"1827\" y=\"-615.8\" font-family=\"Times,serif\" font-size=\"14.00\" fill=\"#000000\">value = [4905, 57]</text>\n</g>\n<!-- 4&#45;&gt;5 -->\n<g id=\"edge5\" class=\"edge\">\n<title>4&#45;&gt;5</title>\n<path fill=\"none\" stroke=\"#000000\" d=\"M2130.4982,-708.3015C2066.5097,-692.7414 1967.1378,-668.5772 1899.6778,-652.173\"/>\n<polygon fill=\"#000000\" stroke=\"#000000\" points=\"1900.0939,-648.6723 1889.5501,-649.7103 1898.4399,-655.4741 1900.0939,-648.6723\"/>\n</g>\n<!-- 62 -->\n<g id=\"node63\" class=\"node\">\n<title>62</title>\n<polygon fill=\"#cce6f8\" stroke=\"#000000\" points=\"2251,-661 2135,-661 2135,-608 2251,-608 2251,-661\"/>\n<text text-anchor=\"middle\" x=\"2193\" y=\"-645.8\" font-family=\"Times,serif\" font-size=\"14.00\" fill=\"#000000\">X[141] &lt;= 0.004</text>\n<text text-anchor=\"middle\" x=\"2193\" y=\"-630.8\" font-family=\"Times,serif\" font-size=\"14.00\" fill=\"#000000\">samples = 54</text>\n<text text-anchor=\"middle\" x=\"2193\" y=\"-615.8\" font-family=\"Times,serif\" font-size=\"14.00\" fill=\"#000000\">value = [23, 31]</text>\n</g>\n<!-- 4&#45;&gt;62 -->\n<g id=\"edge62\" class=\"edge\">\n<title>4&#45;&gt;62</title>\n<path fill=\"none\" stroke=\"#000000\" d=\"M2193,-696.7971C2193,-688.7887 2193,-679.8597 2193,-671.3198\"/>\n<polygon fill=\"#000000\" stroke=\"#000000\" points=\"2196.5001,-671.1841 2193,-661.1841 2189.5001,-671.1841 2196.5001,-671.1841\"/>\n</g>\n<!-- 6 -->\n<g id=\"node7\" class=\"node\">\n<title>6</title>\n<polygon fill=\"#e5813a\" stroke=\"#000000\" points=\"1141.5,-572 1016.5,-572 1016.5,-519 1141.5,-519 1141.5,-572\"/>\n<text text-anchor=\"middle\" x=\"1079\" y=\"-556.8\" font-family=\"Times,serif\" font-size=\"14.00\" fill=\"#000000\">X[218] &lt;= 0.155</text>\n<text text-anchor=\"middle\" x=\"1079\" y=\"-541.8\" font-family=\"Times,serif\" font-size=\"14.00\" fill=\"#000000\">samples = 4201</text>\n<text text-anchor=\"middle\" x=\"1079\" y=\"-526.8\" font-family=\"Times,serif\" font-size=\"14.00\" fill=\"#000000\">value = [4187, 14]</text>\n</g>\n<!-- 5&#45;&gt;6 -->\n<g id=\"edge6\" class=\"edge\">\n<title>5&#45;&gt;6</title>\n<path fill=\"none\" stroke=\"#000000\" d=\"M1764.1919,-627.0268C1626.3923,-610.6309 1298.1845,-571.5794 1151.7283,-554.1535\"/>\n<polygon fill=\"#000000\" stroke=\"#000000\" points=\"1151.8462,-550.6429 1141.5027,-552.9368 1151.0191,-557.5939 1151.8462,-550.6429\"/>\n</g>\n<!-- 33 -->\n<g id=\"node34\" class=\"node\">\n<title>33</title>\n<polygon fill=\"#e78945\" stroke=\"#000000\" points=\"1885.5,-572 1768.5,-572 1768.5,-519 1885.5,-519 1885.5,-572\"/>\n<text text-anchor=\"middle\" x=\"1827\" y=\"-556.8\" font-family=\"Times,serif\" font-size=\"14.00\" fill=\"#000000\">X[155] &lt;= 0.122</text>\n<text text-anchor=\"middle\" x=\"1827\" y=\"-541.8\" font-family=\"Times,serif\" font-size=\"14.00\" fill=\"#000000\">samples = 761</text>\n<text text-anchor=\"middle\" x=\"1827\" y=\"-526.8\" font-family=\"Times,serif\" font-size=\"14.00\" fill=\"#000000\">value = [718, 43]</text>\n</g>\n<!-- 5&#45;&gt;33 -->\n<g id=\"edge33\" class=\"edge\">\n<title>5&#45;&gt;33</title>\n<path fill=\"none\" stroke=\"#000000\" d=\"M1827,-607.7971C1827,-599.7887 1827,-590.8597 1827,-582.3198\"/>\n<polygon fill=\"#000000\" stroke=\"#000000\" points=\"1830.5001,-582.1841 1827,-572.1841 1823.5001,-582.1841 1830.5001,-582.1841\"/>\n</g>\n<!-- 7 -->\n<g id=\"node8\" class=\"node\">\n<title>7</title>\n<polygon fill=\"#e58139\" stroke=\"#000000\" points=\"793.5,-483 676.5,-483 676.5,-430 793.5,-430 793.5,-483\"/>\n<text text-anchor=\"middle\" x=\"735\" y=\"-467.8\" font-family=\"Times,serif\" font-size=\"14.00\" fill=\"#000000\">X[133] &lt;= 0.025</text>\n<text text-anchor=\"middle\" x=\"735\" y=\"-452.8\" font-family=\"Times,serif\" font-size=\"14.00\" fill=\"#000000\">samples = 4165</text>\n<text text-anchor=\"middle\" x=\"735\" y=\"-437.8\" font-family=\"Times,serif\" font-size=\"14.00\" fill=\"#000000\">value = [4156, 9]</text>\n</g>\n<!-- 6&#45;&gt;7 -->\n<g id=\"edge7\" class=\"edge\">\n<title>6&#45;&gt;7</title>\n<path fill=\"none\" stroke=\"#000000\" d=\"M1016.3051,-529.2795C956.0612,-513.6932 865.2701,-490.2036 803.2351,-474.1539\"/>\n<polygon fill=\"#000000\" stroke=\"#000000\" points=\"804.0928,-470.7606 793.5349,-471.6442 802.3395,-477.5375 804.0928,-470.7606\"/>\n</g>\n<!-- 26 -->\n<g id=\"node27\" class=\"node\">\n<title>26</title>\n<polygon fill=\"#e99559\" stroke=\"#000000\" points=\"1133.5,-483 1024.5,-483 1024.5,-430 1133.5,-430 1133.5,-483\"/>\n<text text-anchor=\"middle\" x=\"1079\" y=\"-467.8\" font-family=\"Times,serif\" font-size=\"14.00\" fill=\"#000000\">X[165] &lt;= 0.02</text>\n<text text-anchor=\"middle\" x=\"1079\" y=\"-452.8\" font-family=\"Times,serif\" font-size=\"14.00\" fill=\"#000000\">samples = 36</text>\n<text text-anchor=\"middle\" x=\"1079\" y=\"-437.8\" font-family=\"Times,serif\" font-size=\"14.00\" fill=\"#000000\">value = [31, 5]</text>\n</g>\n<!-- 6&#45;&gt;26 -->\n<g id=\"edge26\" class=\"edge\">\n<title>6&#45;&gt;26</title>\n<path fill=\"none\" stroke=\"#000000\" d=\"M1079,-518.7971C1079,-510.7887 1079,-501.8597 1079,-493.3198\"/>\n<polygon fill=\"#000000\" stroke=\"#000000\" points=\"1082.5001,-493.1841 1079,-483.1841 1075.5001,-493.1841 1082.5001,-493.1841\"/>\n</g>\n<!-- 8 -->\n<g id=\"node9\" class=\"node\">\n<title>8</title>\n<polygon fill=\"#e6843d\" stroke=\"#000000\" points=\"545,-394 429,-394 429,-341 545,-341 545,-394\"/>\n<text text-anchor=\"middle\" x=\"487\" y=\"-378.8\" font-family=\"Times,serif\" font-size=\"14.00\" fill=\"#000000\">X[136] &lt;= 0.961</text>\n<text text-anchor=\"middle\" x=\"487\" y=\"-363.8\" font-family=\"Times,serif\" font-size=\"14.00\" fill=\"#000000\">samples = 338</text>\n<text text-anchor=\"middle\" x=\"487\" y=\"-348.8\" font-family=\"Times,serif\" font-size=\"14.00\" fill=\"#000000\">value = [331, 7]</text>\n</g>\n<!-- 7&#45;&gt;8 -->\n<g id=\"edge8\" class=\"edge\">\n<title>7&#45;&gt;8</title>\n<path fill=\"none\" stroke=\"#000000\" d=\"M676.2275,-435.4082C639.7828,-422.3293 592.8292,-405.479 554.8118,-391.8357\"/>\n<polygon fill=\"#000000\" stroke=\"#000000\" points=\"555.9452,-388.5239 545.3507,-388.4404 553.5807,-395.1125 555.9452,-388.5239\"/>\n</g>\n<!-- 19 -->\n<g id=\"node20\" class=\"node\">\n<title>19</title>\n<polygon fill=\"#e58139\" stroke=\"#000000\" points=\"793.5,-394 676.5,-394 676.5,-341 793.5,-341 793.5,-394\"/>\n<text text-anchor=\"middle\" x=\"735\" y=\"-378.8\" font-family=\"Times,serif\" font-size=\"14.00\" fill=\"#000000\">X[76] &lt;= 0.867</text>\n<text text-anchor=\"middle\" x=\"735\" y=\"-363.8\" font-family=\"Times,serif\" font-size=\"14.00\" fill=\"#000000\">samples = 3827</text>\n<text text-anchor=\"middle\" x=\"735\" y=\"-348.8\" font-family=\"Times,serif\" font-size=\"14.00\" fill=\"#000000\">value = [3825, 2]</text>\n</g>\n<!-- 7&#45;&gt;19 -->\n<g id=\"edge19\" class=\"edge\">\n<title>7&#45;&gt;19</title>\n<path fill=\"none\" stroke=\"#000000\" d=\"M735,-429.7971C735,-421.7887 735,-412.8597 735,-404.3198\"/>\n<polygon fill=\"#000000\" stroke=\"#000000\" points=\"738.5001,-404.1841 735,-394.1841 731.5001,-404.1841 738.5001,-404.1841\"/>\n</g>\n<!-- 9 -->\n<g id=\"node10\" class=\"node\">\n<title>9</title>\n<polygon fill=\"#e5823b\" stroke=\"#000000\" points=\"359,-305 249,-305 249,-252 359,-252 359,-305\"/>\n<text text-anchor=\"middle\" x=\"304\" y=\"-289.8\" font-family=\"Times,serif\" font-size=\"14.00\" fill=\"#000000\">X[67] &lt;= 0.092</text>\n<text text-anchor=\"middle\" x=\"304\" y=\"-274.8\" font-family=\"Times,serif\" font-size=\"14.00\" fill=\"#000000\">samples = 324</text>\n<text text-anchor=\"middle\" x=\"304\" y=\"-259.8\" font-family=\"Times,serif\" font-size=\"14.00\" fill=\"#000000\">value = [321, 3]</text>\n</g>\n<!-- 8&#45;&gt;9 -->\n<g id=\"edge9\" class=\"edge\">\n<title>8&#45;&gt;9</title>\n<path fill=\"none\" stroke=\"#000000\" d=\"M432.094,-340.7971C411.8262,-330.94 388.6904,-319.6882 367.7087,-309.484\"/>\n<polygon fill=\"#000000\" stroke=\"#000000\" points=\"369.0754,-306.2568 358.5517,-305.0306 366.0138,-312.5518 369.0754,-306.2568\"/>\n</g>\n<!-- 16 -->\n<g id=\"node17\" class=\"node\">\n<title>16</title>\n<polygon fill=\"#efb388\" stroke=\"#000000\" points=\"545,-305 429,-305 429,-252 545,-252 545,-305\"/>\n<text text-anchor=\"middle\" x=\"487\" y=\"-289.8\" font-family=\"Times,serif\" font-size=\"14.00\" fill=\"#000000\">X[183] &lt;= 0.688</text>\n<text text-anchor=\"middle\" x=\"487\" y=\"-274.8\" font-family=\"Times,serif\" font-size=\"14.00\" fill=\"#000000\">samples = 14</text>\n<text text-anchor=\"middle\" x=\"487\" y=\"-259.8\" font-family=\"Times,serif\" font-size=\"14.00\" fill=\"#000000\">value = [10, 4]</text>\n</g>\n<!-- 8&#45;&gt;16 -->\n<g id=\"edge16\" class=\"edge\">\n<title>8&#45;&gt;16</title>\n<path fill=\"none\" stroke=\"#000000\" d=\"M487,-340.7971C487,-332.7887 487,-323.8597 487,-315.3198\"/>\n<polygon fill=\"#000000\" stroke=\"#000000\" points=\"490.5001,-315.1841 487,-305.1841 483.5001,-315.1841 490.5001,-315.1841\"/>\n</g>\n<!-- 10 -->\n<g id=\"node11\" class=\"node\">\n<title>10</title>\n<polygon fill=\"#e5813a\" stroke=\"#000000\" points=\"228,-216 112,-216 112,-163 228,-163 228,-216\"/>\n<text text-anchor=\"middle\" x=\"170\" y=\"-200.8\" font-family=\"Times,serif\" font-size=\"14.00\" fill=\"#000000\">X[121] &lt;= 0.998</text>\n<text text-anchor=\"middle\" x=\"170\" y=\"-185.8\" font-family=\"Times,serif\" font-size=\"14.00\" fill=\"#000000\">samples = 317</text>\n<text text-anchor=\"middle\" x=\"170\" y=\"-170.8\" font-family=\"Times,serif\" font-size=\"14.00\" fill=\"#000000\">value = [316, 1]</text>\n</g>\n<!-- 9&#45;&gt;10 -->\n<g id=\"edge10\" class=\"edge\">\n<title>9&#45;&gt;10</title>\n<path fill=\"none\" stroke=\"#000000\" d=\"M263.7956,-251.7971C249.6181,-242.3807 233.5241,-231.6914 218.7195,-221.8585\"/>\n<polygon fill=\"#000000\" stroke=\"#000000\" points=\"220.4426,-218.8013 210.176,-216.1841 216.5697,-224.6323 220.4426,-218.8013\"/>\n</g>\n<!-- 13 -->\n<g id=\"node14\" class=\"node\">\n<title>13</title>\n<polygon fill=\"#efb388\" stroke=\"#000000\" points=\"362,-216 246,-216 246,-163 362,-163 362,-216\"/>\n<text text-anchor=\"middle\" x=\"304\" y=\"-200.8\" font-family=\"Times,serif\" font-size=\"14.00\" fill=\"#000000\">X[120] &lt;= 0.455</text>\n<text text-anchor=\"middle\" x=\"304\" y=\"-185.8\" font-family=\"Times,serif\" font-size=\"14.00\" fill=\"#000000\">samples = 7</text>\n<text text-anchor=\"middle\" x=\"304\" y=\"-170.8\" font-family=\"Times,serif\" font-size=\"14.00\" fill=\"#000000\">value = [5, 2]</text>\n</g>\n<!-- 9&#45;&gt;13 -->\n<g id=\"edge13\" class=\"edge\">\n<title>9&#45;&gt;13</title>\n<path fill=\"none\" stroke=\"#000000\" d=\"M304,-251.7971C304,-243.7887 304,-234.8597 304,-226.3198\"/>\n<polygon fill=\"#000000\" stroke=\"#000000\" points=\"307.5001,-226.1841 304,-216.1841 300.5001,-226.1841 307.5001,-226.1841\"/>\n</g>\n<!-- 11 -->\n<g id=\"node12\" class=\"node\">\n<title>11</title>\n<polygon fill=\"#e58139\" stroke=\"#000000\" points=\"110,-119.5 0,-119.5 0,-81.5 110,-81.5 110,-119.5\"/>\n<text text-anchor=\"middle\" x=\"55\" y=\"-104.3\" font-family=\"Times,serif\" font-size=\"14.00\" fill=\"#000000\">samples = 316</text>\n<text text-anchor=\"middle\" x=\"55\" y=\"-89.3\" font-family=\"Times,serif\" font-size=\"14.00\" fill=\"#000000\">value = [316, 0]</text>\n</g>\n<!-- 10&#45;&gt;11 -->\n<g id=\"edge11\" class=\"edge\">\n<title>10&#45;&gt;11</title>\n<path fill=\"none\" stroke=\"#000000\" d=\"M135.4962,-162.7971C120.3125,-151.0462 102.5673,-137.313 87.6078,-125.7356\"/>\n<polygon fill=\"#000000\" stroke=\"#000000\" points=\"89.6679,-122.9042 79.6175,-119.5518 85.3837,-128.4401 89.6679,-122.9042\"/>\n</g>\n<!-- 12 -->\n<g id=\"node13\" class=\"node\">\n<title>12</title>\n<polygon fill=\"#399de5\" stroke=\"#000000\" points=\"223.5,-119.5 128.5,-119.5 128.5,-81.5 223.5,-81.5 223.5,-119.5\"/>\n<text text-anchor=\"middle\" x=\"176\" y=\"-104.3\" font-family=\"Times,serif\" font-size=\"14.00\" fill=\"#000000\">samples = 1</text>\n<text text-anchor=\"middle\" x=\"176\" y=\"-89.3\" font-family=\"Times,serif\" font-size=\"14.00\" fill=\"#000000\">value = [0, 1]</text>\n</g>\n<!-- 10&#45;&gt;12 -->\n<g id=\"edge12\" class=\"edge\">\n<title>10&#45;&gt;12</title>\n<path fill=\"none\" stroke=\"#000000\" d=\"M171.8002,-162.7971C172.5044,-152.3518 173.3141,-140.3403 174.0336,-129.6689\"/>\n<polygon fill=\"#000000\" stroke=\"#000000\" points=\"177.535,-129.7646 174.7156,-119.5518 170.5508,-129.2937 177.535,-129.7646\"/>\n</g>\n<!-- 14 -->\n<g id=\"node15\" class=\"node\">\n<title>14</title>\n<polygon fill=\"#e58139\" stroke=\"#000000\" points=\"346.5,-119.5 251.5,-119.5 251.5,-81.5 346.5,-81.5 346.5,-119.5\"/>\n<text text-anchor=\"middle\" x=\"299\" y=\"-104.3\" font-family=\"Times,serif\" font-size=\"14.00\" fill=\"#000000\">samples = 5</text>\n<text text-anchor=\"middle\" x=\"299\" y=\"-89.3\" font-family=\"Times,serif\" font-size=\"14.00\" fill=\"#000000\">value = [5, 0]</text>\n</g>\n<!-- 13&#45;&gt;14 -->\n<g id=\"edge14\" class=\"edge\">\n<title>13&#45;&gt;14</title>\n<path fill=\"none\" stroke=\"#000000\" d=\"M302.4998,-162.7971C301.913,-152.3518 301.2382,-140.3403 300.6387,-129.6689\"/>\n<polygon fill=\"#000000\" stroke=\"#000000\" points=\"304.1258,-129.3397 300.0703,-119.5518 297.1368,-129.7324 304.1258,-129.3397\"/>\n</g>\n<!-- 15 -->\n<g id=\"node16\" class=\"node\">\n<title>15</title>\n<polygon fill=\"#399de5\" stroke=\"#000000\" points=\"459.5,-119.5 364.5,-119.5 364.5,-81.5 459.5,-81.5 459.5,-119.5\"/>\n<text text-anchor=\"middle\" x=\"412\" y=\"-104.3\" font-family=\"Times,serif\" font-size=\"14.00\" fill=\"#000000\">samples = 2</text>\n<text text-anchor=\"middle\" x=\"412\" y=\"-89.3\" font-family=\"Times,serif\" font-size=\"14.00\" fill=\"#000000\">value = [0, 2]</text>\n</g>\n<!-- 13&#45;&gt;15 -->\n<g id=\"edge15\" class=\"edge\">\n<title>13&#45;&gt;15</title>\n<path fill=\"none\" stroke=\"#000000\" d=\"M336.4036,-162.7971C350.531,-151.155 367.0197,-137.5671 380.9861,-126.0577\"/>\n<polygon fill=\"#000000\" stroke=\"#000000\" points=\"383.3896,-128.6124 388.881,-119.5518 378.9379,-123.2103 383.3896,-128.6124\"/>\n</g>\n<!-- 17 -->\n<g id=\"node18\" class=\"node\">\n<title>17</title>\n<polygon fill=\"#399de5\" stroke=\"#000000\" points=\"475.5,-208.5 380.5,-208.5 380.5,-170.5 475.5,-170.5 475.5,-208.5\"/>\n<text text-anchor=\"middle\" x=\"428\" y=\"-193.3\" font-family=\"Times,serif\" font-size=\"14.00\" fill=\"#000000\">samples = 4</text>\n<text text-anchor=\"middle\" x=\"428\" y=\"-178.3\" font-family=\"Times,serif\" font-size=\"14.00\" fill=\"#000000\">value = [0, 4]</text>\n</g>\n<!-- 16&#45;&gt;17 -->\n<g id=\"edge17\" class=\"edge\">\n<title>16&#45;&gt;17</title>\n<path fill=\"none\" stroke=\"#000000\" d=\"M469.2981,-251.7971C462.013,-240.8078 453.5787,-228.0849 446.2388,-217.0128\"/>\n<polygon fill=\"#000000\" stroke=\"#000000\" points=\"449.0725,-214.9528 440.6298,-208.5518 443.238,-218.8206 449.0725,-214.9528\"/>\n</g>\n<!-- 18 -->\n<g id=\"node19\" class=\"node\">\n<title>18</title>\n<polygon fill=\"#e58139\" stroke=\"#000000\" points=\"596,-208.5 494,-208.5 494,-170.5 596,-170.5 596,-208.5\"/>\n<text text-anchor=\"middle\" x=\"545\" y=\"-193.3\" font-family=\"Times,serif\" font-size=\"14.00\" fill=\"#000000\">samples = 10</text>\n<text text-anchor=\"middle\" x=\"545\" y=\"-178.3\" font-family=\"Times,serif\" font-size=\"14.00\" fill=\"#000000\">value = [10, 0]</text>\n</g>\n<!-- 16&#45;&gt;18 -->\n<g id=\"edge18\" class=\"edge\">\n<title>16&#45;&gt;18</title>\n<path fill=\"none\" stroke=\"#000000\" d=\"M504.4019,-251.7971C511.5635,-240.8078 519.8548,-228.0849 527.0703,-217.0128\"/>\n<polygon fill=\"#000000\" stroke=\"#000000\" points=\"530.0567,-218.8407 532.5842,-208.5518 524.1921,-215.0188 530.0567,-218.8407\"/>\n</g>\n<!-- 20 -->\n<g id=\"node21\" class=\"node\">\n<title>20</title>\n<polygon fill=\"#e58139\" stroke=\"#000000\" points=\"731.5,-305 614.5,-305 614.5,-252 731.5,-252 731.5,-305\"/>\n<text text-anchor=\"middle\" x=\"673\" y=\"-289.8\" font-family=\"Times,serif\" font-size=\"14.00\" fill=\"#000000\">X[104] &lt;= 0.873</text>\n<text text-anchor=\"middle\" x=\"673\" y=\"-274.8\" font-family=\"Times,serif\" font-size=\"14.00\" fill=\"#000000\">samples = 3826</text>\n<text text-anchor=\"middle\" x=\"673\" y=\"-259.8\" font-family=\"Times,serif\" font-size=\"14.00\" fill=\"#000000\">value = [3825, 1]</text>\n</g>\n<!-- 19&#45;&gt;20 -->\n<g id=\"edge20\" class=\"edge\">\n<title>19&#45;&gt;20</title>\n<path fill=\"none\" stroke=\"#000000\" d=\"M716.398,-340.7971C710.4513,-332.2607 703.7759,-322.6782 697.4768,-313.6361\"/>\n<polygon fill=\"#000000\" stroke=\"#000000\" points=\"700.1769,-311.3888 691.5889,-305.1841 694.4331,-315.39 700.1769,-311.3888\"/>\n</g>\n<!-- 25 -->\n<g id=\"node26\" class=\"node\">\n<title>25</title>\n<polygon fill=\"#399de5\" stroke=\"#000000\" points=\"844.5,-297.5 749.5,-297.5 749.5,-259.5 844.5,-259.5 844.5,-297.5\"/>\n<text text-anchor=\"middle\" x=\"797\" y=\"-282.3\" font-family=\"Times,serif\" font-size=\"14.00\" fill=\"#000000\">samples = 1</text>\n<text text-anchor=\"middle\" x=\"797\" y=\"-267.3\" font-family=\"Times,serif\" font-size=\"14.00\" fill=\"#000000\">value = [0, 1]</text>\n</g>\n<!-- 19&#45;&gt;25 -->\n<g id=\"edge25\" class=\"edge\">\n<title>19&#45;&gt;25</title>\n<path fill=\"none\" stroke=\"#000000\" d=\"M753.602,-340.7971C761.2575,-329.8078 770.1206,-317.0849 777.8338,-306.0128\"/>\n<polygon fill=\"#000000\" stroke=\"#000000\" points=\"780.8837,-307.7577 783.728,-297.5518 775.14,-303.7565 780.8837,-307.7577\"/>\n</g>\n<!-- 21 -->\n<g id=\"node22\" class=\"node\">\n<title>21</title>\n<polygon fill=\"#e58139\" stroke=\"#000000\" points=\"731.5,-208.5 614.5,-208.5 614.5,-170.5 731.5,-170.5 731.5,-208.5\"/>\n<text text-anchor=\"middle\" x=\"673\" y=\"-193.3\" font-family=\"Times,serif\" font-size=\"14.00\" fill=\"#000000\">samples = 3798</text>\n<text text-anchor=\"middle\" x=\"673\" y=\"-178.3\" font-family=\"Times,serif\" font-size=\"14.00\" fill=\"#000000\">value = [3798, 0]</text>\n</g>\n<!-- 20&#45;&gt;21 -->\n<g id=\"edge21\" class=\"edge\">\n<title>20&#45;&gt;21</title>\n<path fill=\"none\" stroke=\"#000000\" d=\"M673,-251.7971C673,-241.3518 673,-229.3403 673,-218.6689\"/>\n<polygon fill=\"#000000\" stroke=\"#000000\" points=\"676.5001,-218.5517 673,-208.5518 669.5001,-218.5518 676.5001,-218.5517\"/>\n</g>\n<!-- 22 -->\n<g id=\"node23\" class=\"node\">\n<title>22</title>\n<polygon fill=\"#e68640\" stroke=\"#000000\" points=\"866,-216 750,-216 750,-163 866,-163 866,-216\"/>\n<text text-anchor=\"middle\" x=\"808\" y=\"-200.8\" font-family=\"Times,serif\" font-size=\"14.00\" fill=\"#000000\">X[182] &lt;= 0.243</text>\n<text text-anchor=\"middle\" x=\"808\" y=\"-185.8\" font-family=\"Times,serif\" font-size=\"14.00\" fill=\"#000000\">samples = 28</text>\n<text text-anchor=\"middle\" x=\"808\" y=\"-170.8\" font-family=\"Times,serif\" font-size=\"14.00\" fill=\"#000000\">value = [27, 1]</text>\n</g>\n<!-- 20&#45;&gt;22 -->\n<g id=\"edge22\" class=\"edge\">\n<title>20&#45;&gt;22</title>\n<path fill=\"none\" stroke=\"#000000\" d=\"M713.5045,-251.7971C727.7878,-242.3807 744.0019,-231.6914 758.9169,-221.8585\"/>\n<polygon fill=\"#000000\" stroke=\"#000000\" points=\"761.1016,-224.6104 767.5241,-216.1841 757.2487,-218.7661 761.1016,-224.6104\"/>\n</g>\n<!-- 23 -->\n<g id=\"node24\" class=\"node\">\n<title>23</title>\n<polygon fill=\"#399de5\" stroke=\"#000000\" points=\"796.5,-119.5 701.5,-119.5 701.5,-81.5 796.5,-81.5 796.5,-119.5\"/>\n<text text-anchor=\"middle\" x=\"749\" y=\"-104.3\" font-family=\"Times,serif\" font-size=\"14.00\" fill=\"#000000\">samples = 1</text>\n<text text-anchor=\"middle\" x=\"749\" y=\"-89.3\" font-family=\"Times,serif\" font-size=\"14.00\" fill=\"#000000\">value = [0, 1]</text>\n</g>\n<!-- 22&#45;&gt;23 -->\n<g id=\"edge23\" class=\"edge\">\n<title>22&#45;&gt;23</title>\n<path fill=\"none\" stroke=\"#000000\" d=\"M790.2981,-162.7971C783.013,-151.8078 774.5787,-139.0849 767.2388,-128.0128\"/>\n<polygon fill=\"#000000\" stroke=\"#000000\" points=\"770.0725,-125.9528 761.6298,-119.5518 764.238,-129.8206 770.0725,-125.9528\"/>\n</g>\n<!-- 24 -->\n<g id=\"node25\" class=\"node\">\n<title>24</title>\n<polygon fill=\"#e58139\" stroke=\"#000000\" points=\"917,-119.5 815,-119.5 815,-81.5 917,-81.5 917,-119.5\"/>\n<text text-anchor=\"middle\" x=\"866\" y=\"-104.3\" font-family=\"Times,serif\" font-size=\"14.00\" fill=\"#000000\">samples = 27</text>\n<text text-anchor=\"middle\" x=\"866\" y=\"-89.3\" font-family=\"Times,serif\" font-size=\"14.00\" fill=\"#000000\">value = [27, 0]</text>\n</g>\n<!-- 22&#45;&gt;24 -->\n<g id=\"edge24\" class=\"edge\">\n<title>22&#45;&gt;24</title>\n<path fill=\"none\" stroke=\"#000000\" d=\"M825.4019,-162.7971C832.5635,-151.8078 840.8548,-139.0849 848.0703,-128.0128\"/>\n<polygon fill=\"#000000\" stroke=\"#000000\" points=\"851.0567,-129.8407 853.5842,-119.5518 845.1921,-126.0188 851.0567,-129.8407\"/>\n</g>\n<!-- 27 -->\n<g id=\"node28\" class=\"node\">\n<title>27</title>\n<polygon fill=\"#6ab6ec\" stroke=\"#000000\" points=\"1066.5,-394 965.5,-394 965.5,-341 1066.5,-341 1066.5,-394\"/>\n<text text-anchor=\"middle\" x=\"1016\" y=\"-378.8\" font-family=\"Times,serif\" font-size=\"14.00\" fill=\"#000000\">X[84] &lt;= 0.09</text>\n<text text-anchor=\"middle\" x=\"1016\" y=\"-363.8\" font-family=\"Times,serif\" font-size=\"14.00\" fill=\"#000000\">samples = 5</text>\n<text text-anchor=\"middle\" x=\"1016\" y=\"-348.8\" font-family=\"Times,serif\" font-size=\"14.00\" fill=\"#000000\">value = [1, 4]</text>\n</g>\n<!-- 26&#45;&gt;27 -->\n<g id=\"edge27\" class=\"edge\">\n<title>26&#45;&gt;27</title>\n<path fill=\"none\" stroke=\"#000000\" d=\"M1060.0979,-429.7971C1053.993,-421.1727 1047.1323,-411.4806 1040.6738,-402.3566\"/>\n<polygon fill=\"#000000\" stroke=\"#000000\" points=\"1043.5231,-400.324 1034.8887,-394.1841 1037.8097,-404.3683 1043.5231,-400.324\"/>\n</g>\n<!-- 30 -->\n<g id=\"node31\" class=\"node\">\n<title>30</title>\n<polygon fill=\"#e68540\" stroke=\"#000000\" points=\"1201,-394 1085,-394 1085,-341 1201,-341 1201,-394\"/>\n<text text-anchor=\"middle\" x=\"1143\" y=\"-378.8\" font-family=\"Times,serif\" font-size=\"14.00\" fill=\"#000000\">X[166] &lt;= 0.045</text>\n<text text-anchor=\"middle\" x=\"1143\" y=\"-363.8\" font-family=\"Times,serif\" font-size=\"14.00\" fill=\"#000000\">samples = 31</text>\n<text text-anchor=\"middle\" x=\"1143\" y=\"-348.8\" font-family=\"Times,serif\" font-size=\"14.00\" fill=\"#000000\">value = [30, 1]</text>\n</g>\n<!-- 26&#45;&gt;30 -->\n<g id=\"edge30\" class=\"edge\">\n<title>26&#45;&gt;30</title>\n<path fill=\"none\" stroke=\"#000000\" d=\"M1098.2021,-429.7971C1104.4039,-421.1727 1111.3735,-411.4806 1117.9346,-402.3566\"/>\n<polygon fill=\"#000000\" stroke=\"#000000\" points=\"1120.8147,-404.3463 1123.8114,-394.1841 1115.1316,-400.2595 1120.8147,-404.3463\"/>\n</g>\n<!-- 28 -->\n<g id=\"node29\" class=\"node\">\n<title>28</title>\n<polygon fill=\"#e58139\" stroke=\"#000000\" points=\"957.5,-297.5 862.5,-297.5 862.5,-259.5 957.5,-259.5 957.5,-297.5\"/>\n<text text-anchor=\"middle\" x=\"910\" y=\"-282.3\" font-family=\"Times,serif\" font-size=\"14.00\" fill=\"#000000\">samples = 1</text>\n<text text-anchor=\"middle\" x=\"910\" y=\"-267.3\" font-family=\"Times,serif\" font-size=\"14.00\" fill=\"#000000\">value = [1, 0]</text>\n</g>\n<!-- 27&#45;&gt;28 -->\n<g id=\"edge28\" class=\"edge\">\n<title>27&#45;&gt;28</title>\n<path fill=\"none\" stroke=\"#000000\" d=\"M984.1965,-340.7971C970.3306,-329.155 954.1474,-315.5671 940.4395,-304.0577\"/>\n<polygon fill=\"#000000\" stroke=\"#000000\" points=\"942.6,-301.3016 932.6909,-297.5518 938.0988,-306.6625 942.6,-301.3016\"/>\n</g>\n<!-- 29 -->\n<g id=\"node30\" class=\"node\">\n<title>29</title>\n<polygon fill=\"#399de5\" stroke=\"#000000\" points=\"1070.5,-297.5 975.5,-297.5 975.5,-259.5 1070.5,-259.5 1070.5,-297.5\"/>\n<text text-anchor=\"middle\" x=\"1023\" y=\"-282.3\" font-family=\"Times,serif\" font-size=\"14.00\" fill=\"#000000\">samples = 4</text>\n<text text-anchor=\"middle\" x=\"1023\" y=\"-267.3\" font-family=\"Times,serif\" font-size=\"14.00\" fill=\"#000000\">value = [0, 4]</text>\n</g>\n<!-- 27&#45;&gt;29 -->\n<g id=\"edge29\" class=\"edge\">\n<title>27&#45;&gt;29</title>\n<path fill=\"none\" stroke=\"#000000\" d=\"M1018.1002,-340.7971C1018.9218,-330.3518 1019.8665,-318.3403 1020.7058,-307.6689\"/>\n<polygon fill=\"#000000\" stroke=\"#000000\" points=\"1024.2066,-307.7955 1021.5015,-297.5518 1017.2281,-307.2465 1024.2066,-307.7955\"/>\n</g>\n<!-- 31 -->\n<g id=\"node32\" class=\"node\">\n<title>31</title>\n<polygon fill=\"#399de5\" stroke=\"#000000\" points=\"1183.5,-297.5 1088.5,-297.5 1088.5,-259.5 1183.5,-259.5 1183.5,-297.5\"/>\n<text text-anchor=\"middle\" x=\"1136\" y=\"-282.3\" font-family=\"Times,serif\" font-size=\"14.00\" fill=\"#000000\">samples = 1</text>\n<text text-anchor=\"middle\" x=\"1136\" y=\"-267.3\" font-family=\"Times,serif\" font-size=\"14.00\" fill=\"#000000\">value = [0, 1]</text>\n</g>\n<!-- 30&#45;&gt;31 -->\n<g id=\"edge31\" class=\"edge\">\n<title>30&#45;&gt;31</title>\n<path fill=\"none\" stroke=\"#000000\" d=\"M1140.8998,-340.7971C1140.0782,-330.3518 1139.1335,-318.3403 1138.2942,-307.6689\"/>\n<polygon fill=\"#000000\" stroke=\"#000000\" points=\"1141.7719,-307.2465 1137.4985,-297.5518 1134.7934,-307.7955 1141.7719,-307.2465\"/>\n</g>\n<!-- 32 -->\n<g id=\"node33\" class=\"node\">\n<title>32</title>\n<polygon fill=\"#e58139\" stroke=\"#000000\" points=\"1304,-297.5 1202,-297.5 1202,-259.5 1304,-259.5 1304,-297.5\"/>\n<text text-anchor=\"middle\" x=\"1253\" y=\"-282.3\" font-family=\"Times,serif\" font-size=\"14.00\" fill=\"#000000\">samples = 30</text>\n<text text-anchor=\"middle\" x=\"1253\" y=\"-267.3\" font-family=\"Times,serif\" font-size=\"14.00\" fill=\"#000000\">value = [30, 0]</text>\n</g>\n<!-- 30&#45;&gt;32 -->\n<g id=\"edge32\" class=\"edge\">\n<title>30&#45;&gt;32</title>\n<path fill=\"none\" stroke=\"#000000\" d=\"M1176.0036,-340.7971C1190.3927,-329.155 1207.1867,-315.5671 1221.4118,-304.0577\"/>\n<polygon fill=\"#000000\" stroke=\"#000000\" points=\"1223.8802,-306.5627 1229.4529,-297.5518 1219.4773,-301.1208 1223.8802,-306.5627\"/>\n</g>\n<!-- 34 -->\n<g id=\"node35\" class=\"node\">\n<title>34</title>\n<polygon fill=\"#eb9f69\" stroke=\"#000000\" points=\"1757.5,-483 1640.5,-483 1640.5,-430 1757.5,-430 1757.5,-483\"/>\n<text text-anchor=\"middle\" x=\"1699\" y=\"-467.8\" font-family=\"Times,serif\" font-size=\"14.00\" fill=\"#000000\">X[172] &lt;= 0.145</text>\n<text text-anchor=\"middle\" x=\"1699\" y=\"-452.8\" font-family=\"Times,serif\" font-size=\"14.00\" fill=\"#000000\">samples = 180</text>\n<text text-anchor=\"middle\" x=\"1699\" y=\"-437.8\" font-family=\"Times,serif\" font-size=\"14.00\" fill=\"#000000\">value = [145, 35]</text>\n</g>\n<!-- 33&#45;&gt;34 -->\n<g id=\"edge34\" class=\"edge\">\n<title>33&#45;&gt;34</title>\n<path fill=\"none\" stroke=\"#000000\" d=\"M1788.5958,-518.7971C1775.1797,-509.4687 1759.9669,-498.8911 1745.9349,-489.1344\"/>\n<polygon fill=\"#000000\" stroke=\"#000000\" points=\"1747.5856,-486.0193 1737.3771,-483.1841 1743.5894,-491.7665 1747.5856,-486.0193\"/>\n</g>\n<!-- 53 -->\n<g id=\"node54\" class=\"node\">\n<title>53</title>\n<polygon fill=\"#e5833c\" stroke=\"#000000\" points=\"2010,-483 1894,-483 1894,-430 2010,-430 2010,-483\"/>\n<text text-anchor=\"middle\" x=\"1952\" y=\"-467.8\" font-family=\"Times,serif\" font-size=\"14.00\" fill=\"#000000\">X[218] &lt;= 0.233</text>\n<text text-anchor=\"middle\" x=\"1952\" y=\"-452.8\" font-family=\"Times,serif\" font-size=\"14.00\" fill=\"#000000\">samples = 581</text>\n<text text-anchor=\"middle\" x=\"1952\" y=\"-437.8\" font-family=\"Times,serif\" font-size=\"14.00\" fill=\"#000000\">value = [573, 8]</text>\n</g>\n<!-- 33&#45;&gt;53 -->\n<g id=\"edge53\" class=\"edge\">\n<title>33&#45;&gt;53</title>\n<path fill=\"none\" stroke=\"#000000\" d=\"M1864.5041,-518.7971C1877.6058,-509.4687 1892.462,-498.8911 1906.1652,-489.1344\"/>\n<polygon fill=\"#000000\" stroke=\"#000000\" points=\"1908.4062,-491.8353 1914.5223,-483.1841 1904.3462,-486.133 1908.4062,-491.8353\"/>\n</g>\n<!-- 35 -->\n<g id=\"node36\" class=\"node\">\n<title>35</title>\n<polygon fill=\"#f3c6a6\" stroke=\"#000000\" points=\"1585,-394 1475,-394 1475,-341 1585,-341 1585,-394\"/>\n<text text-anchor=\"middle\" x=\"1530\" y=\"-378.8\" font-family=\"Times,serif\" font-size=\"14.00\" fill=\"#000000\">X[43] &lt;= 0.275</text>\n<text text-anchor=\"middle\" x=\"1530\" y=\"-363.8\" font-family=\"Times,serif\" font-size=\"14.00\" fill=\"#000000\">samples = 93</text>\n<text text-anchor=\"middle\" x=\"1530\" y=\"-348.8\" font-family=\"Times,serif\" font-size=\"14.00\" fill=\"#000000\">value = [60, 33]</text>\n</g>\n<!-- 34&#45;&gt;35 -->\n<g id=\"edge35\" class=\"edge\">\n<title>34&#45;&gt;35</title>\n<path fill=\"none\" stroke=\"#000000\" d=\"M1648.2944,-429.7971C1629.745,-420.0285 1608.5944,-408.8899 1589.3566,-398.7588\"/>\n<polygon fill=\"#000000\" stroke=\"#000000\" points=\"1590.8573,-395.5935 1580.3784,-394.0306 1587.5955,-401.7871 1590.8573,-395.5935\"/>\n</g>\n<!-- 48 -->\n<g id=\"node49\" class=\"node\">\n<title>48</title>\n<polygon fill=\"#e6843e\" stroke=\"#000000\" points=\"1757,-394 1641,-394 1641,-341 1757,-341 1757,-394\"/>\n<text text-anchor=\"middle\" x=\"1699\" y=\"-378.8\" font-family=\"Times,serif\" font-size=\"14.00\" fill=\"#000000\">X[214] &lt;= 0.151</text>\n<text text-anchor=\"middle\" x=\"1699\" y=\"-363.8\" font-family=\"Times,serif\" font-size=\"14.00\" fill=\"#000000\">samples = 87</text>\n<text text-anchor=\"middle\" x=\"1699\" y=\"-348.8\" font-family=\"Times,serif\" font-size=\"14.00\" fill=\"#000000\">value = [85, 2]</text>\n</g>\n<!-- 34&#45;&gt;48 -->\n<g id=\"edge48\" class=\"edge\">\n<title>34&#45;&gt;48</title>\n<path fill=\"none\" stroke=\"#000000\" d=\"M1699,-429.7971C1699,-421.7887 1699,-412.8597 1699,-404.3198\"/>\n<polygon fill=\"#000000\" stroke=\"#000000\" points=\"1702.5001,-404.1841 1699,-394.1841 1695.5001,-404.1841 1702.5001,-404.1841\"/>\n</g>\n<!-- 36 -->\n<g id=\"node37\" class=\"node\">\n<title>36</title>\n<polygon fill=\"#77bced\" stroke=\"#000000\" points=\"1438,-305 1322,-305 1322,-252 1438,-252 1438,-305\"/>\n<text text-anchor=\"middle\" x=\"1380\" y=\"-289.8\" font-family=\"Times,serif\" font-size=\"14.00\" fill=\"#000000\">X[154] &lt;= 0.598</text>\n<text text-anchor=\"middle\" x=\"1380\" y=\"-274.8\" font-family=\"Times,serif\" font-size=\"14.00\" fill=\"#000000\">samples = 42</text>\n<text text-anchor=\"middle\" x=\"1380\" y=\"-259.8\" font-family=\"Times,serif\" font-size=\"14.00\" fill=\"#000000\">value = [10, 32]</text>\n</g>\n<!-- 35&#45;&gt;36 -->\n<g id=\"edge36\" class=\"edge\">\n<title>35&#45;&gt;36</title>\n<path fill=\"none\" stroke=\"#000000\" d=\"M1484.9951,-340.7971C1468.7546,-331.1611 1450.2675,-320.1921 1433.3797,-310.1719\"/>\n<polygon fill=\"#000000\" stroke=\"#000000\" points=\"1435.1006,-307.1234 1424.7145,-305.0306 1431.5287,-313.1435 1435.1006,-307.1234\"/>\n</g>\n<!-- 45 -->\n<g id=\"node46\" class=\"node\">\n<title>45</title>\n<polygon fill=\"#e6843d\" stroke=\"#000000\" points=\"1584.5,-305 1475.5,-305 1475.5,-252 1584.5,-252 1584.5,-305\"/>\n<text text-anchor=\"middle\" x=\"1530\" y=\"-289.8\" font-family=\"Times,serif\" font-size=\"14.00\" fill=\"#000000\">X[76] &lt;= 0.041</text>\n<text text-anchor=\"middle\" x=\"1530\" y=\"-274.8\" font-family=\"Times,serif\" font-size=\"14.00\" fill=\"#000000\">samples = 51</text>\n<text text-anchor=\"middle\" x=\"1530\" y=\"-259.8\" font-family=\"Times,serif\" font-size=\"14.00\" fill=\"#000000\">value = [50, 1]</text>\n</g>\n<!-- 35&#45;&gt;45 -->\n<g id=\"edge45\" class=\"edge\">\n<title>35&#45;&gt;45</title>\n<path fill=\"none\" stroke=\"#000000\" d=\"M1530,-340.7971C1530,-332.7887 1530,-323.8597 1530,-315.3198\"/>\n<polygon fill=\"#000000\" stroke=\"#000000\" points=\"1533.5001,-315.1841 1530,-305.1841 1526.5001,-315.1841 1533.5001,-315.1841\"/>\n</g>\n<!-- 37 -->\n<g id=\"node38\" class=\"node\">\n<title>37</title>\n<polygon fill=\"#4ca6e8\" stroke=\"#000000\" points=\"1294,-216 1178,-216 1178,-163 1294,-163 1294,-216\"/>\n<text text-anchor=\"middle\" x=\"1236\" y=\"-200.8\" font-family=\"Times,serif\" font-size=\"14.00\" fill=\"#000000\">X[182] &lt;= 0.884</text>\n<text text-anchor=\"middle\" x=\"1236\" y=\"-185.8\" font-family=\"Times,serif\" font-size=\"14.00\" fill=\"#000000\">samples = 34</text>\n<text text-anchor=\"middle\" x=\"1236\" y=\"-170.8\" font-family=\"Times,serif\" font-size=\"14.00\" fill=\"#000000\">value = [3, 31]</text>\n</g>\n<!-- 36&#45;&gt;37 -->\n<g id=\"edge37\" class=\"edge\">\n<title>36&#45;&gt;37</title>\n<path fill=\"none\" stroke=\"#000000\" d=\"M1336.7953,-251.7971C1321.4173,-242.2927 1303.9412,-231.4915 1287.9096,-221.583\"/>\n<polygon fill=\"#000000\" stroke=\"#000000\" points=\"1289.5208,-218.4643 1279.1743,-216.1841 1285.8406,-224.4188 1289.5208,-218.4643\"/>\n</g>\n<!-- 42 -->\n<g id=\"node43\" class=\"node\">\n<title>42</title>\n<polygon fill=\"#e99355\" stroke=\"#000000\" points=\"1428,-216 1312,-216 1312,-163 1428,-163 1428,-216\"/>\n<text text-anchor=\"middle\" x=\"1370\" y=\"-200.8\" font-family=\"Times,serif\" font-size=\"14.00\" fill=\"#000000\">X[181] &lt;= 0.924</text>\n<text text-anchor=\"middle\" x=\"1370\" y=\"-185.8\" font-family=\"Times,serif\" font-size=\"14.00\" fill=\"#000000\">samples = 8</text>\n<text text-anchor=\"middle\" x=\"1370\" y=\"-170.8\" font-family=\"Times,serif\" font-size=\"14.00\" fill=\"#000000\">value = [7, 1]</text>\n</g>\n<!-- 36&#45;&gt;42 -->\n<g id=\"edge42\" class=\"edge\">\n<title>36&#45;&gt;42</title>\n<path fill=\"none\" stroke=\"#000000\" d=\"M1376.9997,-251.7971C1376.0999,-243.7887 1375.0966,-234.8597 1374.1371,-226.3198\"/>\n<polygon fill=\"#000000\" stroke=\"#000000\" points=\"1377.593,-225.7307 1372.9982,-216.1841 1370.6368,-226.5124 1377.593,-225.7307\"/>\n</g>\n<!-- 38 -->\n<g id=\"node39\" class=\"node\">\n<title>38</title>\n<polygon fill=\"#399de5\" stroke=\"#000000\" points=\"1163,-119.5 1061,-119.5 1061,-81.5 1163,-81.5 1163,-119.5\"/>\n<text text-anchor=\"middle\" x=\"1112\" y=\"-104.3\" font-family=\"Times,serif\" font-size=\"14.00\" fill=\"#000000\">samples = 28</text>\n<text text-anchor=\"middle\" x=\"1112\" y=\"-89.3\" font-family=\"Times,serif\" font-size=\"14.00\" fill=\"#000000\">value = [0, 28]</text>\n</g>\n<!-- 37&#45;&gt;38 -->\n<g id=\"edge38\" class=\"edge\">\n<title>37&#45;&gt;38</title>\n<path fill=\"none\" stroke=\"#000000\" d=\"M1198.7959,-162.7971C1182.2723,-150.9374 1162.9354,-137.0585 1146.7124,-125.4145\"/>\n<polygon fill=\"#000000\" stroke=\"#000000\" points=\"1148.7089,-122.5394 1138.544,-119.5518 1144.6272,-128.2262 1148.7089,-122.5394\"/>\n</g>\n<!-- 39 -->\n<g id=\"node40\" class=\"node\">\n<title>39</title>\n<polygon fill=\"#ffffff\" stroke=\"#000000\" points=\"1297,-127 1181,-127 1181,-74 1297,-74 1297,-127\"/>\n<text text-anchor=\"middle\" x=\"1239\" y=\"-111.8\" font-family=\"Times,serif\" font-size=\"14.00\" fill=\"#000000\">X[200] &lt;= 0.504</text>\n<text text-anchor=\"middle\" x=\"1239\" y=\"-96.8\" font-family=\"Times,serif\" font-size=\"14.00\" fill=\"#000000\">samples = 6</text>\n<text text-anchor=\"middle\" x=\"1239\" y=\"-81.8\" font-family=\"Times,serif\" font-size=\"14.00\" fill=\"#000000\">value = [3, 3]</text>\n</g>\n<!-- 37&#45;&gt;39 -->\n<g id=\"edge39\" class=\"edge\">\n<title>37&#45;&gt;39</title>\n<path fill=\"none\" stroke=\"#000000\" d=\"M1236.9001,-162.7971C1237.17,-154.7887 1237.471,-145.8597 1237.7589,-137.3198\"/>\n<polygon fill=\"#000000\" stroke=\"#000000\" points=\"1241.2616,-137.2964 1238.1005,-127.1841 1234.2655,-137.0605 1241.2616,-137.2964\"/>\n</g>\n<!-- 40 -->\n<g id=\"node41\" class=\"node\">\n<title>40</title>\n<polygon fill=\"#e58139\" stroke=\"#000000\" points=\"1229.5,-38 1134.5,-38 1134.5,0 1229.5,0 1229.5,-38\"/>\n<text text-anchor=\"middle\" x=\"1182\" y=\"-22.8\" font-family=\"Times,serif\" font-size=\"14.00\" fill=\"#000000\">samples = 3</text>\n<text text-anchor=\"middle\" x=\"1182\" y=\"-7.8\" font-family=\"Times,serif\" font-size=\"14.00\" fill=\"#000000\">value = [3, 0]</text>\n</g>\n<!-- 39&#45;&gt;40 -->\n<g id=\"edge40\" class=\"edge\">\n<title>39&#45;&gt;40</title>\n<path fill=\"none\" stroke=\"#000000\" d=\"M1220.3361,-73.8139C1214.2483,-65.1094 1207.4781,-55.4292 1201.3417,-46.6553\"/>\n<polygon fill=\"#000000\" stroke=\"#000000\" points=\"1204.0648,-44.4418 1195.4653,-38.2531 1198.3285,-48.4537 1204.0648,-44.4418\"/>\n</g>\n<!-- 41 -->\n<g id=\"node42\" class=\"node\">\n<title>41</title>\n<polygon fill=\"#399de5\" stroke=\"#000000\" points=\"1342.5,-38 1247.5,-38 1247.5,0 1342.5,0 1342.5,-38\"/>\n<text text-anchor=\"middle\" x=\"1295\" y=\"-22.8\" font-family=\"Times,serif\" font-size=\"14.00\" fill=\"#000000\">samples = 3</text>\n<text text-anchor=\"middle\" x=\"1295\" y=\"-7.8\" font-family=\"Times,serif\" font-size=\"14.00\" fill=\"#000000\">value = [0, 3]</text>\n</g>\n<!-- 39&#45;&gt;41 -->\n<g id=\"edge41\" class=\"edge\">\n<title>39&#45;&gt;41</title>\n<path fill=\"none\" stroke=\"#000000\" d=\"M1257.3365,-73.8139C1263.3174,-65.1094 1269.9689,-55.4292 1275.9976,-46.6553\"/>\n<polygon fill=\"#000000\" stroke=\"#000000\" points=\"1278.9924,-48.4771 1281.7709,-38.2531 1273.223,-44.5129 1278.9924,-48.4771\"/>\n</g>\n<!-- 43 -->\n<g id=\"node44\" class=\"node\">\n<title>43</title>\n<polygon fill=\"#e58139\" stroke=\"#000000\" points=\"1415.5,-119.5 1320.5,-119.5 1320.5,-81.5 1415.5,-81.5 1415.5,-119.5\"/>\n<text text-anchor=\"middle\" x=\"1368\" y=\"-104.3\" font-family=\"Times,serif\" font-size=\"14.00\" fill=\"#000000\">samples = 7</text>\n<text text-anchor=\"middle\" x=\"1368\" y=\"-89.3\" font-family=\"Times,serif\" font-size=\"14.00\" fill=\"#000000\">value = [7, 0]</text>\n</g>\n<!-- 42&#45;&gt;43 -->\n<g id=\"edge43\" class=\"edge\">\n<title>42&#45;&gt;43</title>\n<path fill=\"none\" stroke=\"#000000\" d=\"M1369.3999,-162.7971C1369.1652,-152.3518 1368.8953,-140.3403 1368.6555,-129.6689\"/>\n<polygon fill=\"#000000\" stroke=\"#000000\" points=\"1372.152,-129.4706 1368.4281,-119.5518 1365.1538,-129.6279 1372.152,-129.4706\"/>\n</g>\n<!-- 44 -->\n<g id=\"node45\" class=\"node\">\n<title>44</title>\n<polygon fill=\"#399de5\" stroke=\"#000000\" points=\"1528.5,-119.5 1433.5,-119.5 1433.5,-81.5 1528.5,-81.5 1528.5,-119.5\"/>\n<text text-anchor=\"middle\" x=\"1481\" y=\"-104.3\" font-family=\"Times,serif\" font-size=\"14.00\" fill=\"#000000\">samples = 1</text>\n<text text-anchor=\"middle\" x=\"1481\" y=\"-89.3\" font-family=\"Times,serif\" font-size=\"14.00\" fill=\"#000000\">value = [0, 1]</text>\n</g>\n<!-- 42&#45;&gt;44 -->\n<g id=\"edge44\" class=\"edge\">\n<title>42&#45;&gt;44</title>\n<path fill=\"none\" stroke=\"#000000\" d=\"M1403.3037,-162.7971C1417.8236,-151.155 1434.7702,-137.5671 1449.1246,-126.0577\"/>\n<polygon fill=\"#000000\" stroke=\"#000000\" points=\"1451.6264,-128.538 1457.2388,-119.5518 1447.2475,-123.0767 1451.6264,-128.538\"/>\n</g>\n<!-- 46 -->\n<g id=\"node47\" class=\"node\">\n<title>46</title>\n<polygon fill=\"#e58139\" stroke=\"#000000\" points=\"1548,-208.5 1446,-208.5 1446,-170.5 1548,-170.5 1548,-208.5\"/>\n<text text-anchor=\"middle\" x=\"1497\" y=\"-193.3\" font-family=\"Times,serif\" font-size=\"14.00\" fill=\"#000000\">samples = 50</text>\n<text text-anchor=\"middle\" x=\"1497\" y=\"-178.3\" font-family=\"Times,serif\" font-size=\"14.00\" fill=\"#000000\">value = [50, 0]</text>\n</g>\n<!-- 45&#45;&gt;46 -->\n<g id=\"edge46\" class=\"edge\">\n<title>45&#45;&gt;46</title>\n<path fill=\"none\" stroke=\"#000000\" d=\"M1520.0989,-251.7971C1516.1453,-241.1342 1511.5864,-228.8392 1507.5688,-218.0037\"/>\n<polygon fill=\"#000000\" stroke=\"#000000\" points=\"1510.8225,-216.7112 1504.0641,-208.5518 1504.2591,-219.1448 1510.8225,-216.7112\"/>\n</g>\n<!-- 47 -->\n<g id=\"node48\" class=\"node\">\n<title>47</title>\n<polygon fill=\"#399de5\" stroke=\"#000000\" points=\"1661.5,-208.5 1566.5,-208.5 1566.5,-170.5 1661.5,-170.5 1661.5,-208.5\"/>\n<text text-anchor=\"middle\" x=\"1614\" y=\"-193.3\" font-family=\"Times,serif\" font-size=\"14.00\" fill=\"#000000\">samples = 1</text>\n<text text-anchor=\"middle\" x=\"1614\" y=\"-178.3\" font-family=\"Times,serif\" font-size=\"14.00\" fill=\"#000000\">value = [0, 1]</text>\n</g>\n<!-- 45&#45;&gt;47 -->\n<g id=\"edge47\" class=\"edge\">\n<title>45&#45;&gt;47</title>\n<path fill=\"none\" stroke=\"#000000\" d=\"M1555.2028,-251.7971C1565.8827,-240.4814 1578.2976,-227.3275 1588.9599,-216.0306\"/>\n<polygon fill=\"#000000\" stroke=\"#000000\" points=\"1591.7,-218.2265 1596.0186,-208.5518 1586.6093,-213.4218 1591.7,-218.2265\"/>\n</g>\n<!-- 49 -->\n<g id=\"node50\" class=\"node\">\n<title>49</title>\n<polygon fill=\"#e58139\" stroke=\"#000000\" points=\"1728,-297.5 1626,-297.5 1626,-259.5 1728,-259.5 1728,-297.5\"/>\n<text text-anchor=\"middle\" x=\"1677\" y=\"-282.3\" font-family=\"Times,serif\" font-size=\"14.00\" fill=\"#000000\">samples = 83</text>\n<text text-anchor=\"middle\" x=\"1677\" y=\"-267.3\" font-family=\"Times,serif\" font-size=\"14.00\" fill=\"#000000\">value = [83, 0]</text>\n</g>\n<!-- 48&#45;&gt;49 -->\n<g id=\"edge49\" class=\"edge\">\n<title>48&#45;&gt;49</title>\n<path fill=\"none\" stroke=\"#000000\" d=\"M1692.3993,-340.7971C1689.7904,-330.243 1686.7863,-318.0899 1684.128,-307.3358\"/>\n<polygon fill=\"#000000\" stroke=\"#000000\" points=\"1687.5069,-306.4197 1681.7094,-297.5518 1680.7115,-308.0995 1687.5069,-306.4197\"/>\n</g>\n<!-- 50 -->\n<g id=\"node51\" class=\"node\">\n<title>50</title>\n<polygon fill=\"#ffffff\" stroke=\"#000000\" points=\"1855.5,-305 1746.5,-305 1746.5,-252 1855.5,-252 1855.5,-305\"/>\n<text text-anchor=\"middle\" x=\"1801\" y=\"-289.8\" font-family=\"Times,serif\" font-size=\"14.00\" fill=\"#000000\">X[68] &lt;= 0.322</text>\n<text text-anchor=\"middle\" x=\"1801\" y=\"-274.8\" font-family=\"Times,serif\" font-size=\"14.00\" fill=\"#000000\">samples = 4</text>\n<text text-anchor=\"middle\" x=\"1801\" y=\"-259.8\" font-family=\"Times,serif\" font-size=\"14.00\" fill=\"#000000\">value = [2, 2]</text>\n</g>\n<!-- 48&#45;&gt;50 -->\n<g id=\"edge50\" class=\"edge\">\n<title>48&#45;&gt;50</title>\n<path fill=\"none\" stroke=\"#000000\" d=\"M1729.6034,-340.7971C1739.9918,-331.7327 1751.732,-321.4888 1762.6472,-311.9647\"/>\n<polygon fill=\"#000000\" stroke=\"#000000\" points=\"1765.1844,-314.3959 1770.4182,-305.1841 1760.5822,-309.1215 1765.1844,-314.3959\"/>\n</g>\n<!-- 51 -->\n<g id=\"node52\" class=\"node\">\n<title>51</title>\n<polygon fill=\"#e58139\" stroke=\"#000000\" points=\"1774.5,-208.5 1679.5,-208.5 1679.5,-170.5 1774.5,-170.5 1774.5,-208.5\"/>\n<text text-anchor=\"middle\" x=\"1727\" y=\"-193.3\" font-family=\"Times,serif\" font-size=\"14.00\" fill=\"#000000\">samples = 2</text>\n<text text-anchor=\"middle\" x=\"1727\" y=\"-178.3\" font-family=\"Times,serif\" font-size=\"14.00\" fill=\"#000000\">value = [2, 0]</text>\n</g>\n<!-- 50&#45;&gt;51 -->\n<g id=\"edge51\" class=\"edge\">\n<title>50&#45;&gt;51</title>\n<path fill=\"none\" stroke=\"#000000\" d=\"M1778.7976,-251.7971C1769.4795,-240.5902 1758.6623,-227.5803 1749.3305,-216.357\"/>\n<polygon fill=\"#000000\" stroke=\"#000000\" points=\"1751.9254,-214.0034 1742.8408,-208.5518 1746.5429,-218.4788 1751.9254,-214.0034\"/>\n</g>\n<!-- 52 -->\n<g id=\"node53\" class=\"node\">\n<title>52</title>\n<polygon fill=\"#399de5\" stroke=\"#000000\" points=\"1887.5,-208.5 1792.5,-208.5 1792.5,-170.5 1887.5,-170.5 1887.5,-208.5\"/>\n<text text-anchor=\"middle\" x=\"1840\" y=\"-193.3\" font-family=\"Times,serif\" font-size=\"14.00\" fill=\"#000000\">samples = 2</text>\n<text text-anchor=\"middle\" x=\"1840\" y=\"-178.3\" font-family=\"Times,serif\" font-size=\"14.00\" fill=\"#000000\">value = [0, 2]</text>\n</g>\n<!-- 50&#45;&gt;52 -->\n<g id=\"edge52\" class=\"edge\">\n<title>50&#45;&gt;52</title>\n<path fill=\"none\" stroke=\"#000000\" d=\"M1812.7013,-251.7971C1817.3738,-241.1342 1822.7615,-228.8392 1827.5096,-218.0037\"/>\n<polygon fill=\"#000000\" stroke=\"#000000\" points=\"1830.8436,-219.1158 1831.6515,-208.5518 1824.4321,-216.3062 1830.8436,-219.1158\"/>\n</g>\n<!-- 54 -->\n<g id=\"node55\" class=\"node\">\n<title>54</title>\n<polygon fill=\"#e5823a\" stroke=\"#000000\" points=\"2011,-394 1895,-394 1895,-341 2011,-341 2011,-394\"/>\n<text text-anchor=\"middle\" x=\"1953\" y=\"-378.8\" font-family=\"Times,serif\" font-size=\"14.00\" fill=\"#000000\">X[131] &lt;= 0.802</text>\n<text text-anchor=\"middle\" x=\"1953\" y=\"-363.8\" font-family=\"Times,serif\" font-size=\"14.00\" fill=\"#000000\">samples = 576</text>\n<text text-anchor=\"middle\" x=\"1953\" y=\"-348.8\" font-family=\"Times,serif\" font-size=\"14.00\" fill=\"#000000\">value = [573, 3]</text>\n</g>\n<!-- 53&#45;&gt;54 -->\n<g id=\"edge54\" class=\"edge\">\n<title>53&#45;&gt;54</title>\n<path fill=\"none\" stroke=\"#000000\" d=\"M1952.3,-429.7971C1952.39,-421.7887 1952.4903,-412.8597 1952.5863,-404.3198\"/>\n<polygon fill=\"#000000\" stroke=\"#000000\" points=\"1956.0875,-404.2228 1952.7002,-394.1841 1949.0879,-404.1441 1956.0875,-404.2228\"/>\n</g>\n<!-- 61 -->\n<g id=\"node62\" class=\"node\">\n<title>61</title>\n<polygon fill=\"#399de5\" stroke=\"#000000\" points=\"2124.5,-386.5 2029.5,-386.5 2029.5,-348.5 2124.5,-348.5 2124.5,-386.5\"/>\n<text text-anchor=\"middle\" x=\"2077\" y=\"-371.3\" font-family=\"Times,serif\" font-size=\"14.00\" fill=\"#000000\">samples = 5</text>\n<text text-anchor=\"middle\" x=\"2077\" y=\"-356.3\" font-family=\"Times,serif\" font-size=\"14.00\" fill=\"#000000\">value = [0, 5]</text>\n</g>\n<!-- 53&#45;&gt;61 -->\n<g id=\"edge61\" class=\"edge\">\n<title>53&#45;&gt;61</title>\n<path fill=\"none\" stroke=\"#000000\" d=\"M1989.5041,-429.7971C2006.161,-417.9374 2025.6538,-404.0585 2042.0077,-392.4145\"/>\n<polygon fill=\"#000000\" stroke=\"#000000\" points=\"2044.1258,-395.203 2050.2419,-386.5518 2040.0657,-389.5007 2044.1258,-395.203\"/>\n</g>\n<!-- 55 -->\n<g id=\"node56\" class=\"node\">\n<title>55</title>\n<polygon fill=\"#e58139\" stroke=\"#000000\" points=\"2016,-305 1906,-305 1906,-252 2016,-252 2016,-305\"/>\n<text text-anchor=\"middle\" x=\"1961\" y=\"-289.8\" font-family=\"Times,serif\" font-size=\"14.00\" fill=\"#000000\">X[216] &lt;= 0.18</text>\n<text text-anchor=\"middle\" x=\"1961\" y=\"-274.8\" font-family=\"Times,serif\" font-size=\"14.00\" fill=\"#000000\">samples = 562</text>\n<text text-anchor=\"middle\" x=\"1961\" y=\"-259.8\" font-family=\"Times,serif\" font-size=\"14.00\" fill=\"#000000\">value = [561, 1]</text>\n</g>\n<!-- 54&#45;&gt;55 -->\n<g id=\"edge55\" class=\"edge\">\n<title>54&#45;&gt;55</title>\n<path fill=\"none\" stroke=\"#000000\" d=\"M1955.4003,-340.7971C1956.1201,-332.7887 1956.9227,-323.8597 1957.6904,-315.3198\"/>\n<polygon fill=\"#000000\" stroke=\"#000000\" points=\"1961.192,-315.4573 1958.6014,-305.1841 1954.2201,-314.8306 1961.192,-315.4573\"/>\n</g>\n<!-- 58 -->\n<g id=\"node59\" class=\"node\">\n<title>58</title>\n<polygon fill=\"#e9965a\" stroke=\"#000000\" points=\"2257,-305 2141,-305 2141,-252 2257,-252 2257,-305\"/>\n<text text-anchor=\"middle\" x=\"2199\" y=\"-289.8\" font-family=\"Times,serif\" font-size=\"14.00\" fill=\"#000000\">X[101] &lt;= 0.827</text>\n<text text-anchor=\"middle\" x=\"2199\" y=\"-274.8\" font-family=\"Times,serif\" font-size=\"14.00\" fill=\"#000000\">samples = 14</text>\n<text text-anchor=\"middle\" x=\"2199\" y=\"-259.8\" font-family=\"Times,serif\" font-size=\"14.00\" fill=\"#000000\">value = [12, 2]</text>\n</g>\n<!-- 54&#45;&gt;58 -->\n<g id=\"edge58\" class=\"edge\">\n<title>54&#45;&gt;58</title>\n<path fill=\"none\" stroke=\"#000000\" d=\"M2011.0489,-344.3731C2014.0719,-343.2212 2017.0692,-342.0907 2020,-341 2056.5007,-327.4156 2097.4987,-313.0372 2131.0395,-301.5006\"/>\n<polygon fill=\"#000000\" stroke=\"#000000\" points=\"2132.4203,-304.7272 2140.7428,-298.1707 2130.1481,-298.1062 2132.4203,-304.7272\"/>\n</g>\n<!-- 56 -->\n<g id=\"node57\" class=\"node\">\n<title>56</title>\n<polygon fill=\"#e58139\" stroke=\"#000000\" points=\"2016,-208.5 1906,-208.5 1906,-170.5 2016,-170.5 2016,-208.5\"/>\n<text text-anchor=\"middle\" x=\"1961\" y=\"-193.3\" font-family=\"Times,serif\" font-size=\"14.00\" fill=\"#000000\">samples = 560</text>\n<text text-anchor=\"middle\" x=\"1961\" y=\"-178.3\" font-family=\"Times,serif\" font-size=\"14.00\" fill=\"#000000\">value = [560, 0]</text>\n</g>\n<!-- 55&#45;&gt;56 -->\n<g id=\"edge56\" class=\"edge\">\n<title>55&#45;&gt;56</title>\n<path fill=\"none\" stroke=\"#000000\" d=\"M1961,-251.7971C1961,-241.3518 1961,-229.3403 1961,-218.6689\"/>\n<polygon fill=\"#000000\" stroke=\"#000000\" points=\"1964.5001,-218.5517 1961,-208.5518 1957.5001,-218.5518 1964.5001,-218.5517\"/>\n</g>\n<!-- 57 -->\n<g id=\"node58\" class=\"node\">\n<title>57</title>\n<polygon fill=\"#ffffff\" stroke=\"#000000\" points=\"2129.5,-208.5 2034.5,-208.5 2034.5,-170.5 2129.5,-170.5 2129.5,-208.5\"/>\n<text text-anchor=\"middle\" x=\"2082\" y=\"-193.3\" font-family=\"Times,serif\" font-size=\"14.00\" fill=\"#000000\">samples = 2</text>\n<text text-anchor=\"middle\" x=\"2082\" y=\"-178.3\" font-family=\"Times,serif\" font-size=\"14.00\" fill=\"#000000\">value = [1, 1]</text>\n</g>\n<!-- 55&#45;&gt;57 -->\n<g id=\"edge57\" class=\"edge\">\n<title>55&#45;&gt;57</title>\n<path fill=\"none\" stroke=\"#000000\" d=\"M1997.304,-251.7971C2013.2799,-240.0462 2031.9509,-226.313 2047.6909,-214.7356\"/>\n<polygon fill=\"#000000\" stroke=\"#000000\" points=\"2050.1164,-217.2964 2056.0982,-208.5518 2045.9687,-211.6575 2050.1164,-217.2964\"/>\n</g>\n<!-- 59 -->\n<g id=\"node60\" class=\"node\">\n<title>59</title>\n<polygon fill=\"#e58139\" stroke=\"#000000\" points=\"2250,-208.5 2148,-208.5 2148,-170.5 2250,-170.5 2250,-208.5\"/>\n<text text-anchor=\"middle\" x=\"2199\" y=\"-193.3\" font-family=\"Times,serif\" font-size=\"14.00\" fill=\"#000000\">samples = 12</text>\n<text text-anchor=\"middle\" x=\"2199\" y=\"-178.3\" font-family=\"Times,serif\" font-size=\"14.00\" fill=\"#000000\">value = [12, 0]</text>\n</g>\n<!-- 58&#45;&gt;59 -->\n<g id=\"edge59\" class=\"edge\">\n<title>58&#45;&gt;59</title>\n<path fill=\"none\" stroke=\"#000000\" d=\"M2199,-251.7971C2199,-241.3518 2199,-229.3403 2199,-218.6689\"/>\n<polygon fill=\"#000000\" stroke=\"#000000\" points=\"2202.5001,-218.5517 2199,-208.5518 2195.5001,-218.5518 2202.5001,-218.5517\"/>\n</g>\n<!-- 60 -->\n<g id=\"node61\" class=\"node\">\n<title>60</title>\n<polygon fill=\"#399de5\" stroke=\"#000000\" points=\"2363.5,-208.5 2268.5,-208.5 2268.5,-170.5 2363.5,-170.5 2363.5,-208.5\"/>\n<text text-anchor=\"middle\" x=\"2316\" y=\"-193.3\" font-family=\"Times,serif\" font-size=\"14.00\" fill=\"#000000\">samples = 2</text>\n<text text-anchor=\"middle\" x=\"2316\" y=\"-178.3\" font-family=\"Times,serif\" font-size=\"14.00\" fill=\"#000000\">value = [0, 2]</text>\n</g>\n<!-- 58&#45;&gt;60 -->\n<g id=\"edge60\" class=\"edge\">\n<title>58&#45;&gt;60</title>\n<path fill=\"none\" stroke=\"#000000\" d=\"M2234.1039,-251.7971C2249.5517,-240.0462 2267.6054,-226.313 2282.8251,-214.7356\"/>\n<polygon fill=\"#000000\" stroke=\"#000000\" points=\"2285.1144,-217.3917 2290.9544,-208.5518 2280.8764,-211.8204 2285.1144,-217.3917\"/>\n</g>\n<!-- 63 -->\n<g id=\"node64\" class=\"node\">\n<title>63</title>\n<polygon fill=\"#53aae8\" stroke=\"#000000\" points=\"2185.5,-572 2076.5,-572 2076.5,-519 2185.5,-519 2185.5,-572\"/>\n<text text-anchor=\"middle\" x=\"2131\" y=\"-556.8\" font-family=\"Times,serif\" font-size=\"14.00\" fill=\"#000000\">X[54] &lt;= 0.035</text>\n<text text-anchor=\"middle\" x=\"2131\" y=\"-541.8\" font-family=\"Times,serif\" font-size=\"14.00\" fill=\"#000000\">samples = 35</text>\n<text text-anchor=\"middle\" x=\"2131\" y=\"-526.8\" font-family=\"Times,serif\" font-size=\"14.00\" fill=\"#000000\">value = [4, 31]</text>\n</g>\n<!-- 62&#45;&gt;63 -->\n<g id=\"edge63\" class=\"edge\">\n<title>62&#45;&gt;63</title>\n<path fill=\"none\" stroke=\"#000000\" d=\"M2174.398,-607.7971C2168.4513,-599.2607 2161.7759,-589.6782 2155.4768,-580.6361\"/>\n<polygon fill=\"#000000\" stroke=\"#000000\" points=\"2158.1769,-578.3888 2149.5889,-572.1841 2152.4331,-582.39 2158.1769,-578.3888\"/>\n</g>\n<!-- 70 -->\n<g id=\"node71\" class=\"node\">\n<title>70</title>\n<polygon fill=\"#e58139\" stroke=\"#000000\" points=\"2306,-564.5 2204,-564.5 2204,-526.5 2306,-526.5 2306,-564.5\"/>\n<text text-anchor=\"middle\" x=\"2255\" y=\"-549.3\" font-family=\"Times,serif\" font-size=\"14.00\" fill=\"#000000\">samples = 19</text>\n<text text-anchor=\"middle\" x=\"2255\" y=\"-534.3\" font-family=\"Times,serif\" font-size=\"14.00\" fill=\"#000000\">value = [19, 0]</text>\n</g>\n<!-- 62&#45;&gt;70 -->\n<g id=\"edge70\" class=\"edge\">\n<title>62&#45;&gt;70</title>\n<path fill=\"none\" stroke=\"#000000\" d=\"M2211.602,-607.7971C2219.2575,-596.8078 2228.1206,-584.0849 2235.8338,-573.0128\"/>\n<polygon fill=\"#000000\" stroke=\"#000000\" points=\"2238.8837,-574.7577 2241.728,-564.5518 2233.14,-570.7565 2238.8837,-574.7577\"/>\n</g>\n<!-- 64 -->\n<g id=\"node65\" class=\"node\">\n<title>64</title>\n<polygon fill=\"#399de5\" stroke=\"#000000\" points=\"2130,-475.5 2028,-475.5 2028,-437.5 2130,-437.5 2130,-475.5\"/>\n<text text-anchor=\"middle\" x=\"2079\" y=\"-460.3\" font-family=\"Times,serif\" font-size=\"14.00\" fill=\"#000000\">samples = 26</text>\n<text text-anchor=\"middle\" x=\"2079\" y=\"-445.3\" font-family=\"Times,serif\" font-size=\"14.00\" fill=\"#000000\">value = [0, 26]</text>\n</g>\n<!-- 63&#45;&gt;64 -->\n<g id=\"edge64\" class=\"edge\">\n<title>63&#45;&gt;64</title>\n<path fill=\"none\" stroke=\"#000000\" d=\"M2115.3983,-518.7971C2109.0412,-507.9166 2101.6911,-495.3366 2095.2673,-484.3421\"/>\n<polygon fill=\"#000000\" stroke=\"#000000\" points=\"2098.1982,-482.4204 2090.1314,-475.5518 2092.1542,-485.9517 2098.1982,-482.4204\"/>\n</g>\n<!-- 65 -->\n<g id=\"node66\" class=\"node\">\n<title>65</title>\n<polygon fill=\"#d7ebfa\" stroke=\"#000000\" points=\"2264,-483 2148,-483 2148,-430 2264,-430 2264,-483\"/>\n<text text-anchor=\"middle\" x=\"2206\" y=\"-467.8\" font-family=\"Times,serif\" font-size=\"14.00\" fill=\"#000000\">X[133] &lt;= 0.222</text>\n<text text-anchor=\"middle\" x=\"2206\" y=\"-452.8\" font-family=\"Times,serif\" font-size=\"14.00\" fill=\"#000000\">samples = 9</text>\n<text text-anchor=\"middle\" x=\"2206\" y=\"-437.8\" font-family=\"Times,serif\" font-size=\"14.00\" fill=\"#000000\">value = [4, 5]</text>\n</g>\n<!-- 63&#45;&gt;65 -->\n<g id=\"edge65\" class=\"edge\">\n<title>63&#45;&gt;65</title>\n<path fill=\"none\" stroke=\"#000000\" d=\"M2153.5025,-518.7971C2160.8444,-510.0847 2169.1045,-500.2826 2176.8617,-491.0775\"/>\n<polygon fill=\"#000000\" stroke=\"#000000\" points=\"2179.7458,-493.0864 2183.5134,-483.1841 2174.393,-488.5756 2179.7458,-493.0864\"/>\n</g>\n<!-- 66 -->\n<g id=\"node67\" class=\"node\">\n<title>66</title>\n<polygon fill=\"#399de5\" stroke=\"#000000\" points=\"2251.5,-386.5 2156.5,-386.5 2156.5,-348.5 2251.5,-348.5 2251.5,-386.5\"/>\n<text text-anchor=\"middle\" x=\"2204\" y=\"-371.3\" font-family=\"Times,serif\" font-size=\"14.00\" fill=\"#000000\">samples = 4</text>\n<text text-anchor=\"middle\" x=\"2204\" y=\"-356.3\" font-family=\"Times,serif\" font-size=\"14.00\" fill=\"#000000\">value = [0, 4]</text>\n</g>\n<!-- 65&#45;&gt;66 -->\n<g id=\"edge66\" class=\"edge\">\n<title>65&#45;&gt;66</title>\n<path fill=\"none\" stroke=\"#000000\" d=\"M2205.3999,-429.7971C2205.1652,-419.3518 2204.8953,-407.3403 2204.6555,-396.6689\"/>\n<polygon fill=\"#000000\" stroke=\"#000000\" points=\"2208.152,-396.4706 2204.4281,-386.5518 2201.1538,-396.6279 2208.152,-396.4706\"/>\n</g>\n<!-- 67 -->\n<g id=\"node68\" class=\"node\">\n<title>67</title>\n<polygon fill=\"#eca06a\" stroke=\"#000000\" points=\"2386,-394 2270,-394 2270,-341 2386,-341 2386,-394\"/>\n<text text-anchor=\"middle\" x=\"2328\" y=\"-378.8\" font-family=\"Times,serif\" font-size=\"14.00\" fill=\"#000000\">X[219] &lt;= 0.063</text>\n<text text-anchor=\"middle\" x=\"2328\" y=\"-363.8\" font-family=\"Times,serif\" font-size=\"14.00\" fill=\"#000000\">samples = 5</text>\n<text text-anchor=\"middle\" x=\"2328\" y=\"-348.8\" font-family=\"Times,serif\" font-size=\"14.00\" fill=\"#000000\">value = [4, 1]</text>\n</g>\n<!-- 65&#45;&gt;67 -->\n<g id=\"edge67\" class=\"edge\">\n<title>65&#45;&gt;67</title>\n<path fill=\"none\" stroke=\"#000000\" d=\"M2242.604,-429.7971C2255.3913,-420.4687 2269.8909,-409.8911 2283.2652,-400.1344\"/>\n<polygon fill=\"#000000\" stroke=\"#000000\" points=\"2285.4058,-402.9052 2291.4218,-394.1841 2281.2803,-397.2501 2285.4058,-402.9052\"/>\n</g>\n<!-- 68 -->\n<g id=\"node69\" class=\"node\">\n<title>68</title>\n<polygon fill=\"#e58139\" stroke=\"#000000\" points=\"2374.5,-297.5 2279.5,-297.5 2279.5,-259.5 2374.5,-259.5 2374.5,-297.5\"/>\n<text text-anchor=\"middle\" x=\"2327\" y=\"-282.3\" font-family=\"Times,serif\" font-size=\"14.00\" fill=\"#000000\">samples = 4</text>\n<text text-anchor=\"middle\" x=\"2327\" y=\"-267.3\" font-family=\"Times,serif\" font-size=\"14.00\" fill=\"#000000\">value = [4, 0]</text>\n</g>\n<!-- 67&#45;&gt;68 -->\n<g id=\"edge68\" class=\"edge\">\n<title>67&#45;&gt;68</title>\n<path fill=\"none\" stroke=\"#000000\" d=\"M2327.7,-340.7971C2327.5826,-330.3518 2327.4476,-318.3403 2327.3277,-307.6689\"/>\n<polygon fill=\"#000000\" stroke=\"#000000\" points=\"2330.8263,-307.5118 2327.2141,-297.5518 2323.8267,-307.5905 2330.8263,-307.5118\"/>\n</g>\n<!-- 69 -->\n<g id=\"node70\" class=\"node\">\n<title>69</title>\n<polygon fill=\"#399de5\" stroke=\"#000000\" points=\"2487.5,-297.5 2392.5,-297.5 2392.5,-259.5 2487.5,-259.5 2487.5,-297.5\"/>\n<text text-anchor=\"middle\" x=\"2440\" y=\"-282.3\" font-family=\"Times,serif\" font-size=\"14.00\" fill=\"#000000\">samples = 1</text>\n<text text-anchor=\"middle\" x=\"2440\" y=\"-267.3\" font-family=\"Times,serif\" font-size=\"14.00\" fill=\"#000000\">value = [0, 1]</text>\n</g>\n<!-- 67&#45;&gt;69 -->\n<g id=\"edge69\" class=\"edge\">\n<title>67&#45;&gt;69</title>\n<path fill=\"none\" stroke=\"#000000\" d=\"M2361.6037,-340.7971C2376.2544,-329.155 2393.3537,-315.5671 2407.8375,-304.0577\"/>\n<polygon fill=\"#000000\" stroke=\"#000000\" points=\"2410.3731,-306.5133 2416.0247,-297.5518 2406.0181,-301.033 2410.3731,-306.5133\"/>\n</g>\n<!-- 72 -->\n<g id=\"node73\" class=\"node\">\n<title>72</title>\n<polygon fill=\"#62b1ea\" stroke=\"#000000\" points=\"2630,-661 2514,-661 2514,-608 2630,-608 2630,-661\"/>\n<text text-anchor=\"middle\" x=\"2572\" y=\"-645.8\" font-family=\"Times,serif\" font-size=\"14.00\" fill=\"#000000\">X[122] &lt;= 0.004</text>\n<text text-anchor=\"middle\" x=\"2572\" y=\"-630.8\" font-family=\"Times,serif\" font-size=\"14.00\" fill=\"#000000\">samples = 76</text>\n<text text-anchor=\"middle\" x=\"2572\" y=\"-615.8\" font-family=\"Times,serif\" font-size=\"14.00\" fill=\"#000000\">value = [13, 63]</text>\n</g>\n<!-- 71&#45;&gt;72 -->\n<g id=\"edge72\" class=\"edge\">\n<title>71&#45;&gt;72</title>\n<path fill=\"none\" stroke=\"#000000\" d=\"M2617.4979,-696.7971C2611.1992,-688.1727 2604.1206,-678.4806 2597.4571,-669.3566\"/>\n<polygon fill=\"#000000\" stroke=\"#000000\" points=\"2600.2128,-667.1954 2591.4884,-661.1841 2594.5599,-671.324 2600.2128,-667.1954\"/>\n</g>\n<!-- 79 -->\n<g id=\"node80\" class=\"node\">\n<title>79</title>\n<polygon fill=\"#e9975b\" stroke=\"#000000\" points=\"2758,-661 2648,-661 2648,-608 2758,-608 2758,-661\"/>\n<text text-anchor=\"middle\" x=\"2703\" y=\"-645.8\" font-family=\"Times,serif\" font-size=\"14.00\" fill=\"#000000\">X[55] &lt;= 0.002</text>\n<text text-anchor=\"middle\" x=\"2703\" y=\"-630.8\" font-family=\"Times,serif\" font-size=\"14.00\" fill=\"#000000\">samples = 109</text>\n<text text-anchor=\"middle\" x=\"2703\" y=\"-615.8\" font-family=\"Times,serif\" font-size=\"14.00\" fill=\"#000000\">value = [93, 16]</text>\n</g>\n<!-- 71&#45;&gt;79 -->\n<g id=\"edge79\" class=\"edge\">\n<title>71&#45;&gt;79</title>\n<path fill=\"none\" stroke=\"#000000\" d=\"M2656.8022,-696.7971C2663.1978,-688.1727 2670.3852,-678.4806 2677.1513,-669.3566\"/>\n<polygon fill=\"#000000\" stroke=\"#000000\" points=\"2680.0665,-671.3013 2683.2118,-661.1841 2674.4438,-667.1317 2680.0665,-671.3013\"/>\n</g>\n<!-- 73 -->\n<g id=\"node74\" class=\"node\">\n<title>73</title>\n<polygon fill=\"#eca36f\" stroke=\"#000000\" points=\"2497,-572 2381,-572 2381,-519 2497,-519 2497,-572\"/>\n<text text-anchor=\"middle\" x=\"2439\" y=\"-556.8\" font-family=\"Times,serif\" font-size=\"14.00\" fill=\"#000000\">X[124] &lt;= 0.527</text>\n<text text-anchor=\"middle\" x=\"2439\" y=\"-541.8\" font-family=\"Times,serif\" font-size=\"14.00\" fill=\"#000000\">samples = 14</text>\n<text text-anchor=\"middle\" x=\"2439\" y=\"-526.8\" font-family=\"Times,serif\" font-size=\"14.00\" fill=\"#000000\">value = [11, 3]</text>\n</g>\n<!-- 72&#45;&gt;73 -->\n<g id=\"edge73\" class=\"edge\">\n<title>72&#45;&gt;73</title>\n<path fill=\"none\" stroke=\"#000000\" d=\"M2532.0956,-607.7971C2518.0239,-598.3807 2502.05,-587.6914 2487.3559,-577.8585\"/>\n<polygon fill=\"#000000\" stroke=\"#000000\" points=\"2489.1336,-574.8367 2478.8762,-572.1841 2485.2406,-580.6544 2489.1336,-574.8367\"/>\n</g>\n<!-- 76 -->\n<g id=\"node77\" class=\"node\">\n<title>76</title>\n<polygon fill=\"#40a0e6\" stroke=\"#000000\" points=\"2631,-572 2515,-572 2515,-519 2631,-519 2631,-572\"/>\n<text text-anchor=\"middle\" x=\"2573\" y=\"-556.8\" font-family=\"Times,serif\" font-size=\"14.00\" fill=\"#000000\">X[134] &lt;= 0.002</text>\n<text text-anchor=\"middle\" x=\"2573\" y=\"-541.8\" font-family=\"Times,serif\" font-size=\"14.00\" fill=\"#000000\">samples = 62</text>\n<text text-anchor=\"middle\" x=\"2573\" y=\"-526.8\" font-family=\"Times,serif\" font-size=\"14.00\" fill=\"#000000\">value = [2, 60]</text>\n</g>\n<!-- 72&#45;&gt;76 -->\n<g id=\"edge76\" class=\"edge\">\n<title>72&#45;&gt;76</title>\n<path fill=\"none\" stroke=\"#000000\" d=\"M2572.3,-607.7971C2572.39,-599.7887 2572.4903,-590.8597 2572.5863,-582.3198\"/>\n<polygon fill=\"#000000\" stroke=\"#000000\" points=\"2576.0875,-582.2228 2572.7002,-572.1841 2569.0879,-582.1441 2576.0875,-582.2228\"/>\n</g>\n<!-- 74 -->\n<g id=\"node75\" class=\"node\">\n<title>74</title>\n<polygon fill=\"#e58139\" stroke=\"#000000\" points=\"2383.5,-475.5 2282.5,-475.5 2282.5,-437.5 2383.5,-437.5 2383.5,-475.5\"/>\n<text text-anchor=\"middle\" x=\"2333\" y=\"-460.3\" font-family=\"Times,serif\" font-size=\"14.00\" fill=\"#000000\">samples = 11</text>\n<text text-anchor=\"middle\" x=\"2333\" y=\"-445.3\" font-family=\"Times,serif\" font-size=\"14.00\" fill=\"#000000\">value = [11, 0]</text>\n</g>\n<!-- 73&#45;&gt;74 -->\n<g id=\"edge74\" class=\"edge\">\n<title>73&#45;&gt;74</title>\n<path fill=\"none\" stroke=\"#000000\" d=\"M2407.1965,-518.7971C2393.3306,-507.155 2377.1474,-493.5671 2363.4395,-482.0577\"/>\n<polygon fill=\"#000000\" stroke=\"#000000\" points=\"2365.6,-479.3016 2355.6909,-475.5518 2361.0988,-484.6625 2365.6,-479.3016\"/>\n</g>\n<!-- 75 -->\n<g id=\"node76\" class=\"node\">\n<title>75</title>\n<polygon fill=\"#399de5\" stroke=\"#000000\" points=\"2496.5,-475.5 2401.5,-475.5 2401.5,-437.5 2496.5,-437.5 2496.5,-475.5\"/>\n<text text-anchor=\"middle\" x=\"2449\" y=\"-460.3\" font-family=\"Times,serif\" font-size=\"14.00\" fill=\"#000000\">samples = 3</text>\n<text text-anchor=\"middle\" x=\"2449\" y=\"-445.3\" font-family=\"Times,serif\" font-size=\"14.00\" fill=\"#000000\">value = [0, 3]</text>\n</g>\n<!-- 73&#45;&gt;75 -->\n<g id=\"edge75\" class=\"edge\">\n<title>73&#45;&gt;75</title>\n<path fill=\"none\" stroke=\"#000000\" d=\"M2442.0003,-518.7971C2443.174,-508.3518 2444.5236,-496.3403 2445.7226,-485.6689\"/>\n<polygon fill=\"#000000\" stroke=\"#000000\" points=\"2449.2208,-485.8801 2446.8594,-475.5518 2442.2646,-485.0984 2449.2208,-485.8801\"/>\n</g>\n<!-- 77 -->\n<g id=\"node78\" class=\"node\">\n<title>77</title>\n<polygon fill=\"#f2c09c\" stroke=\"#000000\" points=\"2609.5,-475.5 2514.5,-475.5 2514.5,-437.5 2609.5,-437.5 2609.5,-475.5\"/>\n<text text-anchor=\"middle\" x=\"2562\" y=\"-460.3\" font-family=\"Times,serif\" font-size=\"14.00\" fill=\"#000000\">samples = 3</text>\n<text text-anchor=\"middle\" x=\"2562\" y=\"-445.3\" font-family=\"Times,serif\" font-size=\"14.00\" fill=\"#000000\">value = [2, 1]</text>\n</g>\n<!-- 76&#45;&gt;77 -->\n<g id=\"edge77\" class=\"edge\">\n<title>76&#45;&gt;77</title>\n<path fill=\"none\" stroke=\"#000000\" d=\"M2569.6996,-518.7971C2568.4087,-508.3518 2566.9241,-496.3403 2565.6051,-485.6689\"/>\n<polygon fill=\"#000000\" stroke=\"#000000\" points=\"2569.055,-485.0469 2564.3547,-475.5518 2562.1079,-485.9056 2569.055,-485.0469\"/>\n</g>\n<!-- 78 -->\n<g id=\"node79\" class=\"node\">\n<title>78</title>\n<polygon fill=\"#399de5\" stroke=\"#000000\" points=\"2730,-475.5 2628,-475.5 2628,-437.5 2730,-437.5 2730,-475.5\"/>\n<text text-anchor=\"middle\" x=\"2679\" y=\"-460.3\" font-family=\"Times,serif\" font-size=\"14.00\" fill=\"#000000\">samples = 59</text>\n<text text-anchor=\"middle\" x=\"2679\" y=\"-445.3\" font-family=\"Times,serif\" font-size=\"14.00\" fill=\"#000000\">value = [0, 59]</text>\n</g>\n<!-- 76&#45;&gt;78 -->\n<g id=\"edge78\" class=\"edge\">\n<title>76&#45;&gt;78</title>\n<path fill=\"none\" stroke=\"#000000\" d=\"M2604.8035,-518.7971C2618.6694,-507.155 2634.8526,-493.5671 2648.5605,-482.0577\"/>\n<polygon fill=\"#000000\" stroke=\"#000000\" points=\"2650.9012,-484.6625 2656.3091,-475.5518 2646.4,-479.3016 2650.9012,-484.6625\"/>\n</g>\n<!-- 80 -->\n<g id=\"node81\" class=\"node\">\n<title>80</title>\n<polygon fill=\"#e58139\" stroke=\"#000000\" points=\"2753,-564.5 2651,-564.5 2651,-526.5 2753,-526.5 2753,-564.5\"/>\n<text text-anchor=\"middle\" x=\"2702\" y=\"-549.3\" font-family=\"Times,serif\" font-size=\"14.00\" fill=\"#000000\">samples = 64</text>\n<text text-anchor=\"middle\" x=\"2702\" y=\"-534.3\" font-family=\"Times,serif\" font-size=\"14.00\" fill=\"#000000\">value = [64, 0]</text>\n</g>\n<!-- 79&#45;&gt;80 -->\n<g id=\"edge80\" class=\"edge\">\n<title>79&#45;&gt;80</title>\n<path fill=\"none\" stroke=\"#000000\" d=\"M2702.7,-607.7971C2702.5826,-597.3518 2702.4476,-585.3403 2702.3277,-574.6689\"/>\n<polygon fill=\"#000000\" stroke=\"#000000\" points=\"2705.8263,-574.5118 2702.2141,-564.5518 2698.8267,-574.5905 2705.8263,-574.5118\"/>\n</g>\n<!-- 81 -->\n<g id=\"node82\" class=\"node\">\n<title>81</title>\n<polygon fill=\"#f3c7a6\" stroke=\"#000000\" points=\"2887,-572 2771,-572 2771,-519 2887,-519 2887,-572\"/>\n<text text-anchor=\"middle\" x=\"2829\" y=\"-556.8\" font-family=\"Times,serif\" font-size=\"14.00\" fill=\"#000000\">X[187] &lt;= 0.029</text>\n<text text-anchor=\"middle\" x=\"2829\" y=\"-541.8\" font-family=\"Times,serif\" font-size=\"14.00\" fill=\"#000000\">samples = 45</text>\n<text text-anchor=\"middle\" x=\"2829\" y=\"-526.8\" font-family=\"Times,serif\" font-size=\"14.00\" fill=\"#000000\">value = [29, 16]</text>\n</g>\n<!-- 79&#45;&gt;81 -->\n<g id=\"edge81\" class=\"edge\">\n<title>79&#45;&gt;81</title>\n<path fill=\"none\" stroke=\"#000000\" d=\"M2740.8042,-607.7971C2754.0106,-598.4687 2768.9857,-587.8911 2782.7985,-578.1344\"/>\n<polygon fill=\"#000000\" stroke=\"#000000\" points=\"2785.0739,-580.8123 2791.2225,-572.1841 2781.0353,-575.0947 2785.0739,-580.8123\"/>\n</g>\n<!-- 82 -->\n<g id=\"node83\" class=\"node\">\n<title>82</title>\n<polygon fill=\"#4ba6e7\" stroke=\"#000000\" points=\"2864,-483 2748,-483 2748,-430 2864,-430 2864,-483\"/>\n<text text-anchor=\"middle\" x=\"2806\" y=\"-467.8\" font-family=\"Times,serif\" font-size=\"14.00\" fill=\"#000000\">X[146] &lt;= 0.086</text>\n<text text-anchor=\"middle\" x=\"2806\" y=\"-452.8\" font-family=\"Times,serif\" font-size=\"14.00\" fill=\"#000000\">samples = 12</text>\n<text text-anchor=\"middle\" x=\"2806\" y=\"-437.8\" font-family=\"Times,serif\" font-size=\"14.00\" fill=\"#000000\">value = [1, 11]</text>\n</g>\n<!-- 81&#45;&gt;82 -->\n<g id=\"edge82\" class=\"edge\">\n<title>81&#45;&gt;82</title>\n<path fill=\"none\" stroke=\"#000000\" d=\"M2822.0992,-518.7971C2820.0069,-510.7007 2817.6714,-501.6633 2815.4425,-493.0384\"/>\n<polygon fill=\"#000000\" stroke=\"#000000\" points=\"2818.7867,-491.9903 2812.8959,-483.1841 2812.0094,-493.7418 2818.7867,-491.9903\"/>\n</g>\n<!-- 85 -->\n<g id=\"node86\" class=\"node\">\n<title>85</title>\n<polygon fill=\"#ea985c\" stroke=\"#000000\" points=\"2998,-483 2882,-483 2882,-430 2998,-430 2998,-483\"/>\n<text text-anchor=\"middle\" x=\"2940\" y=\"-467.8\" font-family=\"Times,serif\" font-size=\"14.00\" fill=\"#000000\">X[148] &lt;= 0.024</text>\n<text text-anchor=\"middle\" x=\"2940\" y=\"-452.8\" font-family=\"Times,serif\" font-size=\"14.00\" fill=\"#000000\">samples = 33</text>\n<text text-anchor=\"middle\" x=\"2940\" y=\"-437.8\" font-family=\"Times,serif\" font-size=\"14.00\" fill=\"#000000\">value = [28, 5]</text>\n</g>\n<!-- 81&#45;&gt;85 -->\n<g id=\"edge85\" class=\"edge\">\n<title>81&#45;&gt;85</title>\n<path fill=\"none\" stroke=\"#000000\" d=\"M2862.3037,-518.7971C2873.7184,-509.6447 2886.633,-499.2898 2898.6088,-489.6875\"/>\n<polygon fill=\"#000000\" stroke=\"#000000\" points=\"2901.1074,-492.1703 2906.7198,-483.1841 2896.7286,-486.709 2901.1074,-492.1703\"/>\n</g>\n<!-- 83 -->\n<g id=\"node84\" class=\"node\">\n<title>83</title>\n<polygon fill=\"#399de5\" stroke=\"#000000\" points=\"2744.5,-386.5 2643.5,-386.5 2643.5,-348.5 2744.5,-348.5 2744.5,-386.5\"/>\n<text text-anchor=\"middle\" x=\"2694\" y=\"-371.3\" font-family=\"Times,serif\" font-size=\"14.00\" fill=\"#000000\">samples = 11</text>\n<text text-anchor=\"middle\" x=\"2694\" y=\"-356.3\" font-family=\"Times,serif\" font-size=\"14.00\" fill=\"#000000\">value = [0, 11]</text>\n</g>\n<!-- 82&#45;&gt;83 -->\n<g id=\"edge83\" class=\"edge\">\n<title>82&#45;&gt;83</title>\n<path fill=\"none\" stroke=\"#000000\" d=\"M2772.3963,-429.7971C2757.7456,-418.155 2740.6463,-404.5671 2726.1625,-393.0577\"/>\n<polygon fill=\"#000000\" stroke=\"#000000\" points=\"2727.9819,-390.033 2717.9753,-386.5518 2723.6269,-395.5133 2727.9819,-390.033\"/>\n</g>\n<!-- 84 -->\n<g id=\"node85\" class=\"node\">\n<title>84</title>\n<polygon fill=\"#e58139\" stroke=\"#000000\" points=\"2857.5,-386.5 2762.5,-386.5 2762.5,-348.5 2857.5,-348.5 2857.5,-386.5\"/>\n<text text-anchor=\"middle\" x=\"2810\" y=\"-371.3\" font-family=\"Times,serif\" font-size=\"14.00\" fill=\"#000000\">samples = 1</text>\n<text text-anchor=\"middle\" x=\"2810\" y=\"-356.3\" font-family=\"Times,serif\" font-size=\"14.00\" fill=\"#000000\">value = [1, 0]</text>\n</g>\n<!-- 82&#45;&gt;84 -->\n<g id=\"edge84\" class=\"edge\">\n<title>82&#45;&gt;84</title>\n<path fill=\"none\" stroke=\"#000000\" d=\"M2807.2001,-429.7971C2807.6696,-419.3518 2808.2094,-407.3403 2808.689,-396.6689\"/>\n<polygon fill=\"#000000\" stroke=\"#000000\" points=\"2812.1911,-396.6989 2809.1437,-386.5518 2805.1982,-396.3845 2812.1911,-396.6989\"/>\n</g>\n<!-- 86 -->\n<g id=\"node87\" class=\"node\">\n<title>86</title>\n<polygon fill=\"#b0d8f5\" stroke=\"#000000\" points=\"2991.5,-394 2882.5,-394 2882.5,-341 2991.5,-341 2991.5,-394\"/>\n<text text-anchor=\"middle\" x=\"2937\" y=\"-378.8\" font-family=\"Times,serif\" font-size=\"14.00\" fill=\"#000000\">X[85] &lt;= 0.047</text>\n<text text-anchor=\"middle\" x=\"2937\" y=\"-363.8\" font-family=\"Times,serif\" font-size=\"14.00\" fill=\"#000000\">samples = 8</text>\n<text text-anchor=\"middle\" x=\"2937\" y=\"-348.8\" font-family=\"Times,serif\" font-size=\"14.00\" fill=\"#000000\">value = [3, 5]</text>\n</g>\n<!-- 85&#45;&gt;86 -->\n<g id=\"edge86\" class=\"edge\">\n<title>85&#45;&gt;86</title>\n<path fill=\"none\" stroke=\"#000000\" d=\"M2939.0999,-429.7971C2938.83,-421.7887 2938.529,-412.8597 2938.2411,-404.3198\"/>\n<polygon fill=\"#000000\" stroke=\"#000000\" points=\"2941.7345,-404.0605 2937.8995,-394.1841 2934.7384,-404.2964 2941.7345,-404.0605\"/>\n</g>\n<!-- 89 -->\n<g id=\"node90\" class=\"node\">\n<title>89</title>\n<polygon fill=\"#e58139\" stroke=\"#000000\" points=\"3112,-386.5 3010,-386.5 3010,-348.5 3112,-348.5 3112,-386.5\"/>\n<text text-anchor=\"middle\" x=\"3061\" y=\"-371.3\" font-family=\"Times,serif\" font-size=\"14.00\" fill=\"#000000\">samples = 25</text>\n<text text-anchor=\"middle\" x=\"3061\" y=\"-356.3\" font-family=\"Times,serif\" font-size=\"14.00\" fill=\"#000000\">value = [25, 0]</text>\n</g>\n<!-- 85&#45;&gt;89 -->\n<g id=\"edge89\" class=\"edge\">\n<title>85&#45;&gt;89</title>\n<path fill=\"none\" stroke=\"#000000\" d=\"M2976.304,-429.7971C2992.2799,-418.0462 3010.9509,-404.313 3026.6909,-392.7356\"/>\n<polygon fill=\"#000000\" stroke=\"#000000\" points=\"3029.1164,-395.2964 3035.0982,-386.5518 3024.9687,-389.6575 3029.1164,-395.2964\"/>\n</g>\n<!-- 87 -->\n<g id=\"node88\" class=\"node\">\n<title>87</title>\n<polygon fill=\"#e58139\" stroke=\"#000000\" points=\"2928.5,-297.5 2833.5,-297.5 2833.5,-259.5 2928.5,-259.5 2928.5,-297.5\"/>\n<text text-anchor=\"middle\" x=\"2881\" y=\"-282.3\" font-family=\"Times,serif\" font-size=\"14.00\" fill=\"#000000\">samples = 3</text>\n<text text-anchor=\"middle\" x=\"2881\" y=\"-267.3\" font-family=\"Times,serif\" font-size=\"14.00\" fill=\"#000000\">value = [3, 0]</text>\n</g>\n<!-- 86&#45;&gt;87 -->\n<g id=\"edge87\" class=\"edge\">\n<title>86&#45;&gt;87</title>\n<path fill=\"none\" stroke=\"#000000\" d=\"M2920.1982,-340.7971C2913.352,-329.9166 2905.4365,-317.3366 2898.5187,-306.3421\"/>\n<polygon fill=\"#000000\" stroke=\"#000000\" points=\"2901.2757,-304.1517 2892.9876,-297.5518 2895.3509,-307.8797 2901.2757,-304.1517\"/>\n</g>\n<!-- 88 -->\n<g id=\"node89\" class=\"node\">\n<title>88</title>\n<polygon fill=\"#399de5\" stroke=\"#000000\" points=\"3041.5,-297.5 2946.5,-297.5 2946.5,-259.5 3041.5,-259.5 3041.5,-297.5\"/>\n<text text-anchor=\"middle\" x=\"2994\" y=\"-282.3\" font-family=\"Times,serif\" font-size=\"14.00\" fill=\"#000000\">samples = 5</text>\n<text text-anchor=\"middle\" x=\"2994\" y=\"-267.3\" font-family=\"Times,serif\" font-size=\"14.00\" fill=\"#000000\">value = [0, 5]</text>\n</g>\n<!-- 86&#45;&gt;88 -->\n<g id=\"edge88\" class=\"edge\">\n<title>86&#45;&gt;88</title>\n<path fill=\"none\" stroke=\"#000000\" d=\"M2954.1019,-340.7971C2961.1399,-329.8078 2969.2883,-317.0849 2976.3795,-306.0128\"/>\n<polygon fill=\"#000000\" stroke=\"#000000\" points=\"2979.3524,-307.8604 2981.7983,-297.5518 2973.4577,-304.0851 2979.3524,-307.8604\"/>\n</g>\n<!-- 91 -->\n<g id=\"node92\" class=\"node\">\n<title>91</title>\n<polygon fill=\"#dceefa\" stroke=\"#000000\" points=\"3429,-750 3313,-750 3313,-697 3429,-697 3429,-750\"/>\n<text text-anchor=\"middle\" x=\"3371\" y=\"-734.8\" font-family=\"Times,serif\" font-size=\"14.00\" fill=\"#000000\">X[149] &lt;= 0.194</text>\n<text text-anchor=\"middle\" x=\"3371\" y=\"-719.8\" font-family=\"Times,serif\" font-size=\"14.00\" fill=\"#000000\">samples = 62</text>\n<text text-anchor=\"middle\" x=\"3371\" y=\"-704.8\" font-family=\"Times,serif\" font-size=\"14.00\" fill=\"#000000\">value = [28, 34]</text>\n</g>\n<!-- 90&#45;&gt;91 -->\n<g id=\"edge91\" class=\"edge\">\n<title>90&#45;&gt;91</title>\n<path fill=\"none\" stroke=\"#000000\" d=\"M3454.2961,-785.7971C3441.9409,-776.5567 3427.9469,-766.0905 3415.0043,-756.4107\"/>\n<polygon fill=\"#000000\" stroke=\"#000000\" points=\"3416.7831,-753.3705 3406.6787,-750.1841 3412.5906,-758.9762 3416.7831,-753.3705\"/>\n</g>\n<!-- 102 -->\n<g id=\"node103\" class=\"node\">\n<title>102</title>\n<polygon fill=\"#40a1e6\" stroke=\"#000000\" points=\"3667,-750 3551,-750 3551,-697 3667,-697 3667,-750\"/>\n<text text-anchor=\"middle\" x=\"3609\" y=\"-734.8\" font-family=\"Times,serif\" font-size=\"14.00\" fill=\"#000000\">X[139] &lt;= 0.573</text>\n<text text-anchor=\"middle\" x=\"3609\" y=\"-719.8\" font-family=\"Times,serif\" font-size=\"14.00\" fill=\"#000000\">samples = 172</text>\n<text text-anchor=\"middle\" x=\"3609\" y=\"-704.8\" font-family=\"Times,serif\" font-size=\"14.00\" fill=\"#000000\">value = [6, 166]</text>\n</g>\n<!-- 90&#45;&gt;102 -->\n<g id=\"edge102\" class=\"edge\">\n<title>90&#45;&gt;102</title>\n<path fill=\"none\" stroke=\"#000000\" d=\"M3525.7039,-785.7971C3538.0591,-776.5567 3552.0531,-766.0905 3564.9957,-756.4107\"/>\n<polygon fill=\"#000000\" stroke=\"#000000\" points=\"3567.4094,-758.9762 3573.3213,-750.1841 3563.2169,-753.3705 3567.4094,-758.9762\"/>\n</g>\n<!-- 92 -->\n<g id=\"node93\" class=\"node\">\n<title>92</title>\n<polygon fill=\"#4fa8e8\" stroke=\"#000000\" points=\"3245,-661 3129,-661 3129,-608 3245,-608 3245,-661\"/>\n<text text-anchor=\"middle\" x=\"3187\" y=\"-645.8\" font-family=\"Times,serif\" font-size=\"14.00\" fill=\"#000000\">X[167] &lt;= 0.937</text>\n<text text-anchor=\"middle\" x=\"3187\" y=\"-630.8\" font-family=\"Times,serif\" font-size=\"14.00\" fill=\"#000000\">samples = 30</text>\n<text text-anchor=\"middle\" x=\"3187\" y=\"-615.8\" font-family=\"Times,serif\" font-size=\"14.00\" fill=\"#000000\">value = [3, 27]</text>\n</g>\n<!-- 91&#45;&gt;92 -->\n<g id=\"edge92\" class=\"edge\">\n<title>91&#45;&gt;92</title>\n<path fill=\"none\" stroke=\"#000000\" d=\"M3315.7939,-696.7971C3295.4154,-686.94 3272.1532,-675.6882 3251.0568,-665.484\"/>\n<polygon fill=\"#000000\" stroke=\"#000000\" points=\"3252.3761,-662.2342 3241.8498,-661.0306 3249.328,-668.5358 3252.3761,-662.2342\"/>\n</g>\n<!-- 97 -->\n<g id=\"node98\" class=\"node\">\n<title>97</title>\n<polygon fill=\"#eca470\" stroke=\"#000000\" points=\"3429,-661 3313,-661 3313,-608 3429,-608 3429,-661\"/>\n<text text-anchor=\"middle\" x=\"3371\" y=\"-645.8\" font-family=\"Times,serif\" font-size=\"14.00\" fill=\"#000000\">X[102] &lt;= 0.292</text>\n<text text-anchor=\"middle\" x=\"3371\" y=\"-630.8\" font-family=\"Times,serif\" font-size=\"14.00\" fill=\"#000000\">samples = 32</text>\n<text text-anchor=\"middle\" x=\"3371\" y=\"-615.8\" font-family=\"Times,serif\" font-size=\"14.00\" fill=\"#000000\">value = [25, 7]</text>\n</g>\n<!-- 91&#45;&gt;97 -->\n<g id=\"edge97\" class=\"edge\">\n<title>91&#45;&gt;97</title>\n<path fill=\"none\" stroke=\"#000000\" d=\"M3371,-696.7971C3371,-688.7887 3371,-679.8597 3371,-671.3198\"/>\n<polygon fill=\"#000000\" stroke=\"#000000\" points=\"3374.5001,-671.1841 3371,-661.1841 3367.5001,-671.1841 3374.5001,-671.1841\"/>\n</g>\n<!-- 93 -->\n<g id=\"node94\" class=\"node\">\n<title>93</title>\n<polygon fill=\"#40a1e6\" stroke=\"#000000\" points=\"3121.5,-572 3012.5,-572 3012.5,-519 3121.5,-519 3121.5,-572\"/>\n<text text-anchor=\"middle\" x=\"3067\" y=\"-556.8\" font-family=\"Times,serif\" font-size=\"14.00\" fill=\"#000000\">X[58] &lt;= 0.808</text>\n<text text-anchor=\"middle\" x=\"3067\" y=\"-541.8\" font-family=\"Times,serif\" font-size=\"14.00\" fill=\"#000000\">samples = 28</text>\n<text text-anchor=\"middle\" x=\"3067\" y=\"-526.8\" font-family=\"Times,serif\" font-size=\"14.00\" fill=\"#000000\">value = [1, 27]</text>\n</g>\n<!-- 92&#45;&gt;93 -->\n<g id=\"edge93\" class=\"edge\">\n<title>92&#45;&gt;93</title>\n<path fill=\"none\" stroke=\"#000000\" d=\"M3150.996,-607.7971C3138.5371,-598.5567 3124.4254,-588.0905 3111.374,-578.4107\"/>\n<polygon fill=\"#000000\" stroke=\"#000000\" points=\"3113.0956,-575.33 3102.9785,-572.1841 3108.9256,-580.9524 3113.0956,-575.33\"/>\n</g>\n<!-- 96 -->\n<g id=\"node97\" class=\"node\">\n<title>96</title>\n<polygon fill=\"#e58139\" stroke=\"#000000\" points=\"3234.5,-564.5 3139.5,-564.5 3139.5,-526.5 3234.5,-526.5 3234.5,-564.5\"/>\n<text text-anchor=\"middle\" x=\"3187\" y=\"-549.3\" font-family=\"Times,serif\" font-size=\"14.00\" fill=\"#000000\">samples = 2</text>\n<text text-anchor=\"middle\" x=\"3187\" y=\"-534.3\" font-family=\"Times,serif\" font-size=\"14.00\" fill=\"#000000\">value = [2, 0]</text>\n</g>\n<!-- 92&#45;&gt;96 -->\n<g id=\"edge96\" class=\"edge\">\n<title>92&#45;&gt;96</title>\n<path fill=\"none\" stroke=\"#000000\" d=\"M3187,-607.7971C3187,-597.3518 3187,-585.3403 3187,-574.6689\"/>\n<polygon fill=\"#000000\" stroke=\"#000000\" points=\"3190.5001,-574.5517 3187,-564.5518 3183.5001,-574.5518 3190.5001,-574.5517\"/>\n</g>\n<!-- 94 -->\n<g id=\"node95\" class=\"node\">\n<title>94</title>\n<polygon fill=\"#399de5\" stroke=\"#000000\" points=\"3118,-475.5 3016,-475.5 3016,-437.5 3118,-437.5 3118,-475.5\"/>\n<text text-anchor=\"middle\" x=\"3067\" y=\"-460.3\" font-family=\"Times,serif\" font-size=\"14.00\" fill=\"#000000\">samples = 27</text>\n<text text-anchor=\"middle\" x=\"3067\" y=\"-445.3\" font-family=\"Times,serif\" font-size=\"14.00\" fill=\"#000000\">value = [0, 27]</text>\n</g>\n<!-- 93&#45;&gt;94 -->\n<g id=\"edge94\" class=\"edge\">\n<title>93&#45;&gt;94</title>\n<path fill=\"none\" stroke=\"#000000\" d=\"M3067,-518.7971C3067,-508.3518 3067,-496.3403 3067,-485.6689\"/>\n<polygon fill=\"#000000\" stroke=\"#000000\" points=\"3070.5001,-485.5517 3067,-475.5518 3063.5001,-485.5518 3070.5001,-485.5517\"/>\n</g>\n<!-- 95 -->\n<g id=\"node96\" class=\"node\">\n<title>95</title>\n<polygon fill=\"#e58139\" stroke=\"#000000\" points=\"3231.5,-475.5 3136.5,-475.5 3136.5,-437.5 3231.5,-437.5 3231.5,-475.5\"/>\n<text text-anchor=\"middle\" x=\"3184\" y=\"-460.3\" font-family=\"Times,serif\" font-size=\"14.00\" fill=\"#000000\">samples = 1</text>\n<text text-anchor=\"middle\" x=\"3184\" y=\"-445.3\" font-family=\"Times,serif\" font-size=\"14.00\" fill=\"#000000\">value = [1, 0]</text>\n</g>\n<!-- 93&#45;&gt;95 -->\n<g id=\"edge95\" class=\"edge\">\n<title>93&#45;&gt;95</title>\n<path fill=\"none\" stroke=\"#000000\" d=\"M3102.1039,-518.7971C3117.5517,-507.0462 3135.6054,-493.313 3150.8251,-481.7356\"/>\n<polygon fill=\"#000000\" stroke=\"#000000\" points=\"3153.1144,-484.3917 3158.9544,-475.5518 3148.8764,-478.8204 3153.1144,-484.3917\"/>\n</g>\n<!-- 98 -->\n<g id=\"node99\" class=\"node\">\n<title>98</title>\n<polygon fill=\"#8ec7f0\" stroke=\"#000000\" points=\"3369,-572 3253,-572 3253,-519 3369,-519 3369,-572\"/>\n<text text-anchor=\"middle\" x=\"3311\" y=\"-556.8\" font-family=\"Times,serif\" font-size=\"14.00\" fill=\"#000000\">X[122] &lt;= 0.094</text>\n<text text-anchor=\"middle\" x=\"3311\" y=\"-541.8\" font-family=\"Times,serif\" font-size=\"14.00\" fill=\"#000000\">samples = 10</text>\n<text text-anchor=\"middle\" x=\"3311\" y=\"-526.8\" font-family=\"Times,serif\" font-size=\"14.00\" fill=\"#000000\">value = [3, 7]</text>\n</g>\n<!-- 97&#45;&gt;98 -->\n<g id=\"edge98\" class=\"edge\">\n<title>97&#45;&gt;98</title>\n<path fill=\"none\" stroke=\"#000000\" d=\"M3352.998,-607.7971C3347.2432,-599.2607 3340.7831,-589.6782 3334.6872,-580.6361\"/>\n<polygon fill=\"#000000\" stroke=\"#000000\" points=\"3337.4814,-578.5193 3328.9893,-572.1841 3331.6771,-582.4323 3337.4814,-578.5193\"/>\n</g>\n<!-- 101 -->\n<g id=\"node102\" class=\"node\">\n<title>101</title>\n<polygon fill=\"#e58139\" stroke=\"#000000\" points=\"3489,-564.5 3387,-564.5 3387,-526.5 3489,-526.5 3489,-564.5\"/>\n<text text-anchor=\"middle\" x=\"3438\" y=\"-549.3\" font-family=\"Times,serif\" font-size=\"14.00\" fill=\"#000000\">samples = 22</text>\n<text text-anchor=\"middle\" x=\"3438\" y=\"-534.3\" font-family=\"Times,serif\" font-size=\"14.00\" fill=\"#000000\">value = [22, 0]</text>\n</g>\n<!-- 97&#45;&gt;101 -->\n<g id=\"edge101\" class=\"edge\">\n<title>97&#45;&gt;101</title>\n<path fill=\"none\" stroke=\"#000000\" d=\"M3391.1022,-607.7971C3399.4569,-596.699 3409.1427,-583.8328 3417.5353,-572.6844\"/>\n<polygon fill=\"#000000\" stroke=\"#000000\" points=\"3420.4395,-574.646 3423.6577,-564.5518 3414.847,-570.436 3420.4395,-574.646\"/>\n</g>\n<!-- 99 -->\n<g id=\"node100\" class=\"node\">\n<title>99</title>\n<polygon fill=\"#e58139\" stroke=\"#000000\" points=\"3351.5,-475.5 3256.5,-475.5 3256.5,-437.5 3351.5,-437.5 3351.5,-475.5\"/>\n<text text-anchor=\"middle\" x=\"3304\" y=\"-460.3\" font-family=\"Times,serif\" font-size=\"14.00\" fill=\"#000000\">samples = 3</text>\n<text text-anchor=\"middle\" x=\"3304\" y=\"-445.3\" font-family=\"Times,serif\" font-size=\"14.00\" fill=\"#000000\">value = [3, 0]</text>\n</g>\n<!-- 98&#45;&gt;99 -->\n<g id=\"edge99\" class=\"edge\">\n<title>98&#45;&gt;99</title>\n<path fill=\"none\" stroke=\"#000000\" d=\"M3308.8998,-518.7971C3308.0782,-508.3518 3307.1335,-496.3403 3306.2942,-485.6689\"/>\n<polygon fill=\"#000000\" stroke=\"#000000\" points=\"3309.7719,-485.2465 3305.4985,-475.5518 3302.7934,-485.7955 3309.7719,-485.2465\"/>\n</g>\n<!-- 100 -->\n<g id=\"node101\" class=\"node\">\n<title>100</title>\n<polygon fill=\"#399de5\" stroke=\"#000000\" points=\"3464.5,-475.5 3369.5,-475.5 3369.5,-437.5 3464.5,-437.5 3464.5,-475.5\"/>\n<text text-anchor=\"middle\" x=\"3417\" y=\"-460.3\" font-family=\"Times,serif\" font-size=\"14.00\" fill=\"#000000\">samples = 7</text>\n<text text-anchor=\"middle\" x=\"3417\" y=\"-445.3\" font-family=\"Times,serif\" font-size=\"14.00\" fill=\"#000000\">value = [0, 7]</text>\n</g>\n<!-- 98&#45;&gt;100 -->\n<g id=\"edge100\" class=\"edge\">\n<title>98&#45;&gt;100</title>\n<path fill=\"none\" stroke=\"#000000\" d=\"M3342.8035,-518.7971C3356.6694,-507.155 3372.8526,-493.5671 3386.5605,-482.0577\"/>\n<polygon fill=\"#000000\" stroke=\"#000000\" points=\"3388.9012,-484.6625 3394.3091,-475.5518 3384.4,-479.3016 3388.9012,-484.6625\"/>\n</g>\n<!-- 103 -->\n<g id=\"node104\" class=\"node\">\n<title>103</title>\n<polygon fill=\"#3a9ee5\" stroke=\"#000000\" points=\"3667,-661 3551,-661 3551,-608 3667,-608 3667,-661\"/>\n<text text-anchor=\"middle\" x=\"3609\" y=\"-645.8\" font-family=\"Times,serif\" font-size=\"14.00\" fill=\"#000000\">X[135] &lt;= 0.059</text>\n<text text-anchor=\"middle\" x=\"3609\" y=\"-630.8\" font-family=\"Times,serif\" font-size=\"14.00\" fill=\"#000000\">samples = 159</text>\n<text text-anchor=\"middle\" x=\"3609\" y=\"-615.8\" font-family=\"Times,serif\" font-size=\"14.00\" fill=\"#000000\">value = [1, 158]</text>\n</g>\n<!-- 102&#45;&gt;103 -->\n<g id=\"edge103\" class=\"edge\">\n<title>102&#45;&gt;103</title>\n<path fill=\"none\" stroke=\"#000000\" d=\"M3609,-696.7971C3609,-688.7887 3609,-679.8597 3609,-671.3198\"/>\n<polygon fill=\"#000000\" stroke=\"#000000\" points=\"3612.5001,-671.1841 3609,-661.1841 3605.5001,-671.1841 3612.5001,-671.1841\"/>\n</g>\n<!-- 106 -->\n<g id=\"node107\" class=\"node\">\n<title>106</title>\n<polygon fill=\"#b5daf5\" stroke=\"#000000\" points=\"3855,-661 3739,-661 3739,-608 3855,-608 3855,-661\"/>\n<text text-anchor=\"middle\" x=\"3797\" y=\"-645.8\" font-family=\"Times,serif\" font-size=\"14.00\" fill=\"#000000\">X[186] &lt;= 0.175</text>\n<text text-anchor=\"middle\" x=\"3797\" y=\"-630.8\" font-family=\"Times,serif\" font-size=\"14.00\" fill=\"#000000\">samples = 13</text>\n<text text-anchor=\"middle\" x=\"3797\" y=\"-615.8\" font-family=\"Times,serif\" font-size=\"14.00\" fill=\"#000000\">value = [5, 8]</text>\n</g>\n<!-- 102&#45;&gt;106 -->\n<g id=\"edge106\" class=\"edge\">\n<title>102&#45;&gt;106</title>\n<path fill=\"none\" stroke=\"#000000\" d=\"M3665.1515,-696.9176C3686.0743,-687.0127 3710.0003,-675.686 3731.6764,-665.4244\"/>\n<polygon fill=\"#000000\" stroke=\"#000000\" points=\"3733.2724,-668.5414 3740.8132,-661.0991 3730.2772,-662.2145 3733.2724,-668.5414\"/>\n</g>\n<!-- 104 -->\n<g id=\"node105\" class=\"node\">\n<title>104</title>\n<polygon fill=\"#ffffff\" stroke=\"#000000\" points=\"3602.5,-564.5 3507.5,-564.5 3507.5,-526.5 3602.5,-526.5 3602.5,-564.5\"/>\n<text text-anchor=\"middle\" x=\"3555\" y=\"-549.3\" font-family=\"Times,serif\" font-size=\"14.00\" fill=\"#000000\">samples = 2</text>\n<text text-anchor=\"middle\" x=\"3555\" y=\"-534.3\" font-family=\"Times,serif\" font-size=\"14.00\" fill=\"#000000\">value = [1, 1]</text>\n</g>\n<!-- 103&#45;&gt;104 -->\n<g id=\"edge104\" class=\"edge\">\n<title>103&#45;&gt;104</title>\n<path fill=\"none\" stroke=\"#000000\" d=\"M3592.7982,-607.7971C3586.1966,-596.9166 3578.5638,-584.3366 3571.893,-573.3421\"/>\n<polygon fill=\"#000000\" stroke=\"#000000\" points=\"3574.7391,-571.2856 3566.5595,-564.5518 3568.7545,-574.9167 3574.7391,-571.2856\"/>\n</g>\n<!-- 105 -->\n<g id=\"node106\" class=\"node\">\n<title>105</title>\n<polygon fill=\"#399de5\" stroke=\"#000000\" points=\"3731,-564.5 3621,-564.5 3621,-526.5 3731,-526.5 3731,-564.5\"/>\n<text text-anchor=\"middle\" x=\"3676\" y=\"-549.3\" font-family=\"Times,serif\" font-size=\"14.00\" fill=\"#000000\">samples = 157</text>\n<text text-anchor=\"middle\" x=\"3676\" y=\"-534.3\" font-family=\"Times,serif\" font-size=\"14.00\" fill=\"#000000\">value = [0, 157]</text>\n</g>\n<!-- 103&#45;&gt;105 -->\n<g id=\"edge105\" class=\"edge\">\n<title>103&#45;&gt;105</title>\n<path fill=\"none\" stroke=\"#000000\" d=\"M3629.1022,-607.7971C3637.4569,-596.699 3647.1427,-583.8328 3655.5353,-572.6844\"/>\n<polygon fill=\"#000000\" stroke=\"#000000\" points=\"3658.4395,-574.646 3661.6577,-564.5518 3652.847,-570.436 3658.4395,-574.646\"/>\n</g>\n<!-- 107 -->\n<g id=\"node108\" class=\"node\">\n<title>107</title>\n<polygon fill=\"#399de5\" stroke=\"#000000\" points=\"3844.5,-564.5 3749.5,-564.5 3749.5,-526.5 3844.5,-526.5 3844.5,-564.5\"/>\n<text text-anchor=\"middle\" x=\"3797\" y=\"-549.3\" font-family=\"Times,serif\" font-size=\"14.00\" fill=\"#000000\">samples = 7</text>\n<text text-anchor=\"middle\" x=\"3797\" y=\"-534.3\" font-family=\"Times,serif\" font-size=\"14.00\" fill=\"#000000\">value = [0, 7]</text>\n</g>\n<!-- 106&#45;&gt;107 -->\n<g id=\"edge107\" class=\"edge\">\n<title>106&#45;&gt;107</title>\n<path fill=\"none\" stroke=\"#000000\" d=\"M3797,-607.7971C3797,-597.3518 3797,-585.3403 3797,-574.6689\"/>\n<polygon fill=\"#000000\" stroke=\"#000000\" points=\"3800.5001,-574.5517 3797,-564.5518 3793.5001,-574.5518 3800.5001,-574.5517\"/>\n</g>\n<!-- 108 -->\n<g id=\"node109\" class=\"node\">\n<title>108</title>\n<polygon fill=\"#ea9a61\" stroke=\"#000000\" points=\"3979,-572 3863,-572 3863,-519 3979,-519 3979,-572\"/>\n<text text-anchor=\"middle\" x=\"3921\" y=\"-556.8\" font-family=\"Times,serif\" font-size=\"14.00\" fill=\"#000000\">X[150] &lt;= 0.318</text>\n<text text-anchor=\"middle\" x=\"3921\" y=\"-541.8\" font-family=\"Times,serif\" font-size=\"14.00\" fill=\"#000000\">samples = 6</text>\n<text text-anchor=\"middle\" x=\"3921\" y=\"-526.8\" font-family=\"Times,serif\" font-size=\"14.00\" fill=\"#000000\">value = [5, 1]</text>\n</g>\n<!-- 106&#45;&gt;108 -->\n<g id=\"edge108\" class=\"edge\">\n<title>106&#45;&gt;108</title>\n<path fill=\"none\" stroke=\"#000000\" d=\"M3834.2041,-607.7971C3847.201,-598.4687 3861.9383,-587.8911 3875.5319,-578.1344\"/>\n<polygon fill=\"#000000\" stroke=\"#000000\" points=\"3877.739,-580.8585 3883.8222,-572.1841 3873.6573,-575.1717 3877.739,-580.8585\"/>\n</g>\n<!-- 109 -->\n<g id=\"node110\" class=\"node\">\n<title>109</title>\n<polygon fill=\"#399de5\" stroke=\"#000000\" points=\"3912.5,-475.5 3817.5,-475.5 3817.5,-437.5 3912.5,-437.5 3912.5,-475.5\"/>\n<text text-anchor=\"middle\" x=\"3865\" y=\"-460.3\" font-family=\"Times,serif\" font-size=\"14.00\" fill=\"#000000\">samples = 1</text>\n<text text-anchor=\"middle\" x=\"3865\" y=\"-445.3\" font-family=\"Times,serif\" font-size=\"14.00\" fill=\"#000000\">value = [0, 1]</text>\n</g>\n<!-- 108&#45;&gt;109 -->\n<g id=\"edge109\" class=\"edge\">\n<title>108&#45;&gt;109</title>\n<path fill=\"none\" stroke=\"#000000\" d=\"M3904.1982,-518.7971C3897.352,-507.9166 3889.4365,-495.3366 3882.5187,-484.3421\"/>\n<polygon fill=\"#000000\" stroke=\"#000000\" points=\"3885.2757,-482.1517 3876.9876,-475.5518 3879.3509,-485.8797 3885.2757,-482.1517\"/>\n</g>\n<!-- 110 -->\n<g id=\"node111\" class=\"node\">\n<title>110</title>\n<polygon fill=\"#e58139\" stroke=\"#000000\" points=\"4025.5,-475.5 3930.5,-475.5 3930.5,-437.5 4025.5,-437.5 4025.5,-475.5\"/>\n<text text-anchor=\"middle\" x=\"3978\" y=\"-460.3\" font-family=\"Times,serif\" font-size=\"14.00\" fill=\"#000000\">samples = 5</text>\n<text text-anchor=\"middle\" x=\"3978\" y=\"-445.3\" font-family=\"Times,serif\" font-size=\"14.00\" fill=\"#000000\">value = [5, 0]</text>\n</g>\n<!-- 108&#45;&gt;110 -->\n<g id=\"edge110\" class=\"edge\">\n<title>108&#45;&gt;110</title>\n<path fill=\"none\" stroke=\"#000000\" d=\"M3938.1019,-518.7971C3945.1399,-507.8078 3953.2883,-495.0849 3960.3795,-484.0128\"/>\n<polygon fill=\"#000000\" stroke=\"#000000\" points=\"3963.3524,-485.8604 3965.7983,-475.5518 3957.4577,-482.0851 3963.3524,-485.8604\"/>\n</g>\n<!-- 112 -->\n<g id=\"node113\" class=\"node\">\n<title>112</title>\n<polygon fill=\"#acd6f4\" stroke=\"#000000\" points=\"4409,-839 4293,-839 4293,-786 4409,-786 4409,-839\"/>\n<text text-anchor=\"middle\" x=\"4351\" y=\"-823.8\" font-family=\"Times,serif\" font-size=\"14.00\" fill=\"#000000\">X[118] &lt;= 0.837</text>\n<text text-anchor=\"middle\" x=\"4351\" y=\"-808.8\" font-family=\"Times,serif\" font-size=\"14.00\" fill=\"#000000\">samples = 60</text>\n<text text-anchor=\"middle\" x=\"4351\" y=\"-793.8\" font-family=\"Times,serif\" font-size=\"14.00\" fill=\"#000000\">value = [22, 38]</text>\n</g>\n<!-- 111&#45;&gt;112 -->\n<g id=\"edge112\" class=\"edge\">\n<title>111&#45;&gt;112</title>\n<path fill=\"none\" stroke=\"#000000\" d=\"M4413.2971,-874.7971C4404.4087,-865.9087 4394.3862,-855.8862 4385.0203,-846.5203\"/>\n<polygon fill=\"#000000\" stroke=\"#000000\" points=\"4387.2301,-843.7803 4377.6841,-839.1841 4382.2803,-848.7301 4387.2301,-843.7803\"/>\n</g>\n<!-- 121 -->\n<g id=\"node122\" class=\"node\">\n<title>121</title>\n<polygon fill=\"#3b9ee5\" stroke=\"#000000\" points=\"4584,-839 4474,-839 4474,-786 4584,-786 4584,-839\"/>\n<text text-anchor=\"middle\" x=\"4529\" y=\"-823.8\" font-family=\"Times,serif\" font-size=\"14.00\" fill=\"#000000\">X[72] &lt;= 0.004</text>\n<text text-anchor=\"middle\" x=\"4529\" y=\"-808.8\" font-family=\"Times,serif\" font-size=\"14.00\" fill=\"#000000\">samples = 264</text>\n<text text-anchor=\"middle\" x=\"4529\" y=\"-793.8\" font-family=\"Times,serif\" font-size=\"14.00\" fill=\"#000000\">value = [3, 261]</text>\n</g>\n<!-- 111&#45;&gt;121 -->\n<g id=\"edge121\" class=\"edge\">\n<title>111&#45;&gt;121</title>\n<path fill=\"none\" stroke=\"#000000\" d=\"M4466.7029,-874.7971C4475.5913,-865.9087 4485.6138,-855.8862 4494.9797,-846.5203\"/>\n<polygon fill=\"#000000\" stroke=\"#000000\" points=\"4497.7197,-848.7301 4502.3159,-839.1841 4492.7699,-843.7803 4497.7197,-848.7301\"/>\n</g>\n<!-- 113 -->\n<g id=\"node114\" class=\"node\">\n<title>113</title>\n<polygon fill=\"#5aade9\" stroke=\"#000000\" points=\"4230,-750 4114,-750 4114,-697 4230,-697 4230,-750\"/>\n<text text-anchor=\"middle\" x=\"4172\" y=\"-734.8\" font-family=\"Times,serif\" font-size=\"14.00\" fill=\"#000000\">X[106] &lt;= 0.022</text>\n<text text-anchor=\"middle\" x=\"4172\" y=\"-719.8\" font-family=\"Times,serif\" font-size=\"14.00\" fill=\"#000000\">samples = 42</text>\n<text text-anchor=\"middle\" x=\"4172\" y=\"-704.8\" font-family=\"Times,serif\" font-size=\"14.00\" fill=\"#000000\">value = [6, 36]</text>\n</g>\n<!-- 112&#45;&gt;113 -->\n<g id=\"edge113\" class=\"edge\">\n<title>112&#45;&gt;113</title>\n<path fill=\"none\" stroke=\"#000000\" d=\"M4297.2941,-785.7971C4277.4693,-775.94 4254.8392,-764.6882 4234.3161,-754.484\"/>\n<polygon fill=\"#000000\" stroke=\"#000000\" points=\"4235.8719,-751.3488 4225.3593,-750.0306 4232.7553,-757.6168 4235.8719,-751.3488\"/>\n</g>\n<!-- 118 -->\n<g id=\"node119\" class=\"node\">\n<title>118</title>\n<polygon fill=\"#e89152\" stroke=\"#000000\" points=\"4409,-750 4293,-750 4293,-697 4409,-697 4409,-750\"/>\n<text text-anchor=\"middle\" x=\"4351\" y=\"-734.8\" font-family=\"Times,serif\" font-size=\"14.00\" fill=\"#000000\">X[199] &lt;= 0.871</text>\n<text text-anchor=\"middle\" x=\"4351\" y=\"-719.8\" font-family=\"Times,serif\" font-size=\"14.00\" fill=\"#000000\">samples = 18</text>\n<text text-anchor=\"middle\" x=\"4351\" y=\"-704.8\" font-family=\"Times,serif\" font-size=\"14.00\" fill=\"#000000\">value = [16, 2]</text>\n</g>\n<!-- 112&#45;&gt;118 -->\n<g id=\"edge118\" class=\"edge\">\n<title>112&#45;&gt;118</title>\n<path fill=\"none\" stroke=\"#000000\" d=\"M4351,-785.7971C4351,-777.7887 4351,-768.8597 4351,-760.3198\"/>\n<polygon fill=\"#000000\" stroke=\"#000000\" points=\"4354.5001,-760.1841 4351,-750.1841 4347.5001,-760.1841 4354.5001,-760.1841\"/>\n</g>\n<!-- 114 -->\n<g id=\"node115\" class=\"node\">\n<title>114</title>\n<polygon fill=\"#f6d5bd\" stroke=\"#000000\" points=\"4103,-661 3987,-661 3987,-608 4103,-608 4103,-661\"/>\n<text text-anchor=\"middle\" x=\"4045\" y=\"-645.8\" font-family=\"Times,serif\" font-size=\"14.00\" fill=\"#000000\">X[136] &lt;= 0.878</text>\n<text text-anchor=\"middle\" x=\"4045\" y=\"-630.8\" font-family=\"Times,serif\" font-size=\"14.00\" fill=\"#000000\">samples = 10</text>\n<text text-anchor=\"middle\" x=\"4045\" y=\"-615.8\" font-family=\"Times,serif\" font-size=\"14.00\" fill=\"#000000\">value = [6, 4]</text>\n</g>\n<!-- 113&#45;&gt;114 -->\n<g id=\"edge114\" class=\"edge\">\n<title>113&#45;&gt;114</title>\n<path fill=\"none\" stroke=\"#000000\" d=\"M4133.8958,-696.7971C4120.5845,-687.4687 4105.4906,-676.8911 4091.5682,-667.1344\"/>\n<polygon fill=\"#000000\" stroke=\"#000000\" points=\"4093.2752,-664.0568 4083.0773,-661.1841 4089.258,-669.7893 4093.2752,-664.0568\"/>\n</g>\n<!-- 117 -->\n<g id=\"node118\" class=\"node\">\n<title>117</title>\n<polygon fill=\"#399de5\" stroke=\"#000000\" points=\"4223,-653.5 4121,-653.5 4121,-615.5 4223,-615.5 4223,-653.5\"/>\n<text text-anchor=\"middle\" x=\"4172\" y=\"-638.3\" font-family=\"Times,serif\" font-size=\"14.00\" fill=\"#000000\">samples = 32</text>\n<text text-anchor=\"middle\" x=\"4172\" y=\"-623.3\" font-family=\"Times,serif\" font-size=\"14.00\" fill=\"#000000\">value = [0, 32]</text>\n</g>\n<!-- 113&#45;&gt;117 -->\n<g id=\"edge117\" class=\"edge\">\n<title>113&#45;&gt;117</title>\n<path fill=\"none\" stroke=\"#000000\" d=\"M4172,-696.7971C4172,-686.3518 4172,-674.3403 4172,-663.6689\"/>\n<polygon fill=\"#000000\" stroke=\"#000000\" points=\"4175.5001,-663.5517 4172,-653.5518 4168.5001,-663.5518 4175.5001,-663.5517\"/>\n</g>\n<!-- 115 -->\n<g id=\"node116\" class=\"node\">\n<title>115</title>\n<polygon fill=\"#e58139\" stroke=\"#000000\" points=\"4092.5,-564.5 3997.5,-564.5 3997.5,-526.5 4092.5,-526.5 4092.5,-564.5\"/>\n<text text-anchor=\"middle\" x=\"4045\" y=\"-549.3\" font-family=\"Times,serif\" font-size=\"14.00\" fill=\"#000000\">samples = 6</text>\n<text text-anchor=\"middle\" x=\"4045\" y=\"-534.3\" font-family=\"Times,serif\" font-size=\"14.00\" fill=\"#000000\">value = [6, 0]</text>\n</g>\n<!-- 114&#45;&gt;115 -->\n<g id=\"edge115\" class=\"edge\">\n<title>114&#45;&gt;115</title>\n<path fill=\"none\" stroke=\"#000000\" d=\"M4045,-607.7971C4045,-597.3518 4045,-585.3403 4045,-574.6689\"/>\n<polygon fill=\"#000000\" stroke=\"#000000\" points=\"4048.5001,-574.5517 4045,-564.5518 4041.5001,-574.5518 4048.5001,-574.5517\"/>\n</g>\n<!-- 116 -->\n<g id=\"node117\" class=\"node\">\n<title>116</title>\n<polygon fill=\"#399de5\" stroke=\"#000000\" points=\"4205.5,-564.5 4110.5,-564.5 4110.5,-526.5 4205.5,-526.5 4205.5,-564.5\"/>\n<text text-anchor=\"middle\" x=\"4158\" y=\"-549.3\" font-family=\"Times,serif\" font-size=\"14.00\" fill=\"#000000\">samples = 4</text>\n<text text-anchor=\"middle\" x=\"4158\" y=\"-534.3\" font-family=\"Times,serif\" font-size=\"14.00\" fill=\"#000000\">value = [0, 4]</text>\n</g>\n<!-- 114&#45;&gt;116 -->\n<g id=\"edge116\" class=\"edge\">\n<title>114&#45;&gt;116</title>\n<path fill=\"none\" stroke=\"#000000\" d=\"M4078.9037,-607.7971C4093.6853,-596.155 4110.9372,-582.5671 4125.5503,-571.0577\"/>\n<polygon fill=\"#000000\" stroke=\"#000000\" points=\"4128.1203,-573.4888 4133.8107,-564.5518 4123.7891,-567.9896 4128.1203,-573.4888\"/>\n</g>\n<!-- 119 -->\n<g id=\"node120\" class=\"node\">\n<title>119</title>\n<polygon fill=\"#e58139\" stroke=\"#000000\" points=\"4343,-653.5 4241,-653.5 4241,-615.5 4343,-615.5 4343,-653.5\"/>\n<text text-anchor=\"middle\" x=\"4292\" y=\"-638.3\" font-family=\"Times,serif\" font-size=\"14.00\" fill=\"#000000\">samples = 16</text>\n<text text-anchor=\"middle\" x=\"4292\" y=\"-623.3\" font-family=\"Times,serif\" font-size=\"14.00\" fill=\"#000000\">value = [16, 0]</text>\n</g>\n<!-- 118&#45;&gt;119 -->\n<g id=\"edge119\" class=\"edge\">\n<title>118&#45;&gt;119</title>\n<path fill=\"none\" stroke=\"#000000\" d=\"M4333.2981,-696.7971C4326.013,-685.8078 4317.5787,-673.0849 4310.2388,-662.0128\"/>\n<polygon fill=\"#000000\" stroke=\"#000000\" points=\"4313.0725,-659.9528 4304.6298,-653.5518 4307.238,-663.8206 4313.0725,-659.9528\"/>\n</g>\n<!-- 120 -->\n<g id=\"node121\" class=\"node\">\n<title>120</title>\n<polygon fill=\"#399de5\" stroke=\"#000000\" points=\"4456.5,-653.5 4361.5,-653.5 4361.5,-615.5 4456.5,-615.5 4456.5,-653.5\"/>\n<text text-anchor=\"middle\" x=\"4409\" y=\"-638.3\" font-family=\"Times,serif\" font-size=\"14.00\" fill=\"#000000\">samples = 2</text>\n<text text-anchor=\"middle\" x=\"4409\" y=\"-623.3\" font-family=\"Times,serif\" font-size=\"14.00\" fill=\"#000000\">value = [0, 2]</text>\n</g>\n<!-- 118&#45;&gt;120 -->\n<g id=\"edge120\" class=\"edge\">\n<title>118&#45;&gt;120</title>\n<path fill=\"none\" stroke=\"#000000\" d=\"M4368.4019,-696.7971C4375.5635,-685.8078 4383.8548,-673.0849 4391.0703,-662.0128\"/>\n<polygon fill=\"#000000\" stroke=\"#000000\" points=\"4394.0567,-663.8407 4396.5842,-653.5518 4388.1921,-660.0188 4394.0567,-663.8407\"/>\n</g>\n<!-- 122 -->\n<g id=\"node123\" class=\"node\">\n<title>122</title>\n<polygon fill=\"#83c2ef\" stroke=\"#000000\" points=\"4587,-750 4471,-750 4471,-697 4587,-697 4587,-750\"/>\n<text text-anchor=\"middle\" x=\"4529\" y=\"-734.8\" font-family=\"Times,serif\" font-size=\"14.00\" fill=\"#000000\">X[132] &lt;= 0.498</text>\n<text text-anchor=\"middle\" x=\"4529\" y=\"-719.8\" font-family=\"Times,serif\" font-size=\"14.00\" fill=\"#000000\">samples = 11</text>\n<text text-anchor=\"middle\" x=\"4529\" y=\"-704.8\" font-family=\"Times,serif\" font-size=\"14.00\" fill=\"#000000\">value = [3, 8]</text>\n</g>\n<!-- 121&#45;&gt;122 -->\n<g id=\"edge122\" class=\"edge\">\n<title>121&#45;&gt;122</title>\n<path fill=\"none\" stroke=\"#000000\" d=\"M4529,-785.7971C4529,-777.7887 4529,-768.8597 4529,-760.3198\"/>\n<polygon fill=\"#000000\" stroke=\"#000000\" points=\"4532.5001,-760.1841 4529,-750.1841 4525.5001,-760.1841 4532.5001,-760.1841\"/>\n</g>\n<!-- 127 -->\n<g id=\"node128\" class=\"node\">\n<title>127</title>\n<polygon fill=\"#399de5\" stroke=\"#000000\" points=\"4715,-742.5 4605,-742.5 4605,-704.5 4715,-704.5 4715,-742.5\"/>\n<text text-anchor=\"middle\" x=\"4660\" y=\"-727.3\" font-family=\"Times,serif\" font-size=\"14.00\" fill=\"#000000\">samples = 253</text>\n<text text-anchor=\"middle\" x=\"4660\" y=\"-712.3\" font-family=\"Times,serif\" font-size=\"14.00\" fill=\"#000000\">value = [0, 253]</text>\n</g>\n<!-- 121&#45;&gt;127 -->\n<g id=\"edge127\" class=\"edge\">\n<title>121&#45;&gt;127</title>\n<path fill=\"none\" stroke=\"#000000\" d=\"M4568.3043,-785.7971C4585.7607,-773.9374 4606.1892,-760.0585 4623.328,-748.4145\"/>\n<polygon fill=\"#000000\" stroke=\"#000000\" points=\"4625.6528,-751.0665 4631.9575,-742.5518 4621.719,-745.2764 4625.6528,-751.0665\"/>\n</g>\n<!-- 123 -->\n<g id=\"node124\" class=\"node\">\n<title>123</title>\n<polygon fill=\"#52a9e8\" stroke=\"#000000\" points=\"4583,-661 4475,-661 4475,-608 4583,-608 4583,-661\"/>\n<text text-anchor=\"middle\" x=\"4529\" y=\"-645.8\" font-family=\"Times,serif\" font-size=\"14.00\" fill=\"#000000\">X[63] &lt;= 0.116</text>\n<text text-anchor=\"middle\" x=\"4529\" y=\"-630.8\" font-family=\"Times,serif\" font-size=\"14.00\" fill=\"#000000\">samples = 9</text>\n<text text-anchor=\"middle\" x=\"4529\" y=\"-615.8\" font-family=\"Times,serif\" font-size=\"14.00\" fill=\"#000000\">value = [1, 8]</text>\n</g>\n<!-- 122&#45;&gt;123 -->\n<g id=\"edge123\" class=\"edge\">\n<title>122&#45;&gt;123</title>\n<path fill=\"none\" stroke=\"#000000\" d=\"M4529,-696.7971C4529,-688.7887 4529,-679.8597 4529,-671.3198\"/>\n<polygon fill=\"#000000\" stroke=\"#000000\" points=\"4532.5001,-671.1841 4529,-661.1841 4525.5001,-671.1841 4532.5001,-671.1841\"/>\n</g>\n<!-- 126 -->\n<g id=\"node127\" class=\"node\">\n<title>126</title>\n<polygon fill=\"#e58139\" stroke=\"#000000\" points=\"4696.5,-653.5 4601.5,-653.5 4601.5,-615.5 4696.5,-615.5 4696.5,-653.5\"/>\n<text text-anchor=\"middle\" x=\"4649\" y=\"-638.3\" font-family=\"Times,serif\" font-size=\"14.00\" fill=\"#000000\">samples = 2</text>\n<text text-anchor=\"middle\" x=\"4649\" y=\"-623.3\" font-family=\"Times,serif\" font-size=\"14.00\" fill=\"#000000\">value = [2, 0]</text>\n</g>\n<!-- 122&#45;&gt;126 -->\n<g id=\"edge126\" class=\"edge\">\n<title>122&#45;&gt;126</title>\n<path fill=\"none\" stroke=\"#000000\" d=\"M4565.004,-696.7971C4580.8479,-685.0462 4599.3645,-671.313 4614.9745,-659.7356\"/>\n<polygon fill=\"#000000\" stroke=\"#000000\" points=\"4617.3652,-662.3201 4623.3122,-653.5518 4613.1952,-656.6977 4617.3652,-662.3201\"/>\n</g>\n<!-- 124 -->\n<g id=\"node125\" class=\"node\">\n<title>124</title>\n<polygon fill=\"#399de5\" stroke=\"#000000\" points=\"4463.5,-564.5 4368.5,-564.5 4368.5,-526.5 4463.5,-526.5 4463.5,-564.5\"/>\n<text text-anchor=\"middle\" x=\"4416\" y=\"-549.3\" font-family=\"Times,serif\" font-size=\"14.00\" fill=\"#000000\">samples = 8</text>\n<text text-anchor=\"middle\" x=\"4416\" y=\"-534.3\" font-family=\"Times,serif\" font-size=\"14.00\" fill=\"#000000\">value = [0, 8]</text>\n</g>\n<!-- 123&#45;&gt;124 -->\n<g id=\"edge124\" class=\"edge\">\n<title>123&#45;&gt;124</title>\n<path fill=\"none\" stroke=\"#000000\" d=\"M4495.0963,-607.7971C4480.3147,-596.155 4463.0628,-582.5671 4448.4497,-571.0577\"/>\n<polygon fill=\"#000000\" stroke=\"#000000\" points=\"4450.2109,-567.9896 4440.1893,-564.5518 4445.8797,-573.4888 4450.2109,-567.9896\"/>\n</g>\n<!-- 125 -->\n<g id=\"node126\" class=\"node\">\n<title>125</title>\n<polygon fill=\"#e58139\" stroke=\"#000000\" points=\"4576.5,-564.5 4481.5,-564.5 4481.5,-526.5 4576.5,-526.5 4576.5,-564.5\"/>\n<text text-anchor=\"middle\" x=\"4529\" y=\"-549.3\" font-family=\"Times,serif\" font-size=\"14.00\" fill=\"#000000\">samples = 1</text>\n<text text-anchor=\"middle\" x=\"4529\" y=\"-534.3\" font-family=\"Times,serif\" font-size=\"14.00\" fill=\"#000000\">value = [1, 0]</text>\n</g>\n<!-- 123&#45;&gt;125 -->\n<g id=\"edge125\" class=\"edge\">\n<title>123&#45;&gt;125</title>\n<path fill=\"none\" stroke=\"#000000\" d=\"M4529,-607.7971C4529,-597.3518 4529,-585.3403 4529,-574.6689\"/>\n<polygon fill=\"#000000\" stroke=\"#000000\" points=\"4532.5001,-574.5517 4529,-564.5518 4525.5001,-574.5518 4532.5001,-574.5517\"/>\n</g>\n<!-- 129 -->\n<g id=\"node130\" class=\"node\">\n<title>129</title>\n<polygon fill=\"#84c2ef\" stroke=\"#000000\" points=\"5246.5,-928 5121.5,-928 5121.5,-875 5246.5,-875 5246.5,-928\"/>\n<text text-anchor=\"middle\" x=\"5184\" y=\"-912.8\" font-family=\"Times,serif\" font-size=\"14.00\" fill=\"#000000\">X[42] &lt;= 0.194</text>\n<text text-anchor=\"middle\" x=\"5184\" y=\"-897.8\" font-family=\"Times,serif\" font-size=\"14.00\" fill=\"#000000\">samples = 596</text>\n<text text-anchor=\"middle\" x=\"5184\" y=\"-882.8\" font-family=\"Times,serif\" font-size=\"14.00\" fill=\"#000000\">value = [164, 432]</text>\n</g>\n<!-- 128&#45;&gt;129 -->\n<g id=\"edge129\" class=\"edge\">\n<title>128&#45;&gt;129</title>\n<path fill=\"none\" stroke=\"#000000\" d=\"M5184,-963.7971C5184,-955.7887 5184,-946.8597 5184,-938.3198\"/>\n<polygon fill=\"#000000\" stroke=\"#000000\" points=\"5187.5001,-938.1841 5184,-928.1841 5180.5001,-938.1841 5187.5001,-938.1841\"/>\n</g>\n<!-- 180 -->\n<g id=\"node181\" class=\"node\">\n<title>180</title>\n<polygon fill=\"#3b9ee5\" stroke=\"#000000\" points=\"6537.5,-928 6412.5,-928 6412.5,-875 6537.5,-875 6537.5,-928\"/>\n<text text-anchor=\"middle\" x=\"6475\" y=\"-912.8\" font-family=\"Times,serif\" font-size=\"14.00\" fill=\"#000000\">X[136] &lt;= 0.32</text>\n<text text-anchor=\"middle\" x=\"6475\" y=\"-897.8\" font-family=\"Times,serif\" font-size=\"14.00\" fill=\"#000000\">samples = 4237</text>\n<text text-anchor=\"middle\" x=\"6475\" y=\"-882.8\" font-family=\"Times,serif\" font-size=\"14.00\" fill=\"#000000\">value = [51, 4186]</text>\n</g>\n<!-- 128&#45;&gt;180 -->\n<g id=\"edge180\" class=\"edge\">\n<title>128&#45;&gt;180</title>\n<path fill=\"none\" stroke=\"#000000\" d=\"M5250.2428,-985.9333C5469.8971,-970.7906 6173.2959,-922.2991 6402.2359,-906.5163\"/>\n<polygon fill=\"#000000\" stroke=\"#000000\" points=\"6402.7166,-909.9915 6412.4522,-905.812 6402.2351,-903.0081 6402.7166,-909.9915\"/>\n</g>\n<!-- 130 -->\n<g id=\"node131\" class=\"node\">\n<title>130</title>\n<polygon fill=\"#4fa8e8\" stroke=\"#000000\" points=\"5154.5,-839 5037.5,-839 5037.5,-786 5154.5,-786 5154.5,-839\"/>\n<text text-anchor=\"middle\" x=\"5096\" y=\"-823.8\" font-family=\"Times,serif\" font-size=\"14.00\" fill=\"#000000\">X[44] &lt;= 0.167</text>\n<text text-anchor=\"middle\" x=\"5096\" y=\"-808.8\" font-family=\"Times,serif\" font-size=\"14.00\" fill=\"#000000\">samples = 423</text>\n<text text-anchor=\"middle\" x=\"5096\" y=\"-793.8\" font-family=\"Times,serif\" font-size=\"14.00\" fill=\"#000000\">value = [43, 380]</text>\n</g>\n<!-- 129&#45;&gt;130 -->\n<g id=\"edge130\" class=\"edge\">\n<title>129&#45;&gt;130</title>\n<path fill=\"none\" stroke=\"#000000\" d=\"M5157.5971,-874.7971C5148.8086,-865.9087 5138.8987,-855.8862 5129.6381,-846.5203\"/>\n<polygon fill=\"#000000\" stroke=\"#000000\" points=\"5131.9041,-843.8342 5122.3843,-839.1841 5126.9265,-848.7559 5131.9041,-843.8342\"/>\n</g>\n<!-- 155 -->\n<g id=\"node156\" class=\"node\">\n<title>155</title>\n<polygon fill=\"#f0b78e\" stroke=\"#000000\" points=\"5392.5,-839 5275.5,-839 5275.5,-786 5392.5,-786 5392.5,-839\"/>\n<text text-anchor=\"middle\" x=\"5334\" y=\"-823.8\" font-family=\"Times,serif\" font-size=\"14.00\" fill=\"#000000\">X[149] &lt;= 0.041</text>\n<text text-anchor=\"middle\" x=\"5334\" y=\"-808.8\" font-family=\"Times,serif\" font-size=\"14.00\" fill=\"#000000\">samples = 173</text>\n<text text-anchor=\"middle\" x=\"5334\" y=\"-793.8\" font-family=\"Times,serif\" font-size=\"14.00\" fill=\"#000000\">value = [121, 52]</text>\n</g>\n<!-- 129&#45;&gt;155 -->\n<g id=\"edge155\" class=\"edge\">\n<title>129&#45;&gt;155</title>\n<path fill=\"none\" stroke=\"#000000\" d=\"M5229.0049,-874.7971C5245.2454,-865.1611 5263.7325,-854.1921 5280.6203,-844.1719\"/>\n<polygon fill=\"#000000\" stroke=\"#000000\" points=\"5282.4713,-847.1435 5289.2855,-839.0306 5278.8994,-841.1234 5282.4713,-847.1435\"/>\n</g>\n<!-- 131 -->\n<g id=\"node132\" class=\"node\">\n<title>131</title>\n<polygon fill=\"#44a2e6\" stroke=\"#000000\" points=\"4963.5,-750 4846.5,-750 4846.5,-697 4963.5,-697 4963.5,-750\"/>\n<text text-anchor=\"middle\" x=\"4905\" y=\"-734.8\" font-family=\"Times,serif\" font-size=\"14.00\" fill=\"#000000\">X[213] &lt;= 0.002</text>\n<text text-anchor=\"middle\" x=\"4905\" y=\"-719.8\" font-family=\"Times,serif\" font-size=\"14.00\" fill=\"#000000\">samples = 392</text>\n<text text-anchor=\"middle\" x=\"4905\" y=\"-704.8\" font-family=\"Times,serif\" font-size=\"14.00\" fill=\"#000000\">value = [20, 372]</text>\n</g>\n<!-- 130&#45;&gt;131 -->\n<g id=\"edge131\" class=\"edge\">\n<title>130&#45;&gt;131</title>\n<path fill=\"none\" stroke=\"#000000\" d=\"M5038.9524,-785.9176C5017.6958,-776.0127 4993.388,-764.686 4971.366,-754.4244\"/>\n<polygon fill=\"#000000\" stroke=\"#000000\" points=\"4972.626,-751.1503 4962.0834,-750.0991 4969.6694,-757.4953 4972.626,-751.1503\"/>\n</g>\n<!-- 148 -->\n<g id=\"node149\" class=\"node\">\n<title>148</title>\n<polygon fill=\"#eead7e\" stroke=\"#000000\" points=\"5154,-750 5038,-750 5038,-697 5154,-697 5154,-750\"/>\n<text text-anchor=\"middle\" x=\"5096\" y=\"-734.8\" font-family=\"Times,serif\" font-size=\"14.00\" fill=\"#000000\">X[107] &lt;= 0.022</text>\n<text text-anchor=\"middle\" x=\"5096\" y=\"-719.8\" font-family=\"Times,serif\" font-size=\"14.00\" fill=\"#000000\">samples = 31</text>\n<text text-anchor=\"middle\" x=\"5096\" y=\"-704.8\" font-family=\"Times,serif\" font-size=\"14.00\" fill=\"#000000\">value = [23, 8]</text>\n</g>\n<!-- 130&#45;&gt;148 -->\n<g id=\"edge148\" class=\"edge\">\n<title>130&#45;&gt;148</title>\n<path fill=\"none\" stroke=\"#000000\" d=\"M5096,-785.7971C5096,-777.7887 5096,-768.8597 5096,-760.3198\"/>\n<polygon fill=\"#000000\" stroke=\"#000000\" points=\"5099.5001,-760.1841 5096,-750.1841 5092.5001,-760.1841 5099.5001,-760.1841\"/>\n</g>\n<!-- 132 -->\n<g id=\"node133\" class=\"node\">\n<title>132</title>\n<polygon fill=\"#52a9e8\" stroke=\"#000000\" points=\"4831.5,-661 4714.5,-661 4714.5,-608 4831.5,-608 4831.5,-661\"/>\n<text text-anchor=\"middle\" x=\"4773\" y=\"-645.8\" font-family=\"Times,serif\" font-size=\"14.00\" fill=\"#000000\">X[89] &lt;= 0.161</text>\n<text text-anchor=\"middle\" x=\"4773\" y=\"-630.8\" font-family=\"Times,serif\" font-size=\"14.00\" fill=\"#000000\">samples = 179</text>\n<text text-anchor=\"middle\" x=\"4773\" y=\"-615.8\" font-family=\"Times,serif\" font-size=\"14.00\" fill=\"#000000\">value = [20, 159]</text>\n</g>\n<!-- 131&#45;&gt;132 -->\n<g id=\"edge132\" class=\"edge\">\n<title>131&#45;&gt;132</title>\n<path fill=\"none\" stroke=\"#000000\" d=\"M4865.3956,-696.7971C4851.4298,-687.3807 4835.576,-676.6914 4820.9924,-666.8585\"/>\n<polygon fill=\"#000000\" stroke=\"#000000\" points=\"4822.8245,-663.8725 4812.5764,-661.1841 4818.9112,-669.6765 4822.8245,-663.8725\"/>\n</g>\n<!-- 147 -->\n<g id=\"node148\" class=\"node\">\n<title>147</title>\n<polygon fill=\"#399de5\" stroke=\"#000000\" points=\"4960,-653.5 4850,-653.5 4850,-615.5 4960,-615.5 4960,-653.5\"/>\n<text text-anchor=\"middle\" x=\"4905\" y=\"-638.3\" font-family=\"Times,serif\" font-size=\"14.00\" fill=\"#000000\">samples = 213</text>\n<text text-anchor=\"middle\" x=\"4905\" y=\"-623.3\" font-family=\"Times,serif\" font-size=\"14.00\" fill=\"#000000\">value = [0, 213]</text>\n</g>\n<!-- 131&#45;&gt;147 -->\n<g id=\"edge147\" class=\"edge\">\n<title>131&#45;&gt;147</title>\n<path fill=\"none\" stroke=\"#000000\" d=\"M4905,-696.7971C4905,-686.3518 4905,-674.3403 4905,-663.6689\"/>\n<polygon fill=\"#000000\" stroke=\"#000000\" points=\"4908.5001,-663.5517 4905,-653.5518 4901.5001,-663.5518 4908.5001,-663.5517\"/>\n</g>\n<!-- 133 -->\n<g id=\"node134\" class=\"node\">\n<title>133</title>\n<polygon fill=\"#c5e2f7\" stroke=\"#000000\" points=\"4705,-572 4595,-572 4595,-519 4705,-519 4705,-572\"/>\n<text text-anchor=\"middle\" x=\"4650\" y=\"-556.8\" font-family=\"Times,serif\" font-size=\"14.00\" fill=\"#000000\">X[54] &lt;= 0.071</text>\n<text text-anchor=\"middle\" x=\"4650\" y=\"-541.8\" font-family=\"Times,serif\" font-size=\"14.00\" fill=\"#000000\">samples = 41</text>\n<text text-anchor=\"middle\" x=\"4650\" y=\"-526.8\" font-family=\"Times,serif\" font-size=\"14.00\" fill=\"#000000\">value = [17, 24]</text>\n</g>\n<!-- 132&#45;&gt;133 -->\n<g id=\"edge133\" class=\"edge\">\n<title>132&#45;&gt;133</title>\n<path fill=\"none\" stroke=\"#000000\" d=\"M4736.0959,-607.7971C4723.2039,-598.4687 4708.5854,-587.8911 4695.1015,-578.1344\"/>\n<polygon fill=\"#000000\" stroke=\"#000000\" points=\"4697.0314,-575.2107 4686.878,-572.1841 4692.9279,-580.8818 4697.0314,-575.2107\"/>\n</g>\n<!-- 142 -->\n<g id=\"node143\" class=\"node\">\n<title>142</title>\n<polygon fill=\"#3d9fe6\" stroke=\"#000000\" points=\"4836,-572 4726,-572 4726,-519 4836,-519 4836,-572\"/>\n<text text-anchor=\"middle\" x=\"4781\" y=\"-556.8\" font-family=\"Times,serif\" font-size=\"14.00\" fill=\"#000000\">X[150] &lt;= 0.99</text>\n<text text-anchor=\"middle\" x=\"4781\" y=\"-541.8\" font-family=\"Times,serif\" font-size=\"14.00\" fill=\"#000000\">samples = 138</text>\n<text text-anchor=\"middle\" x=\"4781\" y=\"-526.8\" font-family=\"Times,serif\" font-size=\"14.00\" fill=\"#000000\">value = [3, 135]</text>\n</g>\n<!-- 132&#45;&gt;142 -->\n<g id=\"edge142\" class=\"edge\">\n<title>132&#45;&gt;142</title>\n<path fill=\"none\" stroke=\"#000000\" d=\"M4775.4003,-607.7971C4776.1201,-599.7887 4776.9227,-590.8597 4777.6904,-582.3198\"/>\n<polygon fill=\"#000000\" stroke=\"#000000\" points=\"4781.192,-582.4573 4778.6014,-572.1841 4774.2201,-581.8306 4781.192,-582.4573\"/>\n</g>\n<!-- 134 -->\n<g id=\"node135\" class=\"node\">\n<title>134</title>\n<polygon fill=\"#e78a47\" stroke=\"#000000\" points=\"4574,-483 4466,-483 4466,-430 4574,-430 4574,-483\"/>\n<text text-anchor=\"middle\" x=\"4520\" y=\"-467.8\" font-family=\"Times,serif\" font-size=\"14.00\" fill=\"#000000\">X[116] &lt;= 0.41</text>\n<text text-anchor=\"middle\" x=\"4520\" y=\"-452.8\" font-family=\"Times,serif\" font-size=\"14.00\" fill=\"#000000\">samples = 15</text>\n<text text-anchor=\"middle\" x=\"4520\" y=\"-437.8\" font-family=\"Times,serif\" font-size=\"14.00\" fill=\"#000000\">value = [14, 1]</text>\n</g>\n<!-- 133&#45;&gt;134 -->\n<g id=\"edge134\" class=\"edge\">\n<title>133&#45;&gt;134</title>\n<path fill=\"none\" stroke=\"#000000\" d=\"M4610.9957,-518.7971C4597.2414,-509.3807 4581.6278,-498.6914 4567.2652,-488.8585\"/>\n<polygon fill=\"#000000\" stroke=\"#000000\" points=\"4569.2055,-485.9452 4558.9768,-483.1841 4565.2511,-491.7213 4569.2055,-485.9452\"/>\n</g>\n<!-- 137 -->\n<g id=\"node138\" class=\"node\">\n<title>137</title>\n<polygon fill=\"#53aae8\" stroke=\"#000000\" points=\"4708,-483 4592,-483 4592,-430 4708,-430 4708,-483\"/>\n<text text-anchor=\"middle\" x=\"4650\" y=\"-467.8\" font-family=\"Times,serif\" font-size=\"14.00\" fill=\"#000000\">X[134] &lt;= 0.933</text>\n<text text-anchor=\"middle\" x=\"4650\" y=\"-452.8\" font-family=\"Times,serif\" font-size=\"14.00\" fill=\"#000000\">samples = 26</text>\n<text text-anchor=\"middle\" x=\"4650\" y=\"-437.8\" font-family=\"Times,serif\" font-size=\"14.00\" fill=\"#000000\">value = [3, 23]</text>\n</g>\n<!-- 133&#45;&gt;137 -->\n<g id=\"edge137\" class=\"edge\">\n<title>133&#45;&gt;137</title>\n<path fill=\"none\" stroke=\"#000000\" d=\"M4650,-518.7971C4650,-510.7887 4650,-501.8597 4650,-493.3198\"/>\n<polygon fill=\"#000000\" stroke=\"#000000\" points=\"4653.5001,-493.1841 4650,-483.1841 4646.5001,-493.1841 4653.5001,-493.1841\"/>\n</g>\n<!-- 135 -->\n<g id=\"node136\" class=\"node\">\n<title>135</title>\n<polygon fill=\"#e58139\" stroke=\"#000000\" points=\"4457,-386.5 4355,-386.5 4355,-348.5 4457,-348.5 4457,-386.5\"/>\n<text text-anchor=\"middle\" x=\"4406\" y=\"-371.3\" font-family=\"Times,serif\" font-size=\"14.00\" fill=\"#000000\">samples = 14</text>\n<text text-anchor=\"middle\" x=\"4406\" y=\"-356.3\" font-family=\"Times,serif\" font-size=\"14.00\" fill=\"#000000\">value = [14, 0]</text>\n</g>\n<!-- 134&#45;&gt;135 -->\n<g id=\"edge135\" class=\"edge\">\n<title>134&#45;&gt;135</title>\n<path fill=\"none\" stroke=\"#000000\" d=\"M4485.7962,-429.7971C4470.7445,-418.0462 4453.1537,-404.313 4438.3242,-392.7356\"/>\n<polygon fill=\"#000000\" stroke=\"#000000\" points=\"4440.4396,-389.9467 4430.4034,-386.5518 4436.1319,-395.4644 4440.4396,-389.9467\"/>\n</g>\n<!-- 136 -->\n<g id=\"node137\" class=\"node\">\n<title>136</title>\n<polygon fill=\"#399de5\" stroke=\"#000000\" points=\"4570.5,-386.5 4475.5,-386.5 4475.5,-348.5 4570.5,-348.5 4570.5,-386.5\"/>\n<text text-anchor=\"middle\" x=\"4523\" y=\"-371.3\" font-family=\"Times,serif\" font-size=\"14.00\" fill=\"#000000\">samples = 1</text>\n<text text-anchor=\"middle\" x=\"4523\" y=\"-356.3\" font-family=\"Times,serif\" font-size=\"14.00\" fill=\"#000000\">value = [0, 1]</text>\n</g>\n<!-- 134&#45;&gt;136 -->\n<g id=\"edge136\" class=\"edge\">\n<title>134&#45;&gt;136</title>\n<path fill=\"none\" stroke=\"#000000\" d=\"M4520.9001,-429.7971C4521.2522,-419.3518 4521.6571,-407.3403 4522.0168,-396.6689\"/>\n<polygon fill=\"#000000\" stroke=\"#000000\" points=\"4525.5188,-396.664 4522.3578,-386.5518 4518.5228,-396.4282 4525.5188,-396.664\"/>\n</g>\n<!-- 138 -->\n<g id=\"node139\" class=\"node\">\n<title>138</title>\n<polygon fill=\"#399de5\" stroke=\"#000000\" points=\"4695,-386.5 4593,-386.5 4593,-348.5 4695,-348.5 4695,-386.5\"/>\n<text text-anchor=\"middle\" x=\"4644\" y=\"-371.3\" font-family=\"Times,serif\" font-size=\"14.00\" fill=\"#000000\">samples = 22</text>\n<text text-anchor=\"middle\" x=\"4644\" y=\"-356.3\" font-family=\"Times,serif\" font-size=\"14.00\" fill=\"#000000\">value = [0, 22]</text>\n</g>\n<!-- 137&#45;&gt;138 -->\n<g id=\"edge138\" class=\"edge\">\n<title>137&#45;&gt;138</title>\n<path fill=\"none\" stroke=\"#000000\" d=\"M4648.1998,-429.7971C4647.4956,-419.3518 4646.6859,-407.3403 4645.9664,-396.6689\"/>\n<polygon fill=\"#000000\" stroke=\"#000000\" points=\"4649.4492,-396.2937 4645.2844,-386.5518 4642.465,-396.7646 4649.4492,-396.2937\"/>\n</g>\n<!-- 139 -->\n<g id=\"node140\" class=\"node\">\n<title>139</title>\n<polygon fill=\"#eeab7b\" stroke=\"#000000\" points=\"4822.5,-394 4713.5,-394 4713.5,-341 4822.5,-341 4822.5,-394\"/>\n<text text-anchor=\"middle\" x=\"4768\" y=\"-378.8\" font-family=\"Times,serif\" font-size=\"14.00\" fill=\"#000000\">X[99] &lt;= 0.422</text>\n<text text-anchor=\"middle\" x=\"4768\" y=\"-363.8\" font-family=\"Times,serif\" font-size=\"14.00\" fill=\"#000000\">samples = 4</text>\n<text text-anchor=\"middle\" x=\"4768\" y=\"-348.8\" font-family=\"Times,serif\" font-size=\"14.00\" fill=\"#000000\">value = [3, 1]</text>\n</g>\n<!-- 137&#45;&gt;139 -->\n<g id=\"edge139\" class=\"edge\">\n<title>137&#45;&gt;139</title>\n<path fill=\"none\" stroke=\"#000000\" d=\"M4685.4039,-429.7971C4697.6552,-420.5567 4711.5317,-410.0905 4724.3655,-400.4107\"/>\n<polygon fill=\"#000000\" stroke=\"#000000\" points=\"4726.7449,-403.0001 4732.6211,-394.1841 4722.5298,-397.4114 4726.7449,-403.0001\"/>\n</g>\n<!-- 140 -->\n<g id=\"node141\" class=\"node\">\n<title>140</title>\n<polygon fill=\"#e58139\" stroke=\"#000000\" points=\"4759.5,-297.5 4664.5,-297.5 4664.5,-259.5 4759.5,-259.5 4759.5,-297.5\"/>\n<text text-anchor=\"middle\" x=\"4712\" y=\"-282.3\" font-family=\"Times,serif\" font-size=\"14.00\" fill=\"#000000\">samples = 3</text>\n<text text-anchor=\"middle\" x=\"4712\" y=\"-267.3\" font-family=\"Times,serif\" font-size=\"14.00\" fill=\"#000000\">value = [3, 0]</text>\n</g>\n<!-- 139&#45;&gt;140 -->\n<g id=\"edge140\" class=\"edge\">\n<title>139&#45;&gt;140</title>\n<path fill=\"none\" stroke=\"#000000\" d=\"M4751.1982,-340.7971C4744.352,-329.9166 4736.4365,-317.3366 4729.5187,-306.3421\"/>\n<polygon fill=\"#000000\" stroke=\"#000000\" points=\"4732.2757,-304.1517 4723.9876,-297.5518 4726.3509,-307.8797 4732.2757,-304.1517\"/>\n</g>\n<!-- 141 -->\n<g id=\"node142\" class=\"node\">\n<title>141</title>\n<polygon fill=\"#399de5\" stroke=\"#000000\" points=\"4872.5,-297.5 4777.5,-297.5 4777.5,-259.5 4872.5,-259.5 4872.5,-297.5\"/>\n<text text-anchor=\"middle\" x=\"4825\" y=\"-282.3\" font-family=\"Times,serif\" font-size=\"14.00\" fill=\"#000000\">samples = 1</text>\n<text text-anchor=\"middle\" x=\"4825\" y=\"-267.3\" font-family=\"Times,serif\" font-size=\"14.00\" fill=\"#000000\">value = [0, 1]</text>\n</g>\n<!-- 139&#45;&gt;141 -->\n<g id=\"edge141\" class=\"edge\">\n<title>139&#45;&gt;141</title>\n<path fill=\"none\" stroke=\"#000000\" d=\"M4785.1019,-340.7971C4792.1399,-329.8078 4800.2883,-317.0849 4807.3795,-306.0128\"/>\n<polygon fill=\"#000000\" stroke=\"#000000\" points=\"4810.3524,-307.8604 4812.7983,-297.5518 4804.4577,-304.0851 4810.3524,-307.8604\"/>\n</g>\n<!-- 143 -->\n<g id=\"node144\" class=\"node\">\n<title>143</title>\n<polygon fill=\"#399de5\" stroke=\"#000000\" points=\"4836,-475.5 4726,-475.5 4726,-437.5 4836,-437.5 4836,-475.5\"/>\n<text text-anchor=\"middle\" x=\"4781\" y=\"-460.3\" font-family=\"Times,serif\" font-size=\"14.00\" fill=\"#000000\">samples = 133</text>\n<text text-anchor=\"middle\" x=\"4781\" y=\"-445.3\" font-family=\"Times,serif\" font-size=\"14.00\" fill=\"#000000\">value = [0, 133]</text>\n</g>\n<!-- 142&#45;&gt;143 -->\n<g id=\"edge143\" class=\"edge\">\n<title>142&#45;&gt;143</title>\n<path fill=\"none\" stroke=\"#000000\" d=\"M4781,-518.7971C4781,-508.3518 4781,-496.3403 4781,-485.6689\"/>\n<polygon fill=\"#000000\" stroke=\"#000000\" points=\"4784.5001,-485.5517 4781,-475.5518 4777.5001,-485.5518 4784.5001,-485.5517\"/>\n</g>\n<!-- 144 -->\n<g id=\"node145\" class=\"node\">\n<title>144</title>\n<polygon fill=\"#f6d5bd\" stroke=\"#000000\" points=\"4963.5,-483 4854.5,-483 4854.5,-430 4963.5,-430 4963.5,-483\"/>\n<text text-anchor=\"middle\" x=\"4909\" y=\"-467.8\" font-family=\"Times,serif\" font-size=\"14.00\" fill=\"#000000\">X[60] &lt;= 0.006</text>\n<text text-anchor=\"middle\" x=\"4909\" y=\"-452.8\" font-family=\"Times,serif\" font-size=\"14.00\" fill=\"#000000\">samples = 5</text>\n<text text-anchor=\"middle\" x=\"4909\" y=\"-437.8\" font-family=\"Times,serif\" font-size=\"14.00\" fill=\"#000000\">value = [3, 2]</text>\n</g>\n<!-- 142&#45;&gt;144 -->\n<g id=\"edge144\" class=\"edge\">\n<title>142&#45;&gt;144</title>\n<path fill=\"none\" stroke=\"#000000\" d=\"M4819.4042,-518.7971C4832.8203,-509.4687 4848.0331,-498.8911 4862.0651,-489.1344\"/>\n<polygon fill=\"#000000\" stroke=\"#000000\" points=\"4864.4106,-491.7665 4870.6229,-483.1841 4860.4144,-486.0193 4864.4106,-491.7665\"/>\n</g>\n<!-- 145 -->\n<g id=\"node146\" class=\"node\">\n<title>145</title>\n<polygon fill=\"#e58139\" stroke=\"#000000\" points=\"4946.5,-386.5 4851.5,-386.5 4851.5,-348.5 4946.5,-348.5 4946.5,-386.5\"/>\n<text text-anchor=\"middle\" x=\"4899\" y=\"-371.3\" font-family=\"Times,serif\" font-size=\"14.00\" fill=\"#000000\">samples = 3</text>\n<text text-anchor=\"middle\" x=\"4899\" y=\"-356.3\" font-family=\"Times,serif\" font-size=\"14.00\" fill=\"#000000\">value = [3, 0]</text>\n</g>\n<!-- 144&#45;&gt;145 -->\n<g id=\"edge145\" class=\"edge\">\n<title>144&#45;&gt;145</title>\n<path fill=\"none\" stroke=\"#000000\" d=\"M4905.9997,-429.7971C4904.826,-419.3518 4903.4764,-407.3403 4902.2774,-396.6689\"/>\n<polygon fill=\"#000000\" stroke=\"#000000\" points=\"4905.7354,-396.0984 4901.1406,-386.5518 4898.7792,-396.8801 4905.7354,-396.0984\"/>\n</g>\n<!-- 146 -->\n<g id=\"node147\" class=\"node\">\n<title>146</title>\n<polygon fill=\"#399de5\" stroke=\"#000000\" points=\"5059.5,-386.5 4964.5,-386.5 4964.5,-348.5 5059.5,-348.5 5059.5,-386.5\"/>\n<text text-anchor=\"middle\" x=\"5012\" y=\"-371.3\" font-family=\"Times,serif\" font-size=\"14.00\" fill=\"#000000\">samples = 2</text>\n<text text-anchor=\"middle\" x=\"5012\" y=\"-356.3\" font-family=\"Times,serif\" font-size=\"14.00\" fill=\"#000000\">value = [0, 2]</text>\n</g>\n<!-- 144&#45;&gt;146 -->\n<g id=\"edge146\" class=\"edge\">\n<title>144&#45;&gt;146</title>\n<path fill=\"none\" stroke=\"#000000\" d=\"M4939.9034,-429.7971C4953.2509,-418.2638 4968.8084,-404.8209 4982.0479,-393.381\"/>\n<polygon fill=\"#000000\" stroke=\"#000000\" points=\"4984.6731,-395.7382 4989.9513,-386.5518 4980.0964,-390.4416 4984.6731,-395.7382\"/>\n</g>\n<!-- 149 -->\n<g id=\"node150\" class=\"node\">\n<title>149</title>\n<polygon fill=\"#ea975b\" stroke=\"#000000\" points=\"5087.5,-661 4978.5,-661 4978.5,-608 5087.5,-608 5087.5,-661\"/>\n<text text-anchor=\"middle\" x=\"5033\" y=\"-645.8\" font-family=\"Times,serif\" font-size=\"14.00\" fill=\"#000000\">X[89] &lt;= 0.894</text>\n<text text-anchor=\"middle\" x=\"5033\" y=\"-630.8\" font-family=\"Times,serif\" font-size=\"14.00\" fill=\"#000000\">samples = 27</text>\n<text text-anchor=\"middle\" x=\"5033\" y=\"-615.8\" font-family=\"Times,serif\" font-size=\"14.00\" fill=\"#000000\">value = [23, 4]</text>\n</g>\n<!-- 148&#45;&gt;149 -->\n<g id=\"edge149\" class=\"edge\">\n<title>148&#45;&gt;149</title>\n<path fill=\"none\" stroke=\"#000000\" d=\"M5077.0979,-696.7971C5070.993,-688.1727 5064.1323,-678.4806 5057.6738,-669.3566\"/>\n<polygon fill=\"#000000\" stroke=\"#000000\" points=\"5060.5231,-667.324 5051.8887,-661.1841 5054.8097,-671.3683 5060.5231,-667.324\"/>\n</g>\n<!-- 154 -->\n<g id=\"node155\" class=\"node\">\n<title>154</title>\n<polygon fill=\"#399de5\" stroke=\"#000000\" points=\"5200.5,-653.5 5105.5,-653.5 5105.5,-615.5 5200.5,-615.5 5200.5,-653.5\"/>\n<text text-anchor=\"middle\" x=\"5153\" y=\"-638.3\" font-family=\"Times,serif\" font-size=\"14.00\" fill=\"#000000\">samples = 4</text>\n<text text-anchor=\"middle\" x=\"5153\" y=\"-623.3\" font-family=\"Times,serif\" font-size=\"14.00\" fill=\"#000000\">value = [0, 4]</text>\n</g>\n<!-- 148&#45;&gt;154 -->\n<g id=\"edge154\" class=\"edge\">\n<title>148&#45;&gt;154</title>\n<path fill=\"none\" stroke=\"#000000\" d=\"M5113.1019,-696.7971C5120.1399,-685.8078 5128.2883,-673.0849 5135.3795,-662.0128\"/>\n<polygon fill=\"#000000\" stroke=\"#000000\" points=\"5138.3524,-663.8604 5140.7983,-653.5518 5132.4577,-660.0851 5138.3524,-663.8604\"/>\n</g>\n<!-- 150 -->\n<g id=\"node151\" class=\"node\">\n<title>150</title>\n<polygon fill=\"#e58139\" stroke=\"#000000\" points=\"5004,-564.5 4902,-564.5 4902,-526.5 5004,-526.5 5004,-564.5\"/>\n<text text-anchor=\"middle\" x=\"4953\" y=\"-549.3\" font-family=\"Times,serif\" font-size=\"14.00\" fill=\"#000000\">samples = 22</text>\n<text text-anchor=\"middle\" x=\"4953\" y=\"-534.3\" font-family=\"Times,serif\" font-size=\"14.00\" fill=\"#000000\">value = [22, 0]</text>\n</g>\n<!-- 149&#45;&gt;150 -->\n<g id=\"edge150\" class=\"edge\">\n<title>149&#45;&gt;150</title>\n<path fill=\"none\" stroke=\"#000000\" d=\"M5008.9974,-607.7971C4998.826,-596.4814 4987.0023,-583.3275 4976.8478,-572.0306\"/>\n<polygon fill=\"#000000\" stroke=\"#000000\" points=\"4979.4132,-569.6491 4970.1252,-564.5518 4974.2073,-574.3287 4979.4132,-569.6491\"/>\n</g>\n<!-- 151 -->\n<g id=\"node152\" class=\"node\">\n<title>151</title>\n<polygon fill=\"#6ab6ec\" stroke=\"#000000\" points=\"5138,-572 5022,-572 5022,-519 5138,-519 5138,-572\"/>\n<text text-anchor=\"middle\" x=\"5080\" y=\"-556.8\" font-family=\"Times,serif\" font-size=\"14.00\" fill=\"#000000\">X[150] &lt;= 0.992</text>\n<text text-anchor=\"middle\" x=\"5080\" y=\"-541.8\" font-family=\"Times,serif\" font-size=\"14.00\" fill=\"#000000\">samples = 5</text>\n<text text-anchor=\"middle\" x=\"5080\" y=\"-526.8\" font-family=\"Times,serif\" font-size=\"14.00\" fill=\"#000000\">value = [1, 4]</text>\n</g>\n<!-- 149&#45;&gt;151 -->\n<g id=\"edge151\" class=\"edge\">\n<title>149&#45;&gt;151</title>\n<path fill=\"none\" stroke=\"#000000\" d=\"M5047.1015,-607.7971C5051.5166,-599.4367 5056.4615,-590.073 5061.1493,-581.1961\"/>\n<polygon fill=\"#000000\" stroke=\"#000000\" points=\"5064.3336,-582.6612 5065.9084,-572.1841 5058.1437,-579.3924 5064.3336,-582.6612\"/>\n</g>\n<!-- 152 -->\n<g id=\"node153\" class=\"node\">\n<title>152</title>\n<polygon fill=\"#399de5\" stroke=\"#000000\" points=\"5078.5,-475.5 4983.5,-475.5 4983.5,-437.5 5078.5,-437.5 5078.5,-475.5\"/>\n<text text-anchor=\"middle\" x=\"5031\" y=\"-460.3\" font-family=\"Times,serif\" font-size=\"14.00\" fill=\"#000000\">samples = 4</text>\n<text text-anchor=\"middle\" x=\"5031\" y=\"-445.3\" font-family=\"Times,serif\" font-size=\"14.00\" fill=\"#000000\">value = [0, 4]</text>\n</g>\n<!-- 151&#45;&gt;152 -->\n<g id=\"edge152\" class=\"edge\">\n<title>151&#45;&gt;152</title>\n<path fill=\"none\" stroke=\"#000000\" d=\"M5065.2984,-518.7971C5059.308,-507.9166 5052.382,-495.3366 5046.3288,-484.3421\"/>\n<polygon fill=\"#000000\" stroke=\"#000000\" points=\"5049.3782,-482.6238 5041.4892,-475.5518 5043.2462,-485.9999 5049.3782,-482.6238\"/>\n</g>\n<!-- 153 -->\n<g id=\"node154\" class=\"node\">\n<title>153</title>\n<polygon fill=\"#e58139\" stroke=\"#000000\" points=\"5191.5,-475.5 5096.5,-475.5 5096.5,-437.5 5191.5,-437.5 5191.5,-475.5\"/>\n<text text-anchor=\"middle\" x=\"5144\" y=\"-460.3\" font-family=\"Times,serif\" font-size=\"14.00\" fill=\"#000000\">samples = 1</text>\n<text text-anchor=\"middle\" x=\"5144\" y=\"-445.3\" font-family=\"Times,serif\" font-size=\"14.00\" fill=\"#000000\">value = [1, 0]</text>\n</g>\n<!-- 151&#45;&gt;153 -->\n<g id=\"edge153\" class=\"edge\">\n<title>151&#45;&gt;153</title>\n<path fill=\"none\" stroke=\"#000000\" d=\"M5099.2021,-518.7971C5107.1827,-507.699 5116.4349,-494.8328 5124.4517,-483.6844\"/>\n<polygon fill=\"#000000\" stroke=\"#000000\" points=\"5127.3032,-485.714 5130.2998,-475.5518 5121.62,-481.6272 5127.3032,-485.714\"/>\n</g>\n<!-- 156 -->\n<g id=\"node157\" class=\"node\">\n<title>156</title>\n<polygon fill=\"#5fb0ea\" stroke=\"#000000\" points=\"5392,-750 5276,-750 5276,-697 5392,-697 5392,-750\"/>\n<text text-anchor=\"middle\" x=\"5334\" y=\"-734.8\" font-family=\"Times,serif\" font-size=\"14.00\" fill=\"#000000\">X[184] &lt;= 0.431</text>\n<text text-anchor=\"middle\" x=\"5334\" y=\"-719.8\" font-family=\"Times,serif\" font-size=\"14.00\" fill=\"#000000\">samples = 31</text>\n<text text-anchor=\"middle\" x=\"5334\" y=\"-704.8\" font-family=\"Times,serif\" font-size=\"14.00\" fill=\"#000000\">value = [5, 26]</text>\n</g>\n<!-- 155&#45;&gt;156 -->\n<g id=\"edge156\" class=\"edge\">\n<title>155&#45;&gt;156</title>\n<path fill=\"none\" stroke=\"#000000\" d=\"M5334,-785.7971C5334,-777.7887 5334,-768.8597 5334,-760.3198\"/>\n<polygon fill=\"#000000\" stroke=\"#000000\" points=\"5337.5001,-760.1841 5334,-750.1841 5330.5001,-760.1841 5337.5001,-760.1841\"/>\n</g>\n<!-- 161 -->\n<g id=\"node162\" class=\"node\">\n<title>161</title>\n<polygon fill=\"#eb9d65\" stroke=\"#000000\" points=\"5677,-750 5561,-750 5561,-697 5677,-697 5677,-750\"/>\n<text text-anchor=\"middle\" x=\"5619\" y=\"-734.8\" font-family=\"Times,serif\" font-size=\"14.00\" fill=\"#000000\">X[123] &lt;= 0.192</text>\n<text text-anchor=\"middle\" x=\"5619\" y=\"-719.8\" font-family=\"Times,serif\" font-size=\"14.00\" fill=\"#000000\">samples = 142</text>\n<text text-anchor=\"middle\" x=\"5619\" y=\"-704.8\" font-family=\"Times,serif\" font-size=\"14.00\" fill=\"#000000\">value = [116, 26]</text>\n</g>\n<!-- 155&#45;&gt;161 -->\n<g id=\"edge161\" class=\"edge\">\n<title>155&#45;&gt;161</title>\n<path fill=\"none\" stroke=\"#000000\" d=\"M5392.7066,-794.1671C5438.7455,-779.79 5502.8826,-759.7612 5551.1243,-744.6963\"/>\n<polygon fill=\"#000000\" stroke=\"#000000\" points=\"5552.3554,-747.9786 5560.8575,-741.6568 5550.2688,-741.2968 5552.3554,-747.9786\"/>\n</g>\n<!-- 157 -->\n<g id=\"node158\" class=\"node\">\n<title>157</title>\n<polygon fill=\"#399de5\" stroke=\"#000000\" points=\"5321,-653.5 5219,-653.5 5219,-615.5 5321,-615.5 5321,-653.5\"/>\n<text text-anchor=\"middle\" x=\"5270\" y=\"-638.3\" font-family=\"Times,serif\" font-size=\"14.00\" fill=\"#000000\">samples = 22</text>\n<text text-anchor=\"middle\" x=\"5270\" y=\"-623.3\" font-family=\"Times,serif\" font-size=\"14.00\" fill=\"#000000\">value = [0, 22]</text>\n</g>\n<!-- 156&#45;&gt;157 -->\n<g id=\"edge157\" class=\"edge\">\n<title>156&#45;&gt;157</title>\n<path fill=\"none\" stroke=\"#000000\" d=\"M5314.7979,-696.7971C5306.8173,-685.699 5297.5651,-672.8328 5289.5483,-661.6844\"/>\n<polygon fill=\"#000000\" stroke=\"#000000\" points=\"5292.38,-659.6272 5283.7002,-653.5518 5286.6968,-663.714 5292.38,-659.6272\"/>\n</g>\n<!-- 158 -->\n<g id=\"node159\" class=\"node\">\n<title>158</title>\n<polygon fill=\"#fae6d7\" stroke=\"#000000\" points=\"5455,-661 5339,-661 5339,-608 5455,-608 5455,-661\"/>\n<text text-anchor=\"middle\" x=\"5397\" y=\"-645.8\" font-family=\"Times,serif\" font-size=\"14.00\" fill=\"#000000\">X[152] &lt;= 0.598</text>\n<text text-anchor=\"middle\" x=\"5397\" y=\"-630.8\" font-family=\"Times,serif\" font-size=\"14.00\" fill=\"#000000\">samples = 9</text>\n<text text-anchor=\"middle\" x=\"5397\" y=\"-615.8\" font-family=\"Times,serif\" font-size=\"14.00\" fill=\"#000000\">value = [5, 4]</text>\n</g>\n<!-- 156&#45;&gt;158 -->\n<g id=\"edge158\" class=\"edge\">\n<title>156&#45;&gt;158</title>\n<path fill=\"none\" stroke=\"#000000\" d=\"M5352.9021,-696.7971C5359.007,-688.1727 5365.8677,-678.4806 5372.3262,-669.3566\"/>\n<polygon fill=\"#000000\" stroke=\"#000000\" points=\"5375.1903,-671.3683 5378.1113,-661.1841 5369.4769,-667.324 5375.1903,-671.3683\"/>\n</g>\n<!-- 159 -->\n<g id=\"node160\" class=\"node\">\n<title>159</title>\n<polygon fill=\"#e58139\" stroke=\"#000000\" points=\"5314.5,-564.5 5219.5,-564.5 5219.5,-526.5 5314.5,-526.5 5314.5,-564.5\"/>\n<text text-anchor=\"middle\" x=\"5267\" y=\"-549.3\" font-family=\"Times,serif\" font-size=\"14.00\" fill=\"#000000\">samples = 5</text>\n<text text-anchor=\"middle\" x=\"5267\" y=\"-534.3\" font-family=\"Times,serif\" font-size=\"14.00\" fill=\"#000000\">value = [5, 0]</text>\n</g>\n<!-- 158&#45;&gt;159 -->\n<g id=\"edge159\" class=\"edge\">\n<title>158&#45;&gt;159</title>\n<path fill=\"none\" stroke=\"#000000\" d=\"M5357.9957,-607.7971C5340.6726,-595.9374 5320.4,-582.0585 5303.392,-570.4145\"/>\n<polygon fill=\"#000000\" stroke=\"#000000\" points=\"5305.0572,-567.3129 5294.8284,-564.5518 5301.1028,-573.089 5305.0572,-567.3129\"/>\n</g>\n<!-- 160 -->\n<g id=\"node161\" class=\"node\">\n<title>160</title>\n<polygon fill=\"#399de5\" stroke=\"#000000\" points=\"5427.5,-564.5 5332.5,-564.5 5332.5,-526.5 5427.5,-526.5 5427.5,-564.5\"/>\n<text text-anchor=\"middle\" x=\"5380\" y=\"-549.3\" font-family=\"Times,serif\" font-size=\"14.00\" fill=\"#000000\">samples = 4</text>\n<text text-anchor=\"middle\" x=\"5380\" y=\"-534.3\" font-family=\"Times,serif\" font-size=\"14.00\" fill=\"#000000\">value = [0, 4]</text>\n</g>\n<!-- 158&#45;&gt;160 -->\n<g id=\"edge160\" class=\"edge\">\n<title>158&#45;&gt;160</title>\n<path fill=\"none\" stroke=\"#000000\" d=\"M5391.8994,-607.7971C5389.9043,-597.3518 5387.6099,-585.3403 5385.5716,-574.6689\"/>\n<polygon fill=\"#000000\" stroke=\"#000000\" points=\"5388.9532,-573.7175 5383.6391,-564.5518 5382.0775,-575.0309 5388.9532,-573.7175\"/>\n</g>\n<!-- 162 -->\n<g id=\"node163\" class=\"node\">\n<title>162</title>\n<polygon fill=\"#e88f4e\" stroke=\"#000000\" points=\"5677,-661 5561,-661 5561,-608 5677,-608 5677,-661\"/>\n<text text-anchor=\"middle\" x=\"5619\" y=\"-645.8\" font-family=\"Times,serif\" font-size=\"14.00\" fill=\"#000000\">X[104] &lt;= 0.567</text>\n<text text-anchor=\"middle\" x=\"5619\" y=\"-630.8\" font-family=\"Times,serif\" font-size=\"14.00\" fill=\"#000000\">samples = 123</text>\n<text text-anchor=\"middle\" x=\"5619\" y=\"-615.8\" font-family=\"Times,serif\" font-size=\"14.00\" fill=\"#000000\">value = [111, 12]</text>\n</g>\n<!-- 161&#45;&gt;162 -->\n<g id=\"edge162\" class=\"edge\">\n<title>161&#45;&gt;162</title>\n<path fill=\"none\" stroke=\"#000000\" d=\"M5619,-696.7971C5619,-688.7887 5619,-679.8597 5619,-671.3198\"/>\n<polygon fill=\"#000000\" stroke=\"#000000\" points=\"5622.5001,-671.1841 5619,-661.1841 5615.5001,-671.1841 5622.5001,-671.1841\"/>\n</g>\n<!-- 175 -->\n<g id=\"node176\" class=\"node\">\n<title>175</title>\n<polygon fill=\"#80c0ee\" stroke=\"#000000\" points=\"5864,-661 5748,-661 5748,-608 5864,-608 5864,-661\"/>\n<text text-anchor=\"middle\" x=\"5806\" y=\"-645.8\" font-family=\"Times,serif\" font-size=\"14.00\" fill=\"#000000\">X[116] &lt;= 0.137</text>\n<text text-anchor=\"middle\" x=\"5806\" y=\"-630.8\" font-family=\"Times,serif\" font-size=\"14.00\" fill=\"#000000\">samples = 19</text>\n<text text-anchor=\"middle\" x=\"5806\" y=\"-615.8\" font-family=\"Times,serif\" font-size=\"14.00\" fill=\"#000000\">value = [5, 14]</text>\n</g>\n<!-- 161&#45;&gt;175 -->\n<g id=\"edge175\" class=\"edge\">\n<title>161&#45;&gt;175</title>\n<path fill=\"none\" stroke=\"#000000\" d=\"M5674.8529,-696.9176C5695.6643,-687.0127 5719.4631,-675.686 5741.0239,-665.4244\"/>\n<polygon fill=\"#000000\" stroke=\"#000000\" points=\"5742.5866,-668.5569 5750.112,-661.0991 5739.5784,-662.2363 5742.5866,-668.5569\"/>\n</g>\n<!-- 163 -->\n<g id=\"node164\" class=\"node\">\n<title>163</title>\n<polygon fill=\"#e6853f\" stroke=\"#000000\" points=\"5562,-572 5446,-572 5446,-519 5562,-519 5562,-572\"/>\n<text text-anchor=\"middle\" x=\"5504\" y=\"-556.8\" font-family=\"Times,serif\" font-size=\"14.00\" fill=\"#000000\">X[133] &lt;= 0.098</text>\n<text text-anchor=\"middle\" x=\"5504\" y=\"-541.8\" font-family=\"Times,serif\" font-size=\"14.00\" fill=\"#000000\">samples = 95</text>\n<text text-anchor=\"middle\" x=\"5504\" y=\"-526.8\" font-family=\"Times,serif\" font-size=\"14.00\" fill=\"#000000\">value = [92, 3]</text>\n</g>\n<!-- 162&#45;&gt;163 -->\n<g id=\"edge163\" class=\"edge\">\n<title>162&#45;&gt;163</title>\n<path fill=\"none\" stroke=\"#000000\" d=\"M5584.4962,-607.7971C5572.5564,-598.5567 5559.0327,-588.0905 5546.5251,-578.4107\"/>\n<polygon fill=\"#000000\" stroke=\"#000000\" points=\"5548.5299,-575.5366 5538.4794,-572.1841 5544.2456,-581.0724 5548.5299,-575.5366\"/>\n</g>\n<!-- 168 -->\n<g id=\"node169\" class=\"node\">\n<title>168</title>\n<polygon fill=\"#f1bd97\" stroke=\"#000000\" points=\"5689.5,-572 5580.5,-572 5580.5,-519 5689.5,-519 5689.5,-572\"/>\n<text text-anchor=\"middle\" x=\"5635\" y=\"-556.8\" font-family=\"Times,serif\" font-size=\"14.00\" fill=\"#000000\">X[70] &lt;= 0.039</text>\n<text text-anchor=\"middle\" x=\"5635\" y=\"-541.8\" font-family=\"Times,serif\" font-size=\"14.00\" fill=\"#000000\">samples = 28</text>\n<text text-anchor=\"middle\" x=\"5635\" y=\"-526.8\" font-family=\"Times,serif\" font-size=\"14.00\" fill=\"#000000\">value = [19, 9]</text>\n</g>\n<!-- 162&#45;&gt;168 -->\n<g id=\"edge168\" class=\"edge\">\n<title>162&#45;&gt;168</title>\n<path fill=\"none\" stroke=\"#000000\" d=\"M5623.8005,-607.7971C5625.256,-599.7007 5626.8807,-590.6633 5628.4313,-582.0384\"/>\n<polygon fill=\"#000000\" stroke=\"#000000\" points=\"5631.8782,-582.6456 5630.2029,-572.1841 5624.9886,-581.407 5631.8782,-582.6456\"/>\n</g>\n<!-- 164 -->\n<g id=\"node165\" class=\"node\">\n<title>164</title>\n<polygon fill=\"#f5cdb0\" stroke=\"#000000\" points=\"5358,-483 5242,-483 5242,-430 5358,-430 5358,-483\"/>\n<text text-anchor=\"middle\" x=\"5300\" y=\"-467.8\" font-family=\"Times,serif\" font-size=\"14.00\" fill=\"#000000\">X[183] &lt;= 0.222</text>\n<text text-anchor=\"middle\" x=\"5300\" y=\"-452.8\" font-family=\"Times,serif\" font-size=\"14.00\" fill=\"#000000\">samples = 8</text>\n<text text-anchor=\"middle\" x=\"5300\" y=\"-437.8\" font-family=\"Times,serif\" font-size=\"14.00\" fill=\"#000000\">value = [5, 3]</text>\n</g>\n<!-- 163&#45;&gt;164 -->\n<g id=\"edge164\" class=\"edge\">\n<title>163&#45;&gt;164</title>\n<path fill=\"none\" stroke=\"#000000\" d=\"M5445.8148,-520.1153C5421.3762,-509.4534 5392.7946,-496.9839 5367.4428,-485.9236\"/>\n<polygon fill=\"#000000\" stroke=\"#000000\" points=\"5368.8278,-482.7093 5358.2625,-481.9184 5366.0286,-489.1253 5368.8278,-482.7093\"/>\n</g>\n<!-- 167 -->\n<g id=\"node168\" class=\"node\">\n<title>167</title>\n<polygon fill=\"#e58139\" stroke=\"#000000\" points=\"5478,-475.5 5376,-475.5 5376,-437.5 5478,-437.5 5478,-475.5\"/>\n<text text-anchor=\"middle\" x=\"5427\" y=\"-460.3\" font-family=\"Times,serif\" font-size=\"14.00\" fill=\"#000000\">samples = 87</text>\n<text text-anchor=\"middle\" x=\"5427\" y=\"-445.3\" font-family=\"Times,serif\" font-size=\"14.00\" fill=\"#000000\">value = [87, 0]</text>\n</g>\n<!-- 163&#45;&gt;167 -->\n<g id=\"edge167\" class=\"edge\">\n<title>163&#45;&gt;167</title>\n<path fill=\"none\" stroke=\"#000000\" d=\"M5480.8975,-518.7971C5471.2016,-507.5902 5459.9459,-494.5803 5450.2358,-483.357\"/>\n<polygon fill=\"#000000\" stroke=\"#000000\" points=\"5452.6727,-480.8243 5443.483,-475.5518 5447.379,-485.4043 5452.6727,-480.8243\"/>\n</g>\n<!-- 165 -->\n<g id=\"node166\" class=\"node\">\n<title>165</title>\n<polygon fill=\"#399de5\" stroke=\"#000000\" points=\"5248.5,-386.5 5153.5,-386.5 5153.5,-348.5 5248.5,-348.5 5248.5,-386.5\"/>\n<text text-anchor=\"middle\" x=\"5201\" y=\"-371.3\" font-family=\"Times,serif\" font-size=\"14.00\" fill=\"#000000\">samples = 3</text>\n<text text-anchor=\"middle\" x=\"5201\" y=\"-356.3\" font-family=\"Times,serif\" font-size=\"14.00\" fill=\"#000000\">value = [0, 3]</text>\n</g>\n<!-- 164&#45;&gt;165 -->\n<g id=\"edge165\" class=\"edge\">\n<title>164&#45;&gt;165</title>\n<path fill=\"none\" stroke=\"#000000\" d=\"M5270.2967,-429.7971C5257.4676,-418.2638 5242.5143,-404.8209 5229.7889,-393.381\"/>\n<polygon fill=\"#000000\" stroke=\"#000000\" points=\"5231.9691,-390.6345 5222.1924,-386.5518 5227.2892,-395.8401 5231.9691,-390.6345\"/>\n</g>\n<!-- 166 -->\n<g id=\"node167\" class=\"node\">\n<title>166</title>\n<polygon fill=\"#e58139\" stroke=\"#000000\" points=\"5361.5,-386.5 5266.5,-386.5 5266.5,-348.5 5361.5,-348.5 5361.5,-386.5\"/>\n<text text-anchor=\"middle\" x=\"5314\" y=\"-371.3\" font-family=\"Times,serif\" font-size=\"14.00\" fill=\"#000000\">samples = 5</text>\n<text text-anchor=\"middle\" x=\"5314\" y=\"-356.3\" font-family=\"Times,serif\" font-size=\"14.00\" fill=\"#000000\">value = [5, 0]</text>\n</g>\n<!-- 164&#45;&gt;166 -->\n<g id=\"edge166\" class=\"edge\">\n<title>164&#45;&gt;166</title>\n<path fill=\"none\" stroke=\"#000000\" d=\"M5304.2005,-429.7971C5305.8435,-419.3518 5307.733,-407.3403 5309.4116,-396.6689\"/>\n<polygon fill=\"#000000\" stroke=\"#000000\" points=\"5312.9066,-396.9742 5311.0031,-386.5518 5305.9916,-395.8864 5312.9066,-396.9742\"/>\n</g>\n<!-- 169 -->\n<g id=\"node170\" class=\"node\">\n<title>169</title>\n<polygon fill=\"#e68844\" stroke=\"#000000\" points=\"5605.5,-483 5496.5,-483 5496.5,-430 5605.5,-430 5605.5,-483\"/>\n<text text-anchor=\"middle\" x=\"5551\" y=\"-467.8\" font-family=\"Times,serif\" font-size=\"14.00\" fill=\"#000000\">X[42] &lt;= 0.225</text>\n<text text-anchor=\"middle\" x=\"5551\" y=\"-452.8\" font-family=\"Times,serif\" font-size=\"14.00\" fill=\"#000000\">samples = 19</text>\n<text text-anchor=\"middle\" x=\"5551\" y=\"-437.8\" font-family=\"Times,serif\" font-size=\"14.00\" fill=\"#000000\">value = [18, 1]</text>\n</g>\n<!-- 168&#45;&gt;169 -->\n<g id=\"edge169\" class=\"edge\">\n<title>168&#45;&gt;169</title>\n<path fill=\"none\" stroke=\"#000000\" d=\"M5609.7972,-518.7971C5601.4082,-509.9087 5591.9487,-499.8862 5583.1091,-490.5203\"/>\n<polygon fill=\"#000000\" stroke=\"#000000\" points=\"5585.5942,-488.0542 5576.185,-483.1841 5580.5035,-492.8589 5585.5942,-488.0542\"/>\n</g>\n<!-- 172 -->\n<g id=\"node173\" class=\"node\">\n<title>172</title>\n<polygon fill=\"#52a9e8\" stroke=\"#000000\" points=\"5740,-483 5624,-483 5624,-430 5740,-430 5740,-483\"/>\n<text text-anchor=\"middle\" x=\"5682\" y=\"-467.8\" font-family=\"Times,serif\" font-size=\"14.00\" fill=\"#000000\">X[103] &lt;= 0.914</text>\n<text text-anchor=\"middle\" x=\"5682\" y=\"-452.8\" font-family=\"Times,serif\" font-size=\"14.00\" fill=\"#000000\">samples = 9</text>\n<text text-anchor=\"middle\" x=\"5682\" y=\"-437.8\" font-family=\"Times,serif\" font-size=\"14.00\" fill=\"#000000\">value = [1, 8]</text>\n</g>\n<!-- 168&#45;&gt;172 -->\n<g id=\"edge172\" class=\"edge\">\n<title>168&#45;&gt;172</title>\n<path fill=\"none\" stroke=\"#000000\" d=\"M5649.1015,-518.7971C5653.5166,-510.4367 5658.4615,-501.073 5663.1493,-492.1961\"/>\n<polygon fill=\"#000000\" stroke=\"#000000\" points=\"5666.3336,-493.6612 5667.9084,-483.1841 5660.1437,-490.3924 5666.3336,-493.6612\"/>\n</g>\n<!-- 170 -->\n<g id=\"node171\" class=\"node\">\n<title>170</title>\n<polygon fill=\"#399de5\" stroke=\"#000000\" points=\"5484.5,-386.5 5389.5,-386.5 5389.5,-348.5 5484.5,-348.5 5484.5,-386.5\"/>\n<text text-anchor=\"middle\" x=\"5437\" y=\"-371.3\" font-family=\"Times,serif\" font-size=\"14.00\" fill=\"#000000\">samples = 1</text>\n<text text-anchor=\"middle\" x=\"5437\" y=\"-356.3\" font-family=\"Times,serif\" font-size=\"14.00\" fill=\"#000000\">value = [0, 1]</text>\n</g>\n<!-- 169&#45;&gt;170 -->\n<g id=\"edge170\" class=\"edge\">\n<title>169&#45;&gt;170</title>\n<path fill=\"none\" stroke=\"#000000\" d=\"M5516.7962,-429.7971C5501.7445,-418.0462 5484.1537,-404.313 5469.3242,-392.7356\"/>\n<polygon fill=\"#000000\" stroke=\"#000000\" points=\"5471.4396,-389.9467 5461.4034,-386.5518 5467.1319,-395.4644 5471.4396,-389.9467\"/>\n</g>\n<!-- 171 -->\n<g id=\"node172\" class=\"node\">\n<title>171</title>\n<polygon fill=\"#e58139\" stroke=\"#000000\" points=\"5605,-386.5 5503,-386.5 5503,-348.5 5605,-348.5 5605,-386.5\"/>\n<text text-anchor=\"middle\" x=\"5554\" y=\"-371.3\" font-family=\"Times,serif\" font-size=\"14.00\" fill=\"#000000\">samples = 18</text>\n<text text-anchor=\"middle\" x=\"5554\" y=\"-356.3\" font-family=\"Times,serif\" font-size=\"14.00\" fill=\"#000000\">value = [18, 0]</text>\n</g>\n<!-- 169&#45;&gt;171 -->\n<g id=\"edge171\" class=\"edge\">\n<title>169&#45;&gt;171</title>\n<path fill=\"none\" stroke=\"#000000\" d=\"M5551.9001,-429.7971C5552.2522,-419.3518 5552.6571,-407.3403 5553.0168,-396.6689\"/>\n<polygon fill=\"#000000\" stroke=\"#000000\" points=\"5556.5188,-396.664 5553.3578,-386.5518 5549.5228,-396.4282 5556.5188,-396.664\"/>\n</g>\n<!-- 173 -->\n<g id=\"node174\" class=\"node\">\n<title>173</title>\n<polygon fill=\"#399de5\" stroke=\"#000000\" points=\"5725.5,-386.5 5630.5,-386.5 5630.5,-348.5 5725.5,-348.5 5725.5,-386.5\"/>\n<text text-anchor=\"middle\" x=\"5678\" y=\"-371.3\" font-family=\"Times,serif\" font-size=\"14.00\" fill=\"#000000\">samples = 8</text>\n<text text-anchor=\"middle\" x=\"5678\" y=\"-356.3\" font-family=\"Times,serif\" font-size=\"14.00\" fill=\"#000000\">value = [0, 8]</text>\n</g>\n<!-- 172&#45;&gt;173 -->\n<g id=\"edge173\" class=\"edge\">\n<title>172&#45;&gt;173</title>\n<path fill=\"none\" stroke=\"#000000\" d=\"M5680.7999,-429.7971C5680.3304,-419.3518 5679.7906,-407.3403 5679.311,-396.6689\"/>\n<polygon fill=\"#000000\" stroke=\"#000000\" points=\"5682.8018,-396.3845 5678.8563,-386.5518 5675.8089,-396.6989 5682.8018,-396.3845\"/>\n</g>\n<!-- 174 -->\n<g id=\"node175\" class=\"node\">\n<title>174</title>\n<polygon fill=\"#e58139\" stroke=\"#000000\" points=\"5838.5,-386.5 5743.5,-386.5 5743.5,-348.5 5838.5,-348.5 5838.5,-386.5\"/>\n<text text-anchor=\"middle\" x=\"5791\" y=\"-371.3\" font-family=\"Times,serif\" font-size=\"14.00\" fill=\"#000000\">samples = 1</text>\n<text text-anchor=\"middle\" x=\"5791\" y=\"-356.3\" font-family=\"Times,serif\" font-size=\"14.00\" fill=\"#000000\">value = [1, 0]</text>\n</g>\n<!-- 172&#45;&gt;174 -->\n<g id=\"edge174\" class=\"edge\">\n<title>172&#45;&gt;174</title>\n<path fill=\"none\" stroke=\"#000000\" d=\"M5714.7036,-429.7971C5728.9619,-418.155 5745.6032,-404.5671 5759.699,-393.0577\"/>\n<polygon fill=\"#000000\" stroke=\"#000000\" points=\"5762.1346,-395.5875 5767.6669,-386.5518 5757.7074,-390.1654 5762.1346,-395.5875\"/>\n</g>\n<!-- 176 -->\n<g id=\"node177\" class=\"node\">\n<title>176</title>\n<polygon fill=\"#47a4e7\" stroke=\"#000000\" points=\"5864,-572 5748,-572 5748,-519 5864,-519 5864,-572\"/>\n<text text-anchor=\"middle\" x=\"5806\" y=\"-556.8\" font-family=\"Times,serif\" font-size=\"14.00\" fill=\"#000000\">X[197] &lt;= 0.018</text>\n<text text-anchor=\"middle\" x=\"5806\" y=\"-541.8\" font-family=\"Times,serif\" font-size=\"14.00\" fill=\"#000000\">samples = 15</text>\n<text text-anchor=\"middle\" x=\"5806\" y=\"-526.8\" font-family=\"Times,serif\" font-size=\"14.00\" fill=\"#000000\">value = [1, 14]</text>\n</g>\n<!-- 175&#45;&gt;176 -->\n<g id=\"edge176\" class=\"edge\">\n<title>175&#45;&gt;176</title>\n<path fill=\"none\" stroke=\"#000000\" d=\"M5806,-607.7971C5806,-599.7887 5806,-590.8597 5806,-582.3198\"/>\n<polygon fill=\"#000000\" stroke=\"#000000\" points=\"5809.5001,-582.1841 5806,-572.1841 5802.5001,-582.1841 5809.5001,-582.1841\"/>\n</g>\n<!-- 179 -->\n<g id=\"node180\" class=\"node\">\n<title>179</title>\n<polygon fill=\"#e58139\" stroke=\"#000000\" points=\"5977.5,-564.5 5882.5,-564.5 5882.5,-526.5 5977.5,-526.5 5977.5,-564.5\"/>\n<text text-anchor=\"middle\" x=\"5930\" y=\"-549.3\" font-family=\"Times,serif\" font-size=\"14.00\" fill=\"#000000\">samples = 4</text>\n<text text-anchor=\"middle\" x=\"5930\" y=\"-534.3\" font-family=\"Times,serif\" font-size=\"14.00\" fill=\"#000000\">value = [4, 0]</text>\n</g>\n<!-- 175&#45;&gt;179 -->\n<g id=\"edge179\" class=\"edge\">\n<title>175&#45;&gt;179</title>\n<path fill=\"none\" stroke=\"#000000\" d=\"M5843.2041,-607.7971C5859.7277,-595.9374 5879.0646,-582.0585 5895.2876,-570.4145\"/>\n<polygon fill=\"#000000\" stroke=\"#000000\" points=\"5897.3728,-573.2262 5903.456,-564.5518 5893.2911,-567.5394 5897.3728,-573.2262\"/>\n</g>\n<!-- 177 -->\n<g id=\"node178\" class=\"node\">\n<title>177</title>\n<polygon fill=\"#e58139\" stroke=\"#000000\" points=\"5853.5,-475.5 5758.5,-475.5 5758.5,-437.5 5853.5,-437.5 5853.5,-475.5\"/>\n<text text-anchor=\"middle\" x=\"5806\" y=\"-460.3\" font-family=\"Times,serif\" font-size=\"14.00\" fill=\"#000000\">samples = 1</text>\n<text text-anchor=\"middle\" x=\"5806\" y=\"-445.3\" font-family=\"Times,serif\" font-size=\"14.00\" fill=\"#000000\">value = [1, 0]</text>\n</g>\n<!-- 176&#45;&gt;177 -->\n<g id=\"edge177\" class=\"edge\">\n<title>176&#45;&gt;177</title>\n<path fill=\"none\" stroke=\"#000000\" d=\"M5806,-518.7971C5806,-508.3518 5806,-496.3403 5806,-485.6689\"/>\n<polygon fill=\"#000000\" stroke=\"#000000\" points=\"5809.5001,-485.5517 5806,-475.5518 5802.5001,-485.5518 5809.5001,-485.5517\"/>\n</g>\n<!-- 178 -->\n<g id=\"node179\" class=\"node\">\n<title>178</title>\n<polygon fill=\"#399de5\" stroke=\"#000000\" points=\"5974,-475.5 5872,-475.5 5872,-437.5 5974,-437.5 5974,-475.5\"/>\n<text text-anchor=\"middle\" x=\"5923\" y=\"-460.3\" font-family=\"Times,serif\" font-size=\"14.00\" fill=\"#000000\">samples = 14</text>\n<text text-anchor=\"middle\" x=\"5923\" y=\"-445.3\" font-family=\"Times,serif\" font-size=\"14.00\" fill=\"#000000\">value = [0, 14]</text>\n</g>\n<!-- 176&#45;&gt;178 -->\n<g id=\"edge178\" class=\"edge\">\n<title>176&#45;&gt;178</title>\n<path fill=\"none\" stroke=\"#000000\" d=\"M5841.1039,-518.7971C5856.5517,-507.0462 5874.6054,-493.313 5889.8251,-481.7356\"/>\n<polygon fill=\"#000000\" stroke=\"#000000\" points=\"5892.1144,-484.3917 5897.9544,-475.5518 5887.8764,-478.8204 5892.1144,-484.3917\"/>\n</g>\n<!-- 181 -->\n<g id=\"node182\" class=\"node\">\n<title>181</title>\n<polygon fill=\"#58ace9\" stroke=\"#000000\" points=\"6533.5,-839 6416.5,-839 6416.5,-786 6533.5,-786 6533.5,-839\"/>\n<text text-anchor=\"middle\" x=\"6475\" y=\"-823.8\" font-family=\"Times,serif\" font-size=\"14.00\" fill=\"#000000\">X[231] &lt;= 0.002</text>\n<text text-anchor=\"middle\" x=\"6475\" y=\"-808.8\" font-family=\"Times,serif\" font-size=\"14.00\" fill=\"#000000\">samples = 216</text>\n<text text-anchor=\"middle\" x=\"6475\" y=\"-793.8\" font-family=\"Times,serif\" font-size=\"14.00\" fill=\"#000000\">value = [29, 187]</text>\n</g>\n<!-- 180&#45;&gt;181 -->\n<g id=\"edge181\" class=\"edge\">\n<title>180&#45;&gt;181</title>\n<path fill=\"none\" stroke=\"#000000\" d=\"M6475,-874.7971C6475,-866.7887 6475,-857.8597 6475,-849.3198\"/>\n<polygon fill=\"#000000\" stroke=\"#000000\" points=\"6478.5001,-849.1841 6475,-839.1841 6471.5001,-849.1841 6478.5001,-849.1841\"/>\n</g>\n<!-- 204 -->\n<g id=\"node205\" class=\"node\">\n<title>204</title>\n<polygon fill=\"#3a9ee5\" stroke=\"#000000\" points=\"7000.5,-839 6875.5,-839 6875.5,-786 7000.5,-786 7000.5,-839\"/>\n<text text-anchor=\"middle\" x=\"6938\" y=\"-823.8\" font-family=\"Times,serif\" font-size=\"14.00\" fill=\"#000000\">X[231] &lt;= 0.002</text>\n<text text-anchor=\"middle\" x=\"6938\" y=\"-808.8\" font-family=\"Times,serif\" font-size=\"14.00\" fill=\"#000000\">samples = 4021</text>\n<text text-anchor=\"middle\" x=\"6938\" y=\"-793.8\" font-family=\"Times,serif\" font-size=\"14.00\" fill=\"#000000\">value = [22, 3999]</text>\n</g>\n<!-- 180&#45;&gt;204 -->\n<g id=\"edge204\" class=\"edge\">\n<title>180&#45;&gt;204</title>\n<path fill=\"none\" stroke=\"#000000\" d=\"M6537.9241,-889.4044C6623.2418,-873.0043 6775.2792,-843.779 6865.3517,-826.4648\"/>\n<polygon fill=\"#000000\" stroke=\"#000000\" points=\"6866.054,-829.894 6875.2135,-824.5691 6864.7325,-823.0198 6866.054,-829.894\"/>\n</g>\n<!-- 182 -->\n<g id=\"node183\" class=\"node\">\n<title>182</title>\n<polygon fill=\"#83c2ef\" stroke=\"#000000\" points=\"6464,-750 6354,-750 6354,-697 6464,-697 6464,-750\"/>\n<text text-anchor=\"middle\" x=\"6409\" y=\"-734.8\" font-family=\"Times,serif\" font-size=\"14.00\" fill=\"#000000\">X[54] &lt;= 0.227</text>\n<text text-anchor=\"middle\" x=\"6409\" y=\"-719.8\" font-family=\"Times,serif\" font-size=\"14.00\" fill=\"#000000\">samples = 99</text>\n<text text-anchor=\"middle\" x=\"6409\" y=\"-704.8\" font-family=\"Times,serif\" font-size=\"14.00\" fill=\"#000000\">value = [27, 72]</text>\n</g>\n<!-- 181&#45;&gt;182 -->\n<g id=\"edge182\" class=\"edge\">\n<title>181&#45;&gt;182</title>\n<path fill=\"none\" stroke=\"#000000\" d=\"M6455.1978,-785.7971C6448.8022,-777.1727 6441.6148,-767.4806 6434.8487,-758.3566\"/>\n<polygon fill=\"#000000\" stroke=\"#000000\" points=\"6437.5562,-756.1317 6428.7882,-750.1841 6431.9335,-760.3013 6437.5562,-756.1317\"/>\n</g>\n<!-- 199 -->\n<g id=\"node200\" class=\"node\">\n<title>199</title>\n<polygon fill=\"#3c9fe5\" stroke=\"#000000\" points=\"6598,-750 6482,-750 6482,-697 6598,-697 6598,-750\"/>\n<text text-anchor=\"middle\" x=\"6540\" y=\"-734.8\" font-family=\"Times,serif\" font-size=\"14.00\" fill=\"#000000\">X[182] &lt;= 0.961</text>\n<text text-anchor=\"middle\" x=\"6540\" y=\"-719.8\" font-family=\"Times,serif\" font-size=\"14.00\" fill=\"#000000\">samples = 117</text>\n<text text-anchor=\"middle\" x=\"6540\" y=\"-704.8\" font-family=\"Times,serif\" font-size=\"14.00\" fill=\"#000000\">value = [2, 115]</text>\n</g>\n<!-- 181&#45;&gt;199 -->\n<g id=\"edge199\" class=\"edge\">\n<title>181&#45;&gt;199</title>\n<path fill=\"none\" stroke=\"#000000\" d=\"M6494.5021,-785.7971C6500.8008,-777.1727 6507.8794,-767.4806 6514.5429,-758.3566\"/>\n<polygon fill=\"#000000\" stroke=\"#000000\" points=\"6517.4401,-760.324 6520.5116,-750.1841 6511.7872,-756.1954 6517.4401,-760.324\"/>\n</g>\n<!-- 183 -->\n<g id=\"node184\" class=\"node\">\n<title>183</title>\n<polygon fill=\"#f7fbfe\" stroke=\"#000000\" points=\"6333,-661 6217,-661 6217,-608 6333,-608 6333,-661\"/>\n<text text-anchor=\"middle\" x=\"6275\" y=\"-645.8\" font-family=\"Times,serif\" font-size=\"14.00\" fill=\"#000000\">X[118] &lt;= 0.641</text>\n<text text-anchor=\"middle\" x=\"6275\" y=\"-630.8\" font-family=\"Times,serif\" font-size=\"14.00\" fill=\"#000000\">samples = 51</text>\n<text text-anchor=\"middle\" x=\"6275\" y=\"-615.8\" font-family=\"Times,serif\" font-size=\"14.00\" fill=\"#000000\">value = [25, 26]</text>\n</g>\n<!-- 182&#45;&gt;183 -->\n<g id=\"edge183\" class=\"edge\">\n<title>182&#45;&gt;183</title>\n<path fill=\"none\" stroke=\"#000000\" d=\"M6368.7956,-696.7971C6354.6181,-687.3807 6338.5241,-676.6914 6323.7195,-666.8585\"/>\n<polygon fill=\"#000000\" stroke=\"#000000\" points=\"6325.4426,-663.8013 6315.176,-661.1841 6321.5697,-669.6323 6325.4426,-663.8013\"/>\n</g>\n<!-- 196 -->\n<g id=\"node197\" class=\"node\">\n<title>196</title>\n<polygon fill=\"#42a1e6\" stroke=\"#000000\" points=\"6467,-661 6351,-661 6351,-608 6467,-608 6467,-661\"/>\n<text text-anchor=\"middle\" x=\"6409\" y=\"-645.8\" font-family=\"Times,serif\" font-size=\"14.00\" fill=\"#000000\">X[131] &lt;= 0.243</text>\n<text text-anchor=\"middle\" x=\"6409\" y=\"-630.8\" font-family=\"Times,serif\" font-size=\"14.00\" fill=\"#000000\">samples = 48</text>\n<text text-anchor=\"middle\" x=\"6409\" y=\"-615.8\" font-family=\"Times,serif\" font-size=\"14.00\" fill=\"#000000\">value = [2, 46]</text>\n</g>\n<!-- 182&#45;&gt;196 -->\n<g id=\"edge196\" class=\"edge\">\n<title>182&#45;&gt;196</title>\n<path fill=\"none\" stroke=\"#000000\" d=\"M6409,-696.7971C6409,-688.7887 6409,-679.8597 6409,-671.3198\"/>\n<polygon fill=\"#000000\" stroke=\"#000000\" points=\"6412.5001,-671.1841 6409,-661.1841 6405.5001,-671.1841 6412.5001,-671.1841\"/>\n</g>\n<!-- 184 -->\n<g id=\"node185\" class=\"node\">\n<title>184</title>\n<polygon fill=\"#4fa8e8\" stroke=\"#000000\" points=\"6207,-572 6091,-572 6091,-519 6207,-519 6207,-572\"/>\n<text text-anchor=\"middle\" x=\"6149\" y=\"-556.8\" font-family=\"Times,serif\" font-size=\"14.00\" fill=\"#000000\">X[163] &lt;= 0.065</text>\n<text text-anchor=\"middle\" x=\"6149\" y=\"-541.8\" font-family=\"Times,serif\" font-size=\"14.00\" fill=\"#000000\">samples = 20</text>\n<text text-anchor=\"middle\" x=\"6149\" y=\"-526.8\" font-family=\"Times,serif\" font-size=\"14.00\" fill=\"#000000\">value = [2, 18]</text>\n</g>\n<!-- 183&#45;&gt;184 -->\n<g id=\"edge184\" class=\"edge\">\n<title>183&#45;&gt;184</title>\n<path fill=\"none\" stroke=\"#000000\" d=\"M6237.1958,-607.7971C6223.9894,-598.4687 6209.0143,-587.8911 6195.2015,-578.1344\"/>\n<polygon fill=\"#000000\" stroke=\"#000000\" points=\"6196.9647,-575.0947 6186.7775,-572.1841 6192.9261,-580.8123 6196.9647,-575.0947\"/>\n</g>\n<!-- 187 -->\n<g id=\"node188\" class=\"node\">\n<title>187</title>\n<polygon fill=\"#eead7e\" stroke=\"#000000\" points=\"6334.5,-572 6225.5,-572 6225.5,-519 6334.5,-519 6334.5,-572\"/>\n<text text-anchor=\"middle\" x=\"6280\" y=\"-556.8\" font-family=\"Times,serif\" font-size=\"14.00\" fill=\"#000000\">X[92] &lt;= 0.075</text>\n<text text-anchor=\"middle\" x=\"6280\" y=\"-541.8\" font-family=\"Times,serif\" font-size=\"14.00\" fill=\"#000000\">samples = 31</text>\n<text text-anchor=\"middle\" x=\"6280\" y=\"-526.8\" font-family=\"Times,serif\" font-size=\"14.00\" fill=\"#000000\">value = [23, 8]</text>\n</g>\n<!-- 183&#45;&gt;187 -->\n<g id=\"edge187\" class=\"edge\">\n<title>183&#45;&gt;187</title>\n<path fill=\"none\" stroke=\"#000000\" d=\"M6276.5002,-607.7971C6276.9501,-599.7887 6277.4517,-590.8597 6277.9315,-582.3198\"/>\n<polygon fill=\"#000000\" stroke=\"#000000\" points=\"6281.4344,-582.3647 6278.5009,-572.1841 6274.4454,-581.972 6281.4344,-582.3647\"/>\n</g>\n<!-- 185 -->\n<g id=\"node186\" class=\"node\">\n<title>185</title>\n<polygon fill=\"#399de5\" stroke=\"#000000\" points=\"6094,-475.5 5992,-475.5 5992,-437.5 6094,-437.5 6094,-475.5\"/>\n<text text-anchor=\"middle\" x=\"6043\" y=\"-460.3\" font-family=\"Times,serif\" font-size=\"14.00\" fill=\"#000000\">samples = 18</text>\n<text text-anchor=\"middle\" x=\"6043\" y=\"-445.3\" font-family=\"Times,serif\" font-size=\"14.00\" fill=\"#000000\">value = [0, 18]</text>\n</g>\n<!-- 184&#45;&gt;185 -->\n<g id=\"edge185\" class=\"edge\">\n<title>184&#45;&gt;185</title>\n<path fill=\"none\" stroke=\"#000000\" d=\"M6117.1965,-518.7971C6103.3306,-507.155 6087.1474,-493.5671 6073.4395,-482.0577\"/>\n<polygon fill=\"#000000\" stroke=\"#000000\" points=\"6075.6,-479.3016 6065.6909,-475.5518 6071.0988,-484.6625 6075.6,-479.3016\"/>\n</g>\n<!-- 186 -->\n<g id=\"node187\" class=\"node\">\n<title>186</title>\n<polygon fill=\"#e58139\" stroke=\"#000000\" points=\"6207.5,-475.5 6112.5,-475.5 6112.5,-437.5 6207.5,-437.5 6207.5,-475.5\"/>\n<text text-anchor=\"middle\" x=\"6160\" y=\"-460.3\" font-family=\"Times,serif\" font-size=\"14.00\" fill=\"#000000\">samples = 2</text>\n<text text-anchor=\"middle\" x=\"6160\" y=\"-445.3\" font-family=\"Times,serif\" font-size=\"14.00\" fill=\"#000000\">value = [2, 0]</text>\n</g>\n<!-- 184&#45;&gt;186 -->\n<g id=\"edge186\" class=\"edge\">\n<title>184&#45;&gt;186</title>\n<path fill=\"none\" stroke=\"#000000\" d=\"M6152.3004,-518.7971C6153.5913,-508.3518 6155.0759,-496.3403 6156.3949,-485.6689\"/>\n<polygon fill=\"#000000\" stroke=\"#000000\" points=\"6159.8921,-485.9056 6157.6453,-475.5518 6152.945,-485.0469 6159.8921,-485.9056\"/>\n</g>\n<!-- 188 -->\n<g id=\"node189\" class=\"node\">\n<title>188</title>\n<polygon fill=\"#e78c4b\" stroke=\"#000000\" points=\"6334.5,-483 6225.5,-483 6225.5,-430 6334.5,-430 6334.5,-483\"/>\n<text text-anchor=\"middle\" x=\"6280\" y=\"-467.8\" font-family=\"Times,serif\" font-size=\"14.00\" fill=\"#000000\">X[90] &lt;= 0.731</text>\n<text text-anchor=\"middle\" x=\"6280\" y=\"-452.8\" font-family=\"Times,serif\" font-size=\"14.00\" fill=\"#000000\">samples = 24</text>\n<text text-anchor=\"middle\" x=\"6280\" y=\"-437.8\" font-family=\"Times,serif\" font-size=\"14.00\" fill=\"#000000\">value = [22, 2]</text>\n</g>\n<!-- 187&#45;&gt;188 -->\n<g id=\"edge188\" class=\"edge\">\n<title>187&#45;&gt;188</title>\n<path fill=\"none\" stroke=\"#000000\" d=\"M6280,-518.7971C6280,-510.7887 6280,-501.8597 6280,-493.3198\"/>\n<polygon fill=\"#000000\" stroke=\"#000000\" points=\"6283.5001,-493.1841 6280,-483.1841 6276.5001,-493.1841 6283.5001,-493.1841\"/>\n</g>\n<!-- 193 -->\n<g id=\"node194\" class=\"node\">\n<title>193</title>\n<polygon fill=\"#5aade9\" stroke=\"#000000\" points=\"6461.5,-483 6352.5,-483 6352.5,-430 6461.5,-430 6461.5,-483\"/>\n<text text-anchor=\"middle\" x=\"6407\" y=\"-467.8\" font-family=\"Times,serif\" font-size=\"14.00\" fill=\"#000000\">X[77] &lt;= 0.525</text>\n<text text-anchor=\"middle\" x=\"6407\" y=\"-452.8\" font-family=\"Times,serif\" font-size=\"14.00\" fill=\"#000000\">samples = 7</text>\n<text text-anchor=\"middle\" x=\"6407\" y=\"-437.8\" font-family=\"Times,serif\" font-size=\"14.00\" fill=\"#000000\">value = [1, 6]</text>\n</g>\n<!-- 187&#45;&gt;193 -->\n<g id=\"edge193\" class=\"edge\">\n<title>187&#45;&gt;193</title>\n<path fill=\"none\" stroke=\"#000000\" d=\"M6318.1042,-518.7971C6331.4155,-509.4687 6346.5094,-498.8911 6360.4318,-489.1344\"/>\n<polygon fill=\"#000000\" stroke=\"#000000\" points=\"6362.742,-491.7893 6368.9227,-483.1841 6358.7248,-486.0568 6362.742,-491.7893\"/>\n</g>\n<!-- 189 -->\n<g id=\"node190\" class=\"node\">\n<title>189</title>\n<polygon fill=\"#e58139\" stroke=\"#000000\" points=\"6205,-386.5 6103,-386.5 6103,-348.5 6205,-348.5 6205,-386.5\"/>\n<text text-anchor=\"middle\" x=\"6154\" y=\"-371.3\" font-family=\"Times,serif\" font-size=\"14.00\" fill=\"#000000\">samples = 20</text>\n<text text-anchor=\"middle\" x=\"6154\" y=\"-356.3\" font-family=\"Times,serif\" font-size=\"14.00\" fill=\"#000000\">value = [20, 0]</text>\n</g>\n<!-- 188&#45;&gt;189 -->\n<g id=\"edge189\" class=\"edge\">\n<title>188&#45;&gt;189</title>\n<path fill=\"none\" stroke=\"#000000\" d=\"M6242.1958,-429.7971C6225.4057,-417.9374 6205.757,-404.0585 6189.2723,-392.4145\"/>\n<polygon fill=\"#000000\" stroke=\"#000000\" points=\"6191.1594,-389.4624 6180.9722,-386.5518 6187.1208,-395.18 6191.1594,-389.4624\"/>\n</g>\n<!-- 190 -->\n<g id=\"node191\" class=\"node\">\n<title>190</title>\n<polygon fill=\"#ffffff\" stroke=\"#000000\" points=\"6339,-394 6223,-394 6223,-341 6339,-341 6339,-394\"/>\n<text text-anchor=\"middle\" x=\"6281\" y=\"-378.8\" font-family=\"Times,serif\" font-size=\"14.00\" fill=\"#000000\">X[170] &lt;= 0.706</text>\n<text text-anchor=\"middle\" x=\"6281\" y=\"-363.8\" font-family=\"Times,serif\" font-size=\"14.00\" fill=\"#000000\">samples = 4</text>\n<text text-anchor=\"middle\" x=\"6281\" y=\"-348.8\" font-family=\"Times,serif\" font-size=\"14.00\" fill=\"#000000\">value = [2, 2]</text>\n</g>\n<!-- 188&#45;&gt;190 -->\n<g id=\"edge190\" class=\"edge\">\n<title>188&#45;&gt;190</title>\n<path fill=\"none\" stroke=\"#000000\" d=\"M6280.3,-429.7971C6280.39,-421.7887 6280.4903,-412.8597 6280.5863,-404.3198\"/>\n<polygon fill=\"#000000\" stroke=\"#000000\" points=\"6284.0875,-404.2228 6280.7002,-394.1841 6277.0879,-404.1441 6284.0875,-404.2228\"/>\n</g>\n<!-- 191 -->\n<g id=\"node192\" class=\"node\">\n<title>191</title>\n<polygon fill=\"#e58139\" stroke=\"#000000\" points=\"6271.5,-297.5 6176.5,-297.5 6176.5,-259.5 6271.5,-259.5 6271.5,-297.5\"/>\n<text text-anchor=\"middle\" x=\"6224\" y=\"-282.3\" font-family=\"Times,serif\" font-size=\"14.00\" fill=\"#000000\">samples = 2</text>\n<text text-anchor=\"middle\" x=\"6224\" y=\"-267.3\" font-family=\"Times,serif\" font-size=\"14.00\" fill=\"#000000\">value = [2, 0]</text>\n</g>\n<!-- 190&#45;&gt;191 -->\n<g id=\"edge191\" class=\"edge\">\n<title>190&#45;&gt;191</title>\n<path fill=\"none\" stroke=\"#000000\" d=\"M6263.8981,-340.7971C6256.8601,-329.8078 6248.7117,-317.0849 6241.6205,-306.0128\"/>\n<polygon fill=\"#000000\" stroke=\"#000000\" points=\"6244.5423,-304.0851 6236.2017,-297.5518 6238.6476,-307.8604 6244.5423,-304.0851\"/>\n</g>\n<!-- 192 -->\n<g id=\"node193\" class=\"node\">\n<title>192</title>\n<polygon fill=\"#399de5\" stroke=\"#000000\" points=\"6384.5,-297.5 6289.5,-297.5 6289.5,-259.5 6384.5,-259.5 6384.5,-297.5\"/>\n<text text-anchor=\"middle\" x=\"6337\" y=\"-282.3\" font-family=\"Times,serif\" font-size=\"14.00\" fill=\"#000000\">samples = 2</text>\n<text text-anchor=\"middle\" x=\"6337\" y=\"-267.3\" font-family=\"Times,serif\" font-size=\"14.00\" fill=\"#000000\">value = [0, 2]</text>\n</g>\n<!-- 190&#45;&gt;192 -->\n<g id=\"edge192\" class=\"edge\">\n<title>190&#45;&gt;192</title>\n<path fill=\"none\" stroke=\"#000000\" d=\"M6297.8018,-340.7971C6304.648,-329.9166 6312.5635,-317.3366 6319.4813,-306.3421\"/>\n<polygon fill=\"#000000\" stroke=\"#000000\" points=\"6322.6491,-307.8797 6325.0124,-297.5518 6316.7243,-304.1517 6322.6491,-307.8797\"/>\n</g>\n<!-- 194 -->\n<g id=\"node195\" class=\"node\">\n<title>194</title>\n<polygon fill=\"#399de5\" stroke=\"#000000\" points=\"6453.5,-386.5 6358.5,-386.5 6358.5,-348.5 6453.5,-348.5 6453.5,-386.5\"/>\n<text text-anchor=\"middle\" x=\"6406\" y=\"-371.3\" font-family=\"Times,serif\" font-size=\"14.00\" fill=\"#000000\">samples = 6</text>\n<text text-anchor=\"middle\" x=\"6406\" y=\"-356.3\" font-family=\"Times,serif\" font-size=\"14.00\" fill=\"#000000\">value = [0, 6]</text>\n</g>\n<!-- 193&#45;&gt;194 -->\n<g id=\"edge194\" class=\"edge\">\n<title>193&#45;&gt;194</title>\n<path fill=\"none\" stroke=\"#000000\" d=\"M6406.7,-429.7971C6406.5826,-419.3518 6406.4476,-407.3403 6406.3277,-396.6689\"/>\n<polygon fill=\"#000000\" stroke=\"#000000\" points=\"6409.8263,-396.5118 6406.2141,-386.5518 6402.8267,-396.5905 6409.8263,-396.5118\"/>\n</g>\n<!-- 195 -->\n<g id=\"node196\" class=\"node\">\n<title>195</title>\n<polygon fill=\"#e58139\" stroke=\"#000000\" points=\"6566.5,-386.5 6471.5,-386.5 6471.5,-348.5 6566.5,-348.5 6566.5,-386.5\"/>\n<text text-anchor=\"middle\" x=\"6519\" y=\"-371.3\" font-family=\"Times,serif\" font-size=\"14.00\" fill=\"#000000\">samples = 1</text>\n<text text-anchor=\"middle\" x=\"6519\" y=\"-356.3\" font-family=\"Times,serif\" font-size=\"14.00\" fill=\"#000000\">value = [1, 0]</text>\n</g>\n<!-- 193&#45;&gt;195 -->\n<g id=\"edge195\" class=\"edge\">\n<title>193&#45;&gt;195</title>\n<path fill=\"none\" stroke=\"#000000\" d=\"M6440.6037,-429.7971C6455.2544,-418.155 6472.3537,-404.5671 6486.8375,-393.0577\"/>\n<polygon fill=\"#000000\" stroke=\"#000000\" points=\"6489.3731,-395.5133 6495.0247,-386.5518 6485.0181,-390.033 6489.3731,-395.5133\"/>\n</g>\n<!-- 197 -->\n<g id=\"node198\" class=\"node\">\n<title>197</title>\n<polygon fill=\"#399de5\" stroke=\"#000000\" points=\"6455,-564.5 6353,-564.5 6353,-526.5 6455,-526.5 6455,-564.5\"/>\n<text text-anchor=\"middle\" x=\"6404\" y=\"-549.3\" font-family=\"Times,serif\" font-size=\"14.00\" fill=\"#000000\">samples = 46</text>\n<text text-anchor=\"middle\" x=\"6404\" y=\"-534.3\" font-family=\"Times,serif\" font-size=\"14.00\" fill=\"#000000\">value = [0, 46]</text>\n</g>\n<!-- 196&#45;&gt;197 -->\n<g id=\"edge197\" class=\"edge\">\n<title>196&#45;&gt;197</title>\n<path fill=\"none\" stroke=\"#000000\" d=\"M6407.4998,-607.7971C6406.913,-597.3518 6406.2382,-585.3403 6405.6387,-574.6689\"/>\n<polygon fill=\"#000000\" stroke=\"#000000\" points=\"6409.1258,-574.3397 6405.0703,-564.5518 6402.1368,-574.7324 6409.1258,-574.3397\"/>\n</g>\n<!-- 198 -->\n<g id=\"node199\" class=\"node\">\n<title>198</title>\n<polygon fill=\"#e58139\" stroke=\"#000000\" points=\"6568.5,-564.5 6473.5,-564.5 6473.5,-526.5 6568.5,-526.5 6568.5,-564.5\"/>\n<text text-anchor=\"middle\" x=\"6521\" y=\"-549.3\" font-family=\"Times,serif\" font-size=\"14.00\" fill=\"#000000\">samples = 2</text>\n<text text-anchor=\"middle\" x=\"6521\" y=\"-534.3\" font-family=\"Times,serif\" font-size=\"14.00\" fill=\"#000000\">value = [2, 0]</text>\n</g>\n<!-- 196&#45;&gt;198 -->\n<g id=\"edge198\" class=\"edge\">\n<title>196&#45;&gt;198</title>\n<path fill=\"none\" stroke=\"#000000\" d=\"M6442.6037,-607.7971C6457.2544,-596.155 6474.3537,-582.5671 6488.8375,-571.0577\"/>\n<polygon fill=\"#000000\" stroke=\"#000000\" points=\"6491.3731,-573.5133 6497.0247,-564.5518 6487.0181,-568.033 6491.3731,-573.5133\"/>\n</g>\n<!-- 200 -->\n<g id=\"node201\" class=\"node\">\n<title>200</title>\n<polygon fill=\"#399de5\" stroke=\"#000000\" points=\"6594.5,-653.5 6485.5,-653.5 6485.5,-615.5 6594.5,-615.5 6594.5,-653.5\"/>\n<text text-anchor=\"middle\" x=\"6540\" y=\"-638.3\" font-family=\"Times,serif\" font-size=\"14.00\" fill=\"#000000\">samples = 112</text>\n<text text-anchor=\"middle\" x=\"6540\" y=\"-623.3\" font-family=\"Times,serif\" font-size=\"14.00\" fill=\"#000000\">value = [0, 112]</text>\n</g>\n<!-- 199&#45;&gt;200 -->\n<g id=\"edge200\" class=\"edge\">\n<title>199&#45;&gt;200</title>\n<path fill=\"none\" stroke=\"#000000\" d=\"M6540,-696.7971C6540,-686.3518 6540,-674.3403 6540,-663.6689\"/>\n<polygon fill=\"#000000\" stroke=\"#000000\" points=\"6543.5001,-663.5517 6540,-653.5518 6536.5001,-663.5518 6543.5001,-663.5517\"/>\n</g>\n<!-- 201 -->\n<g id=\"node202\" class=\"node\">\n<title>201</title>\n<polygon fill=\"#bddef6\" stroke=\"#000000\" points=\"6721.5,-661 6612.5,-661 6612.5,-608 6721.5,-608 6721.5,-661\"/>\n<text text-anchor=\"middle\" x=\"6667\" y=\"-645.8\" font-family=\"Times,serif\" font-size=\"14.00\" fill=\"#000000\">X[182] &lt;= 0.98</text>\n<text text-anchor=\"middle\" x=\"6667\" y=\"-630.8\" font-family=\"Times,serif\" font-size=\"14.00\" fill=\"#000000\">samples = 5</text>\n<text text-anchor=\"middle\" x=\"6667\" y=\"-615.8\" font-family=\"Times,serif\" font-size=\"14.00\" fill=\"#000000\">value = [2, 3]</text>\n</g>\n<!-- 199&#45;&gt;201 -->\n<g id=\"edge201\" class=\"edge\">\n<title>199&#45;&gt;201</title>\n<path fill=\"none\" stroke=\"#000000\" d=\"M6578.1042,-696.7971C6591.4155,-687.4687 6606.5094,-676.8911 6620.4318,-667.1344\"/>\n<polygon fill=\"#000000\" stroke=\"#000000\" points=\"6622.742,-669.7893 6628.9227,-661.1841 6618.7248,-664.0568 6622.742,-669.7893\"/>\n</g>\n<!-- 202 -->\n<g id=\"node203\" class=\"node\">\n<title>202</title>\n<polygon fill=\"#e58139\" stroke=\"#000000\" points=\"6681.5,-564.5 6586.5,-564.5 6586.5,-526.5 6681.5,-526.5 6681.5,-564.5\"/>\n<text text-anchor=\"middle\" x=\"6634\" y=\"-549.3\" font-family=\"Times,serif\" font-size=\"14.00\" fill=\"#000000\">samples = 2</text>\n<text text-anchor=\"middle\" x=\"6634\" y=\"-534.3\" font-family=\"Times,serif\" font-size=\"14.00\" fill=\"#000000\">value = [2, 0]</text>\n</g>\n<!-- 201&#45;&gt;202 -->\n<g id=\"edge202\" class=\"edge\">\n<title>201&#45;&gt;202</title>\n<path fill=\"none\" stroke=\"#000000\" d=\"M6657.0989,-607.7971C6653.1453,-597.1342 6648.5864,-584.8392 6644.5688,-574.0037\"/>\n<polygon fill=\"#000000\" stroke=\"#000000\" points=\"6647.8225,-572.7112 6641.0641,-564.5518 6641.2591,-575.1448 6647.8225,-572.7112\"/>\n</g>\n<!-- 203 -->\n<g id=\"node204\" class=\"node\">\n<title>203</title>\n<polygon fill=\"#399de5\" stroke=\"#000000\" points=\"6794.5,-564.5 6699.5,-564.5 6699.5,-526.5 6794.5,-526.5 6794.5,-564.5\"/>\n<text text-anchor=\"middle\" x=\"6747\" y=\"-549.3\" font-family=\"Times,serif\" font-size=\"14.00\" fill=\"#000000\">samples = 3</text>\n<text text-anchor=\"middle\" x=\"6747\" y=\"-534.3\" font-family=\"Times,serif\" font-size=\"14.00\" fill=\"#000000\">value = [0, 3]</text>\n</g>\n<!-- 201&#45;&gt;203 -->\n<g id=\"edge203\" class=\"edge\">\n<title>201&#45;&gt;203</title>\n<path fill=\"none\" stroke=\"#000000\" d=\"M6691.0026,-607.7971C6701.174,-596.4814 6712.9977,-583.3275 6723.1522,-572.0306\"/>\n<polygon fill=\"#000000\" stroke=\"#000000\" points=\"6725.7927,-574.3287 6729.8748,-564.5518 6720.5868,-569.6491 6725.7927,-574.3287\"/>\n</g>\n<!-- 205 -->\n<g id=\"node206\" class=\"node\">\n<title>205</title>\n<polygon fill=\"#3c9fe5\" stroke=\"#000000\" points=\"7000.5,-750 6875.5,-750 6875.5,-697 7000.5,-697 7000.5,-750\"/>\n<text text-anchor=\"middle\" x=\"6938\" y=\"-734.8\" font-family=\"Times,serif\" font-size=\"14.00\" fill=\"#000000\">X[132] &lt;= 0.116</text>\n<text text-anchor=\"middle\" x=\"6938\" y=\"-719.8\" font-family=\"Times,serif\" font-size=\"14.00\" fill=\"#000000\">samples = 1320</text>\n<text text-anchor=\"middle\" x=\"6938\" y=\"-704.8\" font-family=\"Times,serif\" font-size=\"14.00\" fill=\"#000000\">value = [22, 1298]</text>\n</g>\n<!-- 204&#45;&gt;205 -->\n<g id=\"edge205\" class=\"edge\">\n<title>204&#45;&gt;205</title>\n<path fill=\"none\" stroke=\"#000000\" d=\"M6938,-785.7971C6938,-777.7887 6938,-768.8597 6938,-760.3198\"/>\n<polygon fill=\"#000000\" stroke=\"#000000\" points=\"6941.5001,-760.1841 6938,-750.1841 6934.5001,-760.1841 6941.5001,-760.1841\"/>\n</g>\n<!-- 236 -->\n<g id=\"node237\" class=\"node\">\n<title>236</title>\n<polygon fill=\"#399de5\" stroke=\"#000000\" points=\"7135.5,-742.5 7018.5,-742.5 7018.5,-704.5 7135.5,-704.5 7135.5,-742.5\"/>\n<text text-anchor=\"middle\" x=\"7077\" y=\"-727.3\" font-family=\"Times,serif\" font-size=\"14.00\" fill=\"#000000\">samples = 2701</text>\n<text text-anchor=\"middle\" x=\"7077\" y=\"-712.3\" font-family=\"Times,serif\" font-size=\"14.00\" fill=\"#000000\">value = [0, 2701]</text>\n</g>\n<!-- 204&#45;&gt;236 -->\n<g id=\"edge236\" class=\"edge\">\n<title>204&#45;&gt;236</title>\n<path fill=\"none\" stroke=\"#000000\" d=\"M6979.7046,-785.7971C6998.397,-773.8286 7020.301,-759.8037 7038.5881,-748.0946\"/>\n<polygon fill=\"#000000\" stroke=\"#000000\" points=\"7040.7107,-750.8916 7047.245,-742.5518 7036.9361,-744.9965 7040.7107,-750.8916\"/>\n</g>\n<!-- 206 -->\n<g id=\"node207\" class=\"node\">\n<title>206</title>\n<polygon fill=\"#3a9ee5\" stroke=\"#000000\" points=\"6996,-661 6880,-661 6880,-608 6996,-608 6996,-661\"/>\n<text text-anchor=\"middle\" x=\"6938\" y=\"-645.8\" font-family=\"Times,serif\" font-size=\"14.00\" fill=\"#000000\">X[56] &lt;= 0.025</text>\n<text text-anchor=\"middle\" x=\"6938\" y=\"-630.8\" font-family=\"Times,serif\" font-size=\"14.00\" fill=\"#000000\">samples = 1149</text>\n<text text-anchor=\"middle\" x=\"6938\" y=\"-615.8\" font-family=\"Times,serif\" font-size=\"14.00\" fill=\"#000000\">value = [6, 1143]</text>\n</g>\n<!-- 205&#45;&gt;206 -->\n<g id=\"edge206\" class=\"edge\">\n<title>205&#45;&gt;206</title>\n<path fill=\"none\" stroke=\"#000000\" d=\"M6938,-696.7971C6938,-688.7887 6938,-679.8597 6938,-671.3198\"/>\n<polygon fill=\"#000000\" stroke=\"#000000\" points=\"6941.5001,-671.1841 6938,-661.1841 6934.5001,-671.1841 6941.5001,-671.1841\"/>\n</g>\n<!-- 217 -->\n<g id=\"node218\" class=\"node\">\n<title>217</title>\n<polygon fill=\"#4da7e8\" stroke=\"#000000\" points=\"7371.5,-661 7254.5,-661 7254.5,-608 7371.5,-608 7371.5,-661\"/>\n<text text-anchor=\"middle\" x=\"7313\" y=\"-645.8\" font-family=\"Times,serif\" font-size=\"14.00\" fill=\"#000000\">X[165] &lt;= 0.769</text>\n<text text-anchor=\"middle\" x=\"7313\" y=\"-630.8\" font-family=\"Times,serif\" font-size=\"14.00\" fill=\"#000000\">samples = 171</text>\n<text text-anchor=\"middle\" x=\"7313\" y=\"-615.8\" font-family=\"Times,serif\" font-size=\"14.00\" fill=\"#000000\">value = [16, 155]</text>\n</g>\n<!-- 205&#45;&gt;217 -->\n<g id=\"edge217\" class=\"edge\">\n<title>205&#45;&gt;217</title>\n<path fill=\"none\" stroke=\"#000000\" d=\"M7000.5444,-699.5585C7003.3901,-698.658 7006.2182,-697.7999 7009,-697 7088.5877,-674.1145 7182.1856,-656.1809 7244.2846,-645.5021\"/>\n<polygon fill=\"#000000\" stroke=\"#000000\" points=\"7245.0849,-648.9163 7254.355,-643.7865 7243.9092,-642.0157 7245.0849,-648.9163\"/>\n</g>\n<!-- 207 -->\n<g id=\"node208\" class=\"node\">\n<title>207</title>\n<polygon fill=\"#4aa5e7\" stroke=\"#000000\" points=\"6929,-572 6813,-572 6813,-519 6929,-519 6929,-572\"/>\n<text text-anchor=\"middle\" x=\"6871\" y=\"-556.8\" font-family=\"Times,serif\" font-size=\"14.00\" fill=\"#000000\">X[183] &lt;= 0.975</text>\n<text text-anchor=\"middle\" x=\"6871\" y=\"-541.8\" font-family=\"Times,serif\" font-size=\"14.00\" fill=\"#000000\">samples = 51</text>\n<text text-anchor=\"middle\" x=\"6871\" y=\"-526.8\" font-family=\"Times,serif\" font-size=\"14.00\" fill=\"#000000\">value = [4, 47]</text>\n</g>\n<!-- 206&#45;&gt;207 -->\n<g id=\"edge207\" class=\"edge\">\n<title>206&#45;&gt;207</title>\n<path fill=\"none\" stroke=\"#000000\" d=\"M6917.8978,-607.7971C6911.4053,-599.1727 6904.109,-589.4806 6897.2404,-580.3566\"/>\n<polygon fill=\"#000000\" stroke=\"#000000\" points=\"6899.8986,-578.0683 6891.088,-572.1841 6894.3062,-582.2784 6899.8986,-578.0683\"/>\n</g>\n<!-- 212 -->\n<g id=\"node213\" class=\"node\">\n<title>212</title>\n<polygon fill=\"#399de5\" stroke=\"#000000\" points=\"7064.5,-572 6947.5,-572 6947.5,-519 7064.5,-519 7064.5,-572\"/>\n<text text-anchor=\"middle\" x=\"7006\" y=\"-556.8\" font-family=\"Times,serif\" font-size=\"14.00\" fill=\"#000000\">X[90] &lt;= 0.002</text>\n<text text-anchor=\"middle\" x=\"7006\" y=\"-541.8\" font-family=\"Times,serif\" font-size=\"14.00\" fill=\"#000000\">samples = 1098</text>\n<text text-anchor=\"middle\" x=\"7006\" y=\"-526.8\" font-family=\"Times,serif\" font-size=\"14.00\" fill=\"#000000\">value = [2, 1096]</text>\n</g>\n<!-- 206&#45;&gt;212 -->\n<g id=\"edge212\" class=\"edge\">\n<title>206&#45;&gt;212</title>\n<path fill=\"none\" stroke=\"#000000\" d=\"M6958.4022,-607.7971C6964.9916,-599.1727 6972.3969,-589.4806 6979.368,-580.3566\"/>\n<polygon fill=\"#000000\" stroke=\"#000000\" points=\"6982.3221,-582.2551 6985.6122,-572.1841 6976.7598,-578.0053 6982.3221,-582.2551\"/>\n</g>\n<!-- 208 -->\n<g id=\"node209\" class=\"node\">\n<title>208</title>\n<polygon fill=\"#3d9fe6\" stroke=\"#000000\" points=\"6805,-483 6703,-483 6703,-430 6805,-430 6805,-483\"/>\n<text text-anchor=\"middle\" x=\"6754\" y=\"-467.8\" font-family=\"Times,serif\" font-size=\"14.00\" fill=\"#000000\">X[54] &lt;= 0.89</text>\n<text text-anchor=\"middle\" x=\"6754\" y=\"-452.8\" font-family=\"Times,serif\" font-size=\"14.00\" fill=\"#000000\">samples = 48</text>\n<text text-anchor=\"middle\" x=\"6754\" y=\"-437.8\" font-family=\"Times,serif\" font-size=\"14.00\" fill=\"#000000\">value = [1, 47]</text>\n</g>\n<!-- 207&#45;&gt;208 -->\n<g id=\"edge208\" class=\"edge\">\n<title>207&#45;&gt;208</title>\n<path fill=\"none\" stroke=\"#000000\" d=\"M6835.8961,-518.7971C6823.7487,-509.5567 6809.9898,-499.0905 6797.2647,-489.4107\"/>\n<polygon fill=\"#000000\" stroke=\"#000000\" points=\"6799.1571,-486.4528 6789.0791,-483.1841 6794.9191,-492.0241 6799.1571,-486.4528\"/>\n</g>\n<!-- 211 -->\n<g id=\"node212\" class=\"node\">\n<title>211</title>\n<polygon fill=\"#e58139\" stroke=\"#000000\" points=\"6918.5,-475.5 6823.5,-475.5 6823.5,-437.5 6918.5,-437.5 6918.5,-475.5\"/>\n<text text-anchor=\"middle\" x=\"6871\" y=\"-460.3\" font-family=\"Times,serif\" font-size=\"14.00\" fill=\"#000000\">samples = 3</text>\n<text text-anchor=\"middle\" x=\"6871\" y=\"-445.3\" font-family=\"Times,serif\" font-size=\"14.00\" fill=\"#000000\">value = [3, 0]</text>\n</g>\n<!-- 207&#45;&gt;211 -->\n<g id=\"edge211\" class=\"edge\">\n<title>207&#45;&gt;211</title>\n<path fill=\"none\" stroke=\"#000000\" d=\"M6871,-518.7971C6871,-508.3518 6871,-496.3403 6871,-485.6689\"/>\n<polygon fill=\"#000000\" stroke=\"#000000\" points=\"6874.5001,-485.5517 6871,-475.5518 6867.5001,-485.5518 6874.5001,-485.5517\"/>\n</g>\n<!-- 209 -->\n<g id=\"node210\" class=\"node\">\n<title>209</title>\n<polygon fill=\"#399de5\" stroke=\"#000000\" points=\"6747,-386.5 6645,-386.5 6645,-348.5 6747,-348.5 6747,-386.5\"/>\n<text text-anchor=\"middle\" x=\"6696\" y=\"-371.3\" font-family=\"Times,serif\" font-size=\"14.00\" fill=\"#000000\">samples = 47</text>\n<text text-anchor=\"middle\" x=\"6696\" y=\"-356.3\" font-family=\"Times,serif\" font-size=\"14.00\" fill=\"#000000\">value = [0, 47]</text>\n</g>\n<!-- 208&#45;&gt;209 -->\n<g id=\"edge209\" class=\"edge\">\n<title>208&#45;&gt;209</title>\n<path fill=\"none\" stroke=\"#000000\" d=\"M6736.5981,-429.7971C6729.4365,-418.8078 6721.1452,-406.0849 6713.9297,-395.0128\"/>\n<polygon fill=\"#000000\" stroke=\"#000000\" points=\"6716.8079,-393.0188 6708.4158,-386.5518 6710.9433,-396.8407 6716.8079,-393.0188\"/>\n</g>\n<!-- 210 -->\n<g id=\"node211\" class=\"node\">\n<title>210</title>\n<polygon fill=\"#e58139\" stroke=\"#000000\" points=\"6860.5,-386.5 6765.5,-386.5 6765.5,-348.5 6860.5,-348.5 6860.5,-386.5\"/>\n<text text-anchor=\"middle\" x=\"6813\" y=\"-371.3\" font-family=\"Times,serif\" font-size=\"14.00\" fill=\"#000000\">samples = 1</text>\n<text text-anchor=\"middle\" x=\"6813\" y=\"-356.3\" font-family=\"Times,serif\" font-size=\"14.00\" fill=\"#000000\">value = [1, 0]</text>\n</g>\n<!-- 208&#45;&gt;210 -->\n<g id=\"edge210\" class=\"edge\">\n<title>208&#45;&gt;210</title>\n<path fill=\"none\" stroke=\"#000000\" d=\"M6771.7019,-429.7971C6778.987,-418.8078 6787.4213,-406.0849 6794.7612,-395.0128\"/>\n<polygon fill=\"#000000\" stroke=\"#000000\" points=\"6797.762,-396.8206 6800.3702,-386.5518 6791.9275,-392.9528 6797.762,-396.8206\"/>\n</g>\n<!-- 213 -->\n<g id=\"node214\" class=\"node\">\n<title>213</title>\n<polygon fill=\"#3d9fe6\" stroke=\"#000000\" points=\"7053,-483 6937,-483 6937,-430 7053,-430 7053,-483\"/>\n<text text-anchor=\"middle\" x=\"6995\" y=\"-467.8\" font-family=\"Times,serif\" font-size=\"14.00\" fill=\"#000000\">X[105] &lt;= 0.835</text>\n<text text-anchor=\"middle\" x=\"6995\" y=\"-452.8\" font-family=\"Times,serif\" font-size=\"14.00\" fill=\"#000000\">samples = 100</text>\n<text text-anchor=\"middle\" x=\"6995\" y=\"-437.8\" font-family=\"Times,serif\" font-size=\"14.00\" fill=\"#000000\">value = [2, 98]</text>\n</g>\n<!-- 212&#45;&gt;213 -->\n<g id=\"edge213\" class=\"edge\">\n<title>212&#45;&gt;213</title>\n<path fill=\"none\" stroke=\"#000000\" d=\"M7002.6996,-518.7971C7001.7098,-510.7887 7000.6063,-501.8597 6999.5508,-493.3198\"/>\n<polygon fill=\"#000000\" stroke=\"#000000\" points=\"7002.9983,-492.6792 6998.298,-483.1841 6996.0512,-493.5379 7002.9983,-492.6792\"/>\n</g>\n<!-- 216 -->\n<g id=\"node217\" class=\"node\">\n<title>216</title>\n<polygon fill=\"#399de5\" stroke=\"#000000\" points=\"7181,-475.5 7071,-475.5 7071,-437.5 7181,-437.5 7181,-475.5\"/>\n<text text-anchor=\"middle\" x=\"7126\" y=\"-460.3\" font-family=\"Times,serif\" font-size=\"14.00\" fill=\"#000000\">samples = 998</text>\n<text text-anchor=\"middle\" x=\"7126\" y=\"-445.3\" font-family=\"Times,serif\" font-size=\"14.00\" fill=\"#000000\">value = [0, 998]</text>\n</g>\n<!-- 212&#45;&gt;216 -->\n<g id=\"edge216\" class=\"edge\">\n<title>212&#45;&gt;216</title>\n<path fill=\"none\" stroke=\"#000000\" d=\"M7042.004,-518.7971C7057.8479,-507.0462 7076.3645,-493.313 7091.9745,-481.7356\"/>\n<polygon fill=\"#000000\" stroke=\"#000000\" points=\"7094.3652,-484.3201 7100.3122,-475.5518 7090.1952,-478.6977 7094.3652,-484.3201\"/>\n</g>\n<!-- 214 -->\n<g id=\"node215\" class=\"node\">\n<title>214</title>\n<polygon fill=\"#399de5\" stroke=\"#000000\" points=\"7043,-386.5 6941,-386.5 6941,-348.5 7043,-348.5 7043,-386.5\"/>\n<text text-anchor=\"middle\" x=\"6992\" y=\"-371.3\" font-family=\"Times,serif\" font-size=\"14.00\" fill=\"#000000\">samples = 98</text>\n<text text-anchor=\"middle\" x=\"6992\" y=\"-356.3\" font-family=\"Times,serif\" font-size=\"14.00\" fill=\"#000000\">value = [0, 98]</text>\n</g>\n<!-- 213&#45;&gt;214 -->\n<g id=\"edge214\" class=\"edge\">\n<title>213&#45;&gt;214</title>\n<path fill=\"none\" stroke=\"#000000\" d=\"M6994.0999,-429.7971C6993.7478,-419.3518 6993.3429,-407.3403 6992.9832,-396.6689\"/>\n<polygon fill=\"#000000\" stroke=\"#000000\" points=\"6996.4772,-396.4282 6992.6422,-386.5518 6989.4812,-396.664 6996.4772,-396.4282\"/>\n</g>\n<!-- 215 -->\n<g id=\"node216\" class=\"node\">\n<title>215</title>\n<polygon fill=\"#e58139\" stroke=\"#000000\" points=\"7156.5,-386.5 7061.5,-386.5 7061.5,-348.5 7156.5,-348.5 7156.5,-386.5\"/>\n<text text-anchor=\"middle\" x=\"7109\" y=\"-371.3\" font-family=\"Times,serif\" font-size=\"14.00\" fill=\"#000000\">samples = 2</text>\n<text text-anchor=\"middle\" x=\"7109\" y=\"-356.3\" font-family=\"Times,serif\" font-size=\"14.00\" fill=\"#000000\">value = [2, 0]</text>\n</g>\n<!-- 213&#45;&gt;215 -->\n<g id=\"edge215\" class=\"edge\">\n<title>213&#45;&gt;215</title>\n<path fill=\"none\" stroke=\"#000000\" d=\"M7029.2038,-429.7971C7044.2555,-418.0462 7061.8463,-404.313 7076.6758,-392.7356\"/>\n<polygon fill=\"#000000\" stroke=\"#000000\" points=\"7078.8681,-395.4644 7084.5966,-386.5518 7074.5604,-389.9467 7078.8681,-395.4644\"/>\n</g>\n<!-- 218 -->\n<g id=\"node219\" class=\"node\">\n<title>218</title>\n<polygon fill=\"#3d9fe6\" stroke=\"#000000\" points=\"7371,-572 7255,-572 7255,-519 7371,-519 7371,-572\"/>\n<text text-anchor=\"middle\" x=\"7313\" y=\"-556.8\" font-family=\"Times,serif\" font-size=\"14.00\" fill=\"#000000\">X[150] &lt;= 0.978</text>\n<text text-anchor=\"middle\" x=\"7313\" y=\"-541.8\" font-family=\"Times,serif\" font-size=\"14.00\" fill=\"#000000\">samples = 105</text>\n<text text-anchor=\"middle\" x=\"7313\" y=\"-526.8\" font-family=\"Times,serif\" font-size=\"14.00\" fill=\"#000000\">value = [2, 103]</text>\n</g>\n<!-- 217&#45;&gt;218 -->\n<g id=\"edge218\" class=\"edge\">\n<title>217&#45;&gt;218</title>\n<path fill=\"none\" stroke=\"#000000\" d=\"M7313,-607.7971C7313,-599.7887 7313,-590.8597 7313,-582.3198\"/>\n<polygon fill=\"#000000\" stroke=\"#000000\" points=\"7316.5001,-582.1841 7313,-572.1841 7309.5001,-582.1841 7316.5001,-582.1841\"/>\n</g>\n<!-- 223 -->\n<g id=\"node224\" class=\"node\">\n<title>223</title>\n<polygon fill=\"#6eb7ec\" stroke=\"#000000\" points=\"7619,-572 7503,-572 7503,-519 7619,-519 7619,-572\"/>\n<text text-anchor=\"middle\" x=\"7561\" y=\"-556.8\" font-family=\"Times,serif\" font-size=\"14.00\" fill=\"#000000\">X[197] &lt;= 0.382</text>\n<text text-anchor=\"middle\" x=\"7561\" y=\"-541.8\" font-family=\"Times,serif\" font-size=\"14.00\" fill=\"#000000\">samples = 66</text>\n<text text-anchor=\"middle\" x=\"7561\" y=\"-526.8\" font-family=\"Times,serif\" font-size=\"14.00\" fill=\"#000000\">value = [14, 52]</text>\n</g>\n<!-- 217&#45;&gt;223 -->\n<g id=\"edge223\" class=\"edge\">\n<title>217&#45;&gt;223</title>\n<path fill=\"none\" stroke=\"#000000\" d=\"M7371.7725,-613.4082C7408.2172,-600.3293 7455.1708,-583.479 7493.1882,-569.8357\"/>\n<polygon fill=\"#000000\" stroke=\"#000000\" points=\"7494.4193,-573.1125 7502.6493,-566.4404 7492.0548,-566.5239 7494.4193,-573.1125\"/>\n</g>\n<!-- 219 -->\n<g id=\"node220\" class=\"node\">\n<title>219</title>\n<polygon fill=\"#399de5\" stroke=\"#000000\" points=\"7301,-475.5 7199,-475.5 7199,-437.5 7301,-437.5 7301,-475.5\"/>\n<text text-anchor=\"middle\" x=\"7250\" y=\"-460.3\" font-family=\"Times,serif\" font-size=\"14.00\" fill=\"#000000\">samples = 92</text>\n<text text-anchor=\"middle\" x=\"7250\" y=\"-445.3\" font-family=\"Times,serif\" font-size=\"14.00\" fill=\"#000000\">value = [0, 92]</text>\n</g>\n<!-- 218&#45;&gt;219 -->\n<g id=\"edge219\" class=\"edge\">\n<title>218&#45;&gt;219</title>\n<path fill=\"none\" stroke=\"#000000\" d=\"M7294.0979,-518.7971C7286.319,-507.8078 7277.3129,-495.0849 7269.4753,-484.0128\"/>\n<polygon fill=\"#000000\" stroke=\"#000000\" points=\"7272.1205,-481.6917 7263.4861,-475.5518 7266.407,-485.736 7272.1205,-481.6917\"/>\n</g>\n<!-- 220 -->\n<g id=\"node221\" class=\"node\">\n<title>220</title>\n<polygon fill=\"#5dafea\" stroke=\"#000000\" points=\"7435,-483 7319,-483 7319,-430 7435,-430 7435,-483\"/>\n<text text-anchor=\"middle\" x=\"7377\" y=\"-467.8\" font-family=\"Times,serif\" font-size=\"14.00\" fill=\"#000000\">X[121] &lt;= 0.612</text>\n<text text-anchor=\"middle\" x=\"7377\" y=\"-452.8\" font-family=\"Times,serif\" font-size=\"14.00\" fill=\"#000000\">samples = 13</text>\n<text text-anchor=\"middle\" x=\"7377\" y=\"-437.8\" font-family=\"Times,serif\" font-size=\"14.00\" fill=\"#000000\">value = [2, 11]</text>\n</g>\n<!-- 218&#45;&gt;220 -->\n<g id=\"edge220\" class=\"edge\">\n<title>218&#45;&gt;220</title>\n<path fill=\"none\" stroke=\"#000000\" d=\"M7332.2021,-518.7971C7338.4039,-510.1727 7345.3735,-500.4806 7351.9346,-491.3566\"/>\n<polygon fill=\"#000000\" stroke=\"#000000\" points=\"7354.8147,-493.3463 7357.8114,-483.1841 7349.1316,-489.2595 7354.8147,-493.3463\"/>\n</g>\n<!-- 221 -->\n<g id=\"node222\" class=\"node\">\n<title>221</title>\n<polygon fill=\"#f2c09c\" stroke=\"#000000\" points=\"7307.5,-386.5 7212.5,-386.5 7212.5,-348.5 7307.5,-348.5 7307.5,-386.5\"/>\n<text text-anchor=\"middle\" x=\"7260\" y=\"-371.3\" font-family=\"Times,serif\" font-size=\"14.00\" fill=\"#000000\">samples = 3</text>\n<text text-anchor=\"middle\" x=\"7260\" y=\"-356.3\" font-family=\"Times,serif\" font-size=\"14.00\" fill=\"#000000\">value = [2, 1]</text>\n</g>\n<!-- 220&#45;&gt;221 -->\n<g id=\"edge221\" class=\"edge\">\n<title>220&#45;&gt;221</title>\n<path fill=\"none\" stroke=\"#000000\" d=\"M7341.8961,-429.7971C7326.4483,-418.0462 7308.3946,-404.313 7293.1749,-392.7356\"/>\n<polygon fill=\"#000000\" stroke=\"#000000\" points=\"7295.1236,-389.8204 7285.0456,-386.5518 7290.8856,-395.3917 7295.1236,-389.8204\"/>\n</g>\n<!-- 222 -->\n<g id=\"node223\" class=\"node\">\n<title>222</title>\n<polygon fill=\"#399de5\" stroke=\"#000000\" points=\"7428,-386.5 7326,-386.5 7326,-348.5 7428,-348.5 7428,-386.5\"/>\n<text text-anchor=\"middle\" x=\"7377\" y=\"-371.3\" font-family=\"Times,serif\" font-size=\"14.00\" fill=\"#000000\">samples = 10</text>\n<text text-anchor=\"middle\" x=\"7377\" y=\"-356.3\" font-family=\"Times,serif\" font-size=\"14.00\" fill=\"#000000\">value = [0, 10]</text>\n</g>\n<!-- 220&#45;&gt;222 -->\n<g id=\"edge222\" class=\"edge\">\n<title>220&#45;&gt;222</title>\n<path fill=\"none\" stroke=\"#000000\" d=\"M7377,-429.7971C7377,-419.3518 7377,-407.3403 7377,-396.6689\"/>\n<polygon fill=\"#000000\" stroke=\"#000000\" points=\"7380.5001,-396.5517 7377,-386.5518 7373.5001,-396.5518 7380.5001,-396.5517\"/>\n</g>\n<!-- 224 -->\n<g id=\"node225\" class=\"node\">\n<title>224</title>\n<polygon fill=\"#f2c09c\" stroke=\"#000000\" points=\"7615.5,-483 7506.5,-483 7506.5,-430 7615.5,-430 7615.5,-483\"/>\n<text text-anchor=\"middle\" x=\"7561\" y=\"-467.8\" font-family=\"Times,serif\" font-size=\"14.00\" fill=\"#000000\">X[74] &lt;= 0.463</text>\n<text text-anchor=\"middle\" x=\"7561\" y=\"-452.8\" font-family=\"Times,serif\" font-size=\"14.00\" fill=\"#000000\">samples = 15</text>\n<text text-anchor=\"middle\" x=\"7561\" y=\"-437.8\" font-family=\"Times,serif\" font-size=\"14.00\" fill=\"#000000\">value = [10, 5]</text>\n</g>\n<!-- 223&#45;&gt;224 -->\n<g id=\"edge224\" class=\"edge\">\n<title>223&#45;&gt;224</title>\n<path fill=\"none\" stroke=\"#000000\" d=\"M7561,-518.7971C7561,-510.7887 7561,-501.8597 7561,-493.3198\"/>\n<polygon fill=\"#000000\" stroke=\"#000000\" points=\"7564.5001,-493.1841 7561,-483.1841 7557.5001,-493.1841 7564.5001,-493.1841\"/>\n</g>\n<!-- 229 -->\n<g id=\"node230\" class=\"node\">\n<title>229</title>\n<polygon fill=\"#4aa5e7\" stroke=\"#000000\" points=\"7799.5,-483 7690.5,-483 7690.5,-430 7799.5,-430 7799.5,-483\"/>\n<text text-anchor=\"middle\" x=\"7745\" y=\"-467.8\" font-family=\"Times,serif\" font-size=\"14.00\" fill=\"#000000\">X[55] &lt;= 0.367</text>\n<text text-anchor=\"middle\" x=\"7745\" y=\"-452.8\" font-family=\"Times,serif\" font-size=\"14.00\" fill=\"#000000\">samples = 51</text>\n<text text-anchor=\"middle\" x=\"7745\" y=\"-437.8\" font-family=\"Times,serif\" font-size=\"14.00\" fill=\"#000000\">value = [4, 47]</text>\n</g>\n<!-- 223&#45;&gt;229 -->\n<g id=\"edge229\" class=\"edge\">\n<title>223&#45;&gt;229</title>\n<path fill=\"none\" stroke=\"#000000\" d=\"M7616.2061,-518.7971C7636.6768,-508.8954 7660.0574,-497.5864 7681.2294,-487.3455\"/>\n<polygon fill=\"#000000\" stroke=\"#000000\" points=\"7682.9888,-490.3825 7690.467,-482.8774 7679.9407,-484.081 7682.9888,-490.3825\"/>\n</g>\n<!-- 225 -->\n<g id=\"node226\" class=\"node\">\n<title>225</title>\n<polygon fill=\"#e58139\" stroke=\"#000000\" points=\"7541.5,-386.5 7446.5,-386.5 7446.5,-348.5 7541.5,-348.5 7541.5,-386.5\"/>\n<text text-anchor=\"middle\" x=\"7494\" y=\"-371.3\" font-family=\"Times,serif\" font-size=\"14.00\" fill=\"#000000\">samples = 9</text>\n<text text-anchor=\"middle\" x=\"7494\" y=\"-356.3\" font-family=\"Times,serif\" font-size=\"14.00\" fill=\"#000000\">value = [9, 0]</text>\n</g>\n<!-- 224&#45;&gt;225 -->\n<g id=\"edge225\" class=\"edge\">\n<title>224&#45;&gt;225</title>\n<path fill=\"none\" stroke=\"#000000\" d=\"M7540.8978,-429.7971C7532.5431,-418.699 7522.8573,-405.8328 7514.4647,-394.6844\"/>\n<polygon fill=\"#000000\" stroke=\"#000000\" points=\"7517.153,-392.436 7508.3423,-386.5518 7511.5605,-396.646 7517.153,-392.436\"/>\n</g>\n<!-- 226 -->\n<g id=\"node227\" class=\"node\">\n<title>226</title>\n<polygon fill=\"#61b1ea\" stroke=\"#000000\" points=\"7668.5,-394 7559.5,-394 7559.5,-341 7668.5,-341 7668.5,-394\"/>\n<text text-anchor=\"middle\" x=\"7614\" y=\"-378.8\" font-family=\"Times,serif\" font-size=\"14.00\" fill=\"#000000\">X[58] &lt;= 0.259</text>\n<text text-anchor=\"middle\" x=\"7614\" y=\"-363.8\" font-family=\"Times,serif\" font-size=\"14.00\" fill=\"#000000\">samples = 6</text>\n<text text-anchor=\"middle\" x=\"7614\" y=\"-348.8\" font-family=\"Times,serif\" font-size=\"14.00\" fill=\"#000000\">value = [1, 5]</text>\n</g>\n<!-- 224&#45;&gt;226 -->\n<g id=\"edge226\" class=\"edge\">\n<title>224&#45;&gt;226</title>\n<path fill=\"none\" stroke=\"#000000\" d=\"M7576.9017,-429.7971C7581.9328,-421.3487 7587.574,-411.8757 7592.9096,-402.9159\"/>\n<polygon fill=\"#000000\" stroke=\"#000000\" points=\"7596.0001,-404.5668 7598.1095,-394.1841 7589.9857,-400.9852 7596.0001,-404.5668\"/>\n</g>\n<!-- 227 -->\n<g id=\"node228\" class=\"node\">\n<title>227</title>\n<polygon fill=\"#e58139\" stroke=\"#000000\" points=\"7551.5,-297.5 7456.5,-297.5 7456.5,-259.5 7551.5,-259.5 7551.5,-297.5\"/>\n<text text-anchor=\"middle\" x=\"7504\" y=\"-282.3\" font-family=\"Times,serif\" font-size=\"14.00\" fill=\"#000000\">samples = 1</text>\n<text text-anchor=\"middle\" x=\"7504\" y=\"-267.3\" font-family=\"Times,serif\" font-size=\"14.00\" fill=\"#000000\">value = [1, 0]</text>\n</g>\n<!-- 226&#45;&gt;227 -->\n<g id=\"edge227\" class=\"edge\">\n<title>226&#45;&gt;227</title>\n<path fill=\"none\" stroke=\"#000000\" d=\"M7580.9964,-340.7971C7566.6073,-329.155 7549.8133,-315.5671 7535.5882,-304.0577\"/>\n<polygon fill=\"#000000\" stroke=\"#000000\" points=\"7537.5227,-301.1208 7527.5471,-297.5518 7533.1198,-306.5627 7537.5227,-301.1208\"/>\n</g>\n<!-- 228 -->\n<g id=\"node229\" class=\"node\">\n<title>228</title>\n<polygon fill=\"#399de5\" stroke=\"#000000\" points=\"7664.5,-297.5 7569.5,-297.5 7569.5,-259.5 7664.5,-259.5 7664.5,-297.5\"/>\n<text text-anchor=\"middle\" x=\"7617\" y=\"-282.3\" font-family=\"Times,serif\" font-size=\"14.00\" fill=\"#000000\">samples = 5</text>\n<text text-anchor=\"middle\" x=\"7617\" y=\"-267.3\" font-family=\"Times,serif\" font-size=\"14.00\" fill=\"#000000\">value = [0, 5]</text>\n</g>\n<!-- 226&#45;&gt;228 -->\n<g id=\"edge228\" class=\"edge\">\n<title>226&#45;&gt;228</title>\n<path fill=\"none\" stroke=\"#000000\" d=\"M7614.9001,-340.7971C7615.2522,-330.3518 7615.6571,-318.3403 7616.0168,-307.6689\"/>\n<polygon fill=\"#000000\" stroke=\"#000000\" points=\"7619.5188,-307.664 7616.3578,-297.5518 7612.5228,-307.4282 7619.5188,-307.664\"/>\n</g>\n<!-- 230 -->\n<g id=\"node231\" class=\"node\">\n<title>230</title>\n<polygon fill=\"#91c9f1\" stroke=\"#000000\" points=\"7803,-394 7687,-394 7687,-341 7803,-341 7803,-394\"/>\n<text text-anchor=\"middle\" x=\"7745\" y=\"-378.8\" font-family=\"Times,serif\" font-size=\"14.00\" fill=\"#000000\">X[136] &lt;= 0.684</text>\n<text text-anchor=\"middle\" x=\"7745\" y=\"-363.8\" font-family=\"Times,serif\" font-size=\"14.00\" fill=\"#000000\">samples = 13</text>\n<text text-anchor=\"middle\" x=\"7745\" y=\"-348.8\" font-family=\"Times,serif\" font-size=\"14.00\" fill=\"#000000\">value = [4, 9]</text>\n</g>\n<!-- 229&#45;&gt;230 -->\n<g id=\"edge230\" class=\"edge\">\n<title>229&#45;&gt;230</title>\n<path fill=\"none\" stroke=\"#000000\" d=\"M7745,-429.7971C7745,-421.7887 7745,-412.8597 7745,-404.3198\"/>\n<polygon fill=\"#000000\" stroke=\"#000000\" points=\"7748.5001,-404.1841 7745,-394.1841 7741.5001,-404.1841 7748.5001,-404.1841\"/>\n</g>\n<!-- 235 -->\n<g id=\"node236\" class=\"node\">\n<title>235</title>\n<polygon fill=\"#399de5\" stroke=\"#000000\" points=\"7923,-386.5 7821,-386.5 7821,-348.5 7923,-348.5 7923,-386.5\"/>\n<text text-anchor=\"middle\" x=\"7872\" y=\"-371.3\" font-family=\"Times,serif\" font-size=\"14.00\" fill=\"#000000\">samples = 38</text>\n<text text-anchor=\"middle\" x=\"7872\" y=\"-356.3\" font-family=\"Times,serif\" font-size=\"14.00\" fill=\"#000000\">value = [0, 38]</text>\n</g>\n<!-- 229&#45;&gt;235 -->\n<g id=\"edge235\" class=\"edge\">\n<title>229&#45;&gt;235</title>\n<path fill=\"none\" stroke=\"#000000\" d=\"M7783.1042,-429.7971C7800.0276,-417.9374 7819.8323,-404.0585 7836.4478,-392.4145\"/>\n<polygon fill=\"#000000\" stroke=\"#000000\" points=\"7838.6331,-395.157 7844.8138,-386.5518 7834.6158,-389.4245 7838.6331,-395.157\"/>\n</g>\n<!-- 231 -->\n<g id=\"node232\" class=\"node\">\n<title>231</title>\n<polygon fill=\"#eca06a\" stroke=\"#000000\" points=\"7796.5,-305 7687.5,-305 7687.5,-252 7796.5,-252 7796.5,-305\"/>\n<text text-anchor=\"middle\" x=\"7742\" y=\"-289.8\" font-family=\"Times,serif\" font-size=\"14.00\" fill=\"#000000\">X[94] &lt;= 0.188</text>\n<text text-anchor=\"middle\" x=\"7742\" y=\"-274.8\" font-family=\"Times,serif\" font-size=\"14.00\" fill=\"#000000\">samples = 5</text>\n<text text-anchor=\"middle\" x=\"7742\" y=\"-259.8\" font-family=\"Times,serif\" font-size=\"14.00\" fill=\"#000000\">value = [4, 1]</text>\n</g>\n<!-- 230&#45;&gt;231 -->\n<g id=\"edge231\" class=\"edge\">\n<title>230&#45;&gt;231</title>\n<path fill=\"none\" stroke=\"#000000\" d=\"M7744.0999,-340.7971C7743.83,-332.7887 7743.529,-323.8597 7743.2411,-315.3198\"/>\n<polygon fill=\"#000000\" stroke=\"#000000\" points=\"7746.7345,-315.0605 7742.8995,-305.1841 7739.7384,-315.2964 7746.7345,-315.0605\"/>\n</g>\n<!-- 234 -->\n<g id=\"node235\" class=\"node\">\n<title>234</title>\n<polygon fill=\"#399de5\" stroke=\"#000000\" points=\"7909.5,-297.5 7814.5,-297.5 7814.5,-259.5 7909.5,-259.5 7909.5,-297.5\"/>\n<text text-anchor=\"middle\" x=\"7862\" y=\"-282.3\" font-family=\"Times,serif\" font-size=\"14.00\" fill=\"#000000\">samples = 8</text>\n<text text-anchor=\"middle\" x=\"7862\" y=\"-267.3\" font-family=\"Times,serif\" font-size=\"14.00\" fill=\"#000000\">value = [0, 8]</text>\n</g>\n<!-- 230&#45;&gt;234 -->\n<g id=\"edge234\" class=\"edge\">\n<title>230&#45;&gt;234</title>\n<path fill=\"none\" stroke=\"#000000\" d=\"M7780.1039,-340.7971C7795.5517,-329.0462 7813.6054,-315.313 7828.8251,-303.7356\"/>\n<polygon fill=\"#000000\" stroke=\"#000000\" points=\"7831.1144,-306.3917 7836.9544,-297.5518 7826.8764,-300.8204 7831.1144,-306.3917\"/>\n</g>\n<!-- 232 -->\n<g id=\"node233\" class=\"node\">\n<title>232</title>\n<polygon fill=\"#e58139\" stroke=\"#000000\" points=\"7732.5,-208.5 7637.5,-208.5 7637.5,-170.5 7732.5,-170.5 7732.5,-208.5\"/>\n<text text-anchor=\"middle\" x=\"7685\" y=\"-193.3\" font-family=\"Times,serif\" font-size=\"14.00\" fill=\"#000000\">samples = 4</text>\n<text text-anchor=\"middle\" x=\"7685\" y=\"-178.3\" font-family=\"Times,serif\" font-size=\"14.00\" fill=\"#000000\">value = [4, 0]</text>\n</g>\n<!-- 231&#45;&gt;232 -->\n<g id=\"edge232\" class=\"edge\">\n<title>231&#45;&gt;232</title>\n<path fill=\"none\" stroke=\"#000000\" d=\"M7724.8981,-251.7971C7717.8601,-240.8078 7709.7117,-228.0849 7702.6205,-217.0128\"/>\n<polygon fill=\"#000000\" stroke=\"#000000\" points=\"7705.5423,-215.0851 7697.2017,-208.5518 7699.6476,-218.8604 7705.5423,-215.0851\"/>\n</g>\n<!-- 233 -->\n<g id=\"node234\" class=\"node\">\n<title>233</title>\n<polygon fill=\"#399de5\" stroke=\"#000000\" points=\"7845.5,-208.5 7750.5,-208.5 7750.5,-170.5 7845.5,-170.5 7845.5,-208.5\"/>\n<text text-anchor=\"middle\" x=\"7798\" y=\"-193.3\" font-family=\"Times,serif\" font-size=\"14.00\" fill=\"#000000\">samples = 1</text>\n<text text-anchor=\"middle\" x=\"7798\" y=\"-178.3\" font-family=\"Times,serif\" font-size=\"14.00\" fill=\"#000000\">value = [0, 1]</text>\n</g>\n<!-- 231&#45;&gt;233 -->\n<g id=\"edge233\" class=\"edge\">\n<title>231&#45;&gt;233</title>\n<path fill=\"none\" stroke=\"#000000\" d=\"M7758.8018,-251.7971C7765.648,-240.9166 7773.5635,-228.3366 7780.4813,-217.3421\"/>\n<polygon fill=\"#000000\" stroke=\"#000000\" points=\"7783.6491,-218.8797 7786.0124,-208.5518 7777.7243,-215.1517 7783.6491,-218.8797\"/>\n</g>\n</g>\n</svg>\n"
          },
          "metadata": {
            "tags": []
          },
          "execution_count": 23
        }
      ]
    },
    {
      "cell_type": "markdown",
      "metadata": {
        "id": "1mcjoAJYu3KF"
      },
      "source": [
        "# ***imagennes tienen 256 y esto plotea 2 dimensiones***"
      ]
    },
    {
      "cell_type": "code",
      "metadata": {
        "id": "Cvadji880wnH"
      },
      "source": [
        "def view_model_decision(model, x_train, y_train):\n",
        "  xrange1 = np.linspace(-1.2, 2.4, 50)\n",
        "  xrange2 = np.linspace(-1.2, 1.2, 50)\n",
        "  X1, X2 = np.meshgrid(xrange1, xrange2)\n",
        "  x = np.array( [X1.flatten(), X2.flatten()] ).T\n",
        "  y = model.predict(x)\n",
        "  plt.figure()\n",
        "  plt.clf()\n",
        "  plt.imshow(y.reshape(50,50), extent=[-1.2, 2.4, -1.2, 1.2],\n",
        "  origin='lower', cmap='jet')\n",
        "  ind0 = find(y_train, 0)\n",
        "  ind1 = find(y_train, 1)\n",
        "  plt.plot(x_train[ind0,0], x_train[ind0,1],'bx', markersize=4)\n",
        "  plt.plot(x_train[ind1,0], x_train[ind1,1],'rx', markersize=4)\n",
        "  plt.grid(True)\n",
        "  plt.gca().legend(['y_n=0', 'y_n=1'], loc='upper right',fontsize=8)"
      ],
      "execution_count": null,
      "outputs": []
    },
    {
      "cell_type": "code",
      "metadata": {
        "id": "a4_DDfDc0sAm"
      },
      "source": [
        "view_model_decision(model, x_train, y_train)"
      ],
      "execution_count": null,
      "outputs": []
    },
    {
      "cell_type": "markdown",
      "metadata": {
        "id": "nR-rbgPlv0uV"
      },
      "source": [
        "**Inciso f probamos con el algoritmo GHB de la libreria sklearn**"
      ]
    },
    {
      "cell_type": "code",
      "metadata": {
        "colab": {
          "base_uri": "https://localhost:8080/"
        },
        "id": "OG-DbhnRwEvL",
        "outputId": "adc5dc46-b9ac-46ec-987f-4241eee3ac44"
      },
      "source": [
        "from sklearn.naive_bayes import GaussianNB\n",
        "model = GaussianNB()\n",
        "model.fit(x_train, y_train)\n",
        "y_pred_test = model.predict(x_test)\n",
        "err = np.sum( y_pred_test != y_test )\n",
        "print('error rate test: %f %%' % (err / len(y_test) * 100))\n",
        "\n",
        "print(\"aprendizaje del modelo:\",model.score(x_test, y_test))"
      ],
      "execution_count": null,
      "outputs": [
        {
          "output_type": "stream",
          "text": [
            "error rate test: 2.209006 %\n",
            "aprendizaje del modelo: 0.9779099405267629\n"
          ],
          "name": "stdout"
        }
      ]
    },
    {
      "cell_type": "markdown",
      "metadata": {
        "id": "xeGSk4xqEgrP"
      },
      "source": [
        "Conjuntos de modelos: bagging, boosting"
      ]
    },
    {
      "cell_type": "code",
      "metadata": {
        "colab": {
          "base_uri": "https://localhost:8080/"
        },
        "id": "auLqIRygEfaB",
        "outputId": "ea95b0e6-2d29-43fd-87a2-f372c3b7649f"
      },
      "source": [
        "from sklearn.ensemble import BaggingClassifier\n",
        "model = BaggingClassifier(DecisionTreeClassifier(), n_estimators=10)\n",
        "\n",
        "model"
      ],
      "execution_count": null,
      "outputs": [
        {
          "output_type": "execute_result",
          "data": {
            "text/plain": [
              "BaggingClassifier(base_estimator=DecisionTreeClassifier(ccp_alpha=0.0,\n",
              "                                                        class_weight=None,\n",
              "                                                        criterion='gini',\n",
              "                                                        max_depth=None,\n",
              "                                                        max_features=None,\n",
              "                                                        max_leaf_nodes=None,\n",
              "                                                        min_impurity_decrease=0.0,\n",
              "                                                        min_impurity_split=None,\n",
              "                                                        min_samples_leaf=1,\n",
              "                                                        min_samples_split=2,\n",
              "                                                        min_weight_fraction_leaf=0.0,\n",
              "                                                        presort='deprecated',\n",
              "                                                        random_state=None,\n",
              "                                                        splitter='best'),\n",
              "                  bootstrap=True, bootstrap_features=False, max_features=1.0,\n",
              "                  max_samples=1.0, n_estimators=10, n_jobs=None,\n",
              "                  oob_score=False, random_state=None, verbose=0,\n",
              "                  warm_start=False)"
            ]
          },
          "metadata": {
            "tags": []
          },
          "execution_count": 27
        }
      ]
    },
    {
      "cell_type": "code",
      "metadata": {
        "colab": {
          "base_uri": "https://localhost:8080/"
        },
        "id": "zSQagBYfEvYP",
        "outputId": "166c6b7a-8d98-4e83-a6b8-55fece9ff60c"
      },
      "source": [
        "from sklearn.ensemble import AdaBoostClassifier\n",
        "model = AdaBoostClassifier(DecisionTreeClassifier(), n_estimators=10)\n",
        "model"
      ],
      "execution_count": null,
      "outputs": [
        {
          "output_type": "execute_result",
          "data": {
            "text/plain": [
              "AdaBoostClassifier(algorithm='SAMME.R',\n",
              "                   base_estimator=DecisionTreeClassifier(ccp_alpha=0.0,\n",
              "                                                         class_weight=None,\n",
              "                                                         criterion='gini',\n",
              "                                                         max_depth=None,\n",
              "                                                         max_features=None,\n",
              "                                                         max_leaf_nodes=None,\n",
              "                                                         min_impurity_decrease=0.0,\n",
              "                                                         min_impurity_split=None,\n",
              "                                                         min_samples_leaf=1,\n",
              "                                                         min_samples_split=2,\n",
              "                                                         min_weight_fraction_leaf=0.0,\n",
              "                                                         presort='deprecated',\n",
              "                                                         random_state=None,\n",
              "                                                         splitter='best'),\n",
              "                   learning_rate=1.0, n_estimators=10, random_state=None)"
            ]
          },
          "metadata": {
            "tags": []
          },
          "execution_count": 28
        }
      ]
    },
    {
      "cell_type": "markdown",
      "metadata": {
        "id": "f6g7dpF0nybO"
      },
      "source": [
        "##***SVM***"
      ]
    },
    {
      "cell_type": "markdown",
      "metadata": {
        "id": "JPBG7Q_JoIWV"
      },
      "source": [
        "tiene muy buen porciento de aprendizaje"
      ]
    },
    {
      "cell_type": "code",
      "metadata": {
        "colab": {
          "base_uri": "https://localhost:8080/"
        },
        "id": "2UiNqXFUn3d9",
        "outputId": "bc03360b-68c8-4bc3-d36c-562f80398e79"
      },
      "source": [
        "from sklearn.svm import SVC\n",
        "model = SVC()\n",
        "\n",
        "model.fit(x_train, y_train)\n",
        "\n",
        "\n",
        "y_pred_test = model.predict(x_test)\n",
        "err = np.sum( y_pred_test != y_test )\n",
        "\n",
        "print('error rate test: %f %%' % (err / len(y_test) * 100))\n",
        "print('aprendizaje:', model.score(x_test, y_test))"
      ],
      "execution_count": null,
      "outputs": [
        {
          "output_type": "stream",
          "text": [
            "error rate test: 0.424809 %\n",
            "aprendizaje: 0.9957519116397621\n"
          ],
          "name": "stdout"
        }
      ]
    },
    {
      "cell_type": "code",
      "metadata": {
        "colab": {
          "base_uri": "https://localhost:8080/"
        },
        "id": "NpMAPA98pCTF",
        "outputId": "6e9be07e-234c-40ba-a509-bcec607dd437"
      },
      "source": [
        "from sklearn.svm import SVC\n",
        "model = SVC(C=1., kernel='rbf')\n",
        "\n",
        "model.fit(x_train, y_train)\n",
        "\n",
        "\n",
        "y_pred_test = model.predict(x_test)\n",
        "err = np.sum( y_pred_test != y_test )\n",
        "\n",
        "print('error rate test: %f %%' % (err / len(y_test) * 100))\n",
        "print('aprendizaje:', model.score(x_test, y_test))"
      ],
      "execution_count": null,
      "outputs": [
        {
          "output_type": "stream",
          "text": [
            "error rate test: 0.424809 %\n",
            "aprendizaje: 0.9957519116397621\n"
          ],
          "name": "stdout"
        }
      ]
    },
    {
      "cell_type": "code",
      "metadata": {
        "colab": {
          "base_uri": "https://localhost:8080/"
        },
        "id": "lBhQp5_xq2d7",
        "outputId": "bc65d69f-3355-4a04-f03e-faf8a959f7d3"
      },
      "source": [
        "from sklearn.svm import SVC\n",
        "model = SVC(C=1.0, kernel='linear')\n",
        "\n",
        "model.fit(x_train, y_train)\n",
        "\n",
        "\n",
        "y_pred_test = model.predict(x_test)\n",
        "err = np.sum( y_pred_test != y_test )\n",
        "\n",
        "print('error rate test: %f %%' % (err / len(y_test) * 100))\n",
        "print('aprendizaje:', model.score(x_test, y_test))"
      ],
      "execution_count": null,
      "outputs": [
        {
          "output_type": "stream",
          "text": [
            "error rate test: 1.019541 %\n",
            "aprendizaje: 0.989804587935429\n"
          ],
          "name": "stdout"
        }
      ]
    },
    {
      "cell_type": "code",
      "metadata": {
        "colab": {
          "base_uri": "https://localhost:8080/"
        },
        "id": "GGd7lTUpq7Qc",
        "outputId": "c788ad58-7a06-422c-8f2b-9a78bba9fb6a"
      },
      "source": [
        "from sklearn.svm import SVC\n",
        "model = SVC(C=1.0, kernel='rbf', gamma=2.0)\n",
        "\n",
        "model.fit(x_train, y_train)\n",
        "\n",
        "\n",
        "y_pred_test = model.predict(x_test)\n",
        "err = np.sum( y_pred_test != y_test )\n",
        "\n",
        "print('error rate test: %f %%' % (err / len(y_test) * 100))\n",
        "print('aprendizaje:', model.score(x_test, y_test))"
      ],
      "execution_count": null,
      "outputs": [
        {
          "output_type": "stream",
          "text": [
            "error rate test: 32.455395 %\n",
            "aprendizaje: 0.675446049277825\n"
          ],
          "name": "stdout"
        }
      ]
    },
    {
      "cell_type": "code",
      "metadata": {
        "colab": {
          "base_uri": "https://localhost:8080/"
        },
        "id": "R0pXjLgErG78",
        "outputId": "f632cb30-6a0a-4dc8-a8d7-7b96c6a810cb"
      },
      "source": [
        "from sklearn.svm import SVC\n",
        "model = SVC(C=1.0, kernel='poly', degree=2)\n",
        "\n",
        "model.fit(x_train, y_train)\n",
        "\n",
        "\n",
        "y_pred_test = model.predict(x_test)\n",
        "err = np.sum( y_pred_test != y_test )\n",
        "\n",
        "print('error rate test: %f %%' % (err / len(y_test) * 100))\n",
        "print('aprendizaje:', model.score(x_test, y_test))"
      ],
      "execution_count": null,
      "outputs": [
        {
          "output_type": "stream",
          "text": [
            "error rate test: 0.424809 %\n",
            "aprendizaje: 0.9957519116397621\n"
          ],
          "name": "stdout"
        }
      ]
    },
    {
      "cell_type": "markdown",
      "metadata": {
        "id": "iP3UnKrAog7u"
      },
      "source": [
        "#####Cambiando los valores de C"
      ]
    },
    {
      "cell_type": "markdown",
      "metadata": {
        "id": "50TKmSTbv8aB"
      },
      "source": [
        "cambiandole el valor de C, podemos ver que el porciento de error aumenta, pero el parendizaje sigue muy parecido"
      ]
    },
    {
      "cell_type": "code",
      "metadata": {
        "colab": {
          "base_uri": "https://localhost:8080/"
        },
        "id": "k0zkzAhzou11",
        "outputId": "c98ffe6d-7254-4a3d-d73a-74a4341125be"
      },
      "source": [
        "from sklearn.svm import SVC\n",
        "\n",
        "model = SVC(C=4., kernel='rbf')\n",
        "\n",
        "model.fit(x_train, y_train)\n",
        "\n",
        "\n",
        "y_pred_test = model.predict(x_test)\n",
        "err = np.sum( y_pred_test != y_test )\n",
        "\n",
        "print('error rate test: %f %%' % (err / len(y_test) * 100))\n",
        "print('aprendizaje:', model.score(x_test, y_test))"
      ],
      "execution_count": null,
      "outputs": [
        {
          "output_type": "stream",
          "text": [
            "error rate test: 0.424809 %\n",
            "aprendizaje: 0.9957519116397621\n"
          ],
          "name": "stdout"
        }
      ]
    },
    {
      "cell_type": "markdown",
      "metadata": {
        "id": "9KWy7vdWwHO5"
      },
      "source": [
        "En este caso cambiandole C=2 y gramma=3 podemos apreciar que el error aumneta mientra que el parendizaje disminuye."
      ]
    },
    {
      "cell_type": "code",
      "metadata": {
        "colab": {
          "base_uri": "https://localhost:8080/"
        },
        "id": "20POr0guuOB6",
        "outputId": "0bf75b09-3acc-46da-ac52-248fe2160dd0"
      },
      "source": [
        "from sklearn.svm import SVC\n",
        "model = SVC(C=2.0, kernel='rbf', gamma=3.0)\n",
        "\n",
        "model.fit(x_train, y_train)\n",
        "\n",
        "\n",
        "y_pred_test = model.predict(x_test)\n",
        "err = np.sum( y_pred_test != y_test )\n",
        "\n",
        "print('error rate test: %f %%' % (err / len(y_test) * 100))\n",
        "print('aprendizaje:', model.score(x_test, y_test))"
      ],
      "execution_count": null,
      "outputs": [
        {
          "output_type": "stream",
          "text": [
            "error rate test: 33.389975 %\n",
            "aprendizaje: 0.6661002548853017\n"
          ],
          "name": "stdout"
        }
      ]
    },
    {
      "cell_type": "markdown",
      "metadata": {
        "id": "A7w7nYyamd_G"
      },
      "source": [
        "## Ejercicio 2.2"
      ]
    },
    {
      "cell_type": "markdown",
      "metadata": {
        "id": "Cg_jl_wWzVaA"
      },
      "source": [
        "***Importamos nuestras librerias a usar y descargamos nuestro set de datos***"
      ]
    },
    {
      "cell_type": "code",
      "metadata": {
        "id": "ZnuOMzzY3X6r"
      },
      "source": [
        "from sklearn.tree import DecisionTreeClassifier\n",
        "import pickle, gzip\n",
        "import numpy as np\n",
        "import matplotlib.pyplot as plt\n",
        "import pandas as pd\n",
        "from sklearn.model_selection import train_test_split\n",
        "\n",
        "from sklearn.tree import export_graphviz\n",
        "import graphviz"
      ],
      "execution_count": null,
      "outputs": []
    },
    {
      "cell_type": "code",
      "metadata": {
        "colab": {
          "base_uri": "https://localhost:8080/"
        },
        "id": "LDkf98a9mdFI",
        "outputId": "891602a4-4845-40be-b04c-a65109a6d851"
      },
      "source": [
        "!wget https://dihana.cps.unizar.es/~cadrete/mlbio/p1_data2.pkl.gz --no-check-certificate\n",
        "with gzip.open('p1_data2.pkl.gz', 'rb') as f:\n",
        " x_train, y_train, x_test, y_test = pickle.load(f)\n",
        "\n",
        "#! gzip -d p1_data2.pkl.gz"
      ],
      "execution_count": null,
      "outputs": [
        {
          "output_type": "stream",
          "text": [
            "--2021-04-09 12:33:11--  https://dihana.cps.unizar.es/~cadrete/mlbio/p1_data2.pkl.gz\n",
            "Resolving dihana.cps.unizar.es (dihana.cps.unizar.es)... 155.210.153.34\n",
            "Connecting to dihana.cps.unizar.es (dihana.cps.unizar.es)|155.210.153.34|:443... connected.\n",
            "WARNING: cannot verify dihana.cps.unizar.es's certificate, issued by ‘CN=TERENA SSL CA 3,O=TERENA,L=Amsterdam,ST=Noord-Holland,C=NL’:\n",
            "  Unable to locally verify the issuer's authority.\n",
            "WARNING: no certificate subject alternative name matches\n",
            "\trequested host name ‘dihana.cps.unizar.es’.\n",
            "HTTP request sent, awaiting response... 200 OK\n",
            "Length: 2590291 (2.5M) [application/x-gzip]\n",
            "Saving to: ‘p1_data2.pkl.gz.1’\n",
            "\n",
            "p1_data2.pkl.gz.1   100%[===================>]   2.47M   918KB/s    in 2.8s    \n",
            "\n",
            "2021-04-09 12:33:14 (918 KB/s) - ‘p1_data2.pkl.gz.1’ saved [2590291/2590291]\n",
            "\n"
          ],
          "name": "stdout"
        }
      ]
    },
    {
      "cell_type": "markdown",
      "metadata": {
        "id": "MYpp5R6Nzma2"
      },
      "source": [
        "***ahora iniciamos nuestro modelo***"
      ]
    },
    {
      "cell_type": "code",
      "metadata": {
        "colab": {
          "base_uri": "https://localhost:8080/"
        },
        "id": "cKnMWcZ5zrZ-",
        "outputId": "0bc54a9b-ce94-4818-8f36-529f2e5204f7"
      },
      "source": [
        "model = DecisionTreeClassifier(max_depth=None)\n",
        "model"
      ],
      "execution_count": null,
      "outputs": [
        {
          "output_type": "execute_result",
          "data": {
            "text/plain": [
              "DecisionTreeClassifier(ccp_alpha=0.0, class_weight=None, criterion='gini',\n",
              "                       max_depth=None, max_features=None, max_leaf_nodes=None,\n",
              "                       min_impurity_decrease=0.0, min_impurity_split=None,\n",
              "                       min_samples_leaf=1, min_samples_split=2,\n",
              "                       min_weight_fraction_leaf=0.0, presort='deprecated',\n",
              "                       random_state=None, splitter='best')"
            ]
          },
          "metadata": {
            "tags": []
          },
          "execution_count": 38
        }
      ]
    },
    {
      "cell_type": "markdown",
      "metadata": {
        "id": "2PKyeQiA0A9_"
      },
      "source": [
        "***Entrenamos nuestro modelo con los set de datos de entrenamiento***                     \n",
        "***podemos ver que tan bien aprendio***"
      ]
    },
    {
      "cell_type": "code",
      "metadata": {
        "colab": {
          "base_uri": "https://localhost:8080/"
        },
        "id": "VP6rBpbm0LFf",
        "outputId": "d0dd0dea-3f93-453e-aea5-c5ffeca1dc77"
      },
      "source": [
        "model.fit(x_train, y_train)\n",
        "\n",
        "\n",
        "y_pred_test = model.predict(x_test)\n",
        "err = np.sum( y_pred_test != y_test )\n",
        "\n",
        "print('error rate test: %f %%' % (err / len(y_test) * 100))\n",
        "print('aprendizaje:', model.score(x_test, y_test))"
      ],
      "execution_count": null,
      "outputs": [
        {
          "output_type": "stream",
          "text": [
            "error rate test: 3.053830 %\n",
            "aprendizaje: 0.9694616977225673\n"
          ],
          "name": "stdout"
        }
      ]
    },
    {
      "cell_type": "markdown",
      "metadata": {
        "id": "CSJizvE1_b1S"
      },
      "source": [
        "***Si  le cambiamos la propiedad de max_depth vemos que el error disminuye y aumenta el aprendizaje***"
      ]
    },
    {
      "cell_type": "code",
      "metadata": {
        "colab": {
          "base_uri": "https://localhost:8080/"
        },
        "id": "lzI2PLKS1GMf",
        "outputId": "11bbe756-33e6-46fb-e483-7560bb08cb1b"
      },
      "source": [
        "model = DecisionTreeClassifier(max_depth=9)\n",
        "model.fit(x_train, y_train)\n",
        "model.score(x_test, y_test)\n",
        "\n",
        "y_pred_test = model.predict(x_test)\n",
        "err = np.sum( y_pred_test != y_test )\n",
        "\n",
        "print('error rate test: %f %%' % (err / len(y_test) * 100))\n",
        "print('aprendizaje:', model.score(x_test, y_test))\n"
      ],
      "execution_count": null,
      "outputs": [
        {
          "output_type": "stream",
          "text": [
            "error rate test: 2.639752 %\n",
            "aprendizaje: 0.9736024844720497\n"
          ],
          "name": "stdout"
        }
      ]
    },
    {
      "cell_type": "markdown",
      "metadata": {
        "id": "HLT4n4rNylZ3"
      },
      "source": [
        "***con esto encontramos cual es el mejor valor de max_depth para la prediccion***"
      ]
    },
    {
      "cell_type": "code",
      "metadata": {
        "colab": {
          "base_uri": "https://localhost:8080/"
        },
        "id": "-p0vclS3AOeY",
        "outputId": "ee5414fb-4246-4853-e887-72c2a4e385c4"
      },
      "source": [
        "max_depth_range = list(range(1, 10))\n",
        "accuracy = []\n",
        "for depth in max_depth_range:    \n",
        "    clf = DecisionTreeClassifier(max_depth = depth, random_state = 0)\n",
        "    clf.fit(x_train, y_train)\n",
        "    score = clf.score(x_test, y_test)\n",
        "    accuracy.append(score)\n",
        "\n",
        "accuracy"
      ],
      "execution_count": null,
      "outputs": [
        {
          "output_type": "execute_result",
          "data": {
            "text/plain": [
              "[0.9213250517598344,\n",
              " 0.9404761904761905,\n",
              " 0.9653209109730849,\n",
              " 0.9704968944099379,\n",
              " 0.9772256728778468,\n",
              " 0.974120082815735,\n",
              " 0.9761904761904762,\n",
              " 0.977743271221532,\n",
              " 0.974120082815735]"
            ]
          },
          "metadata": {
            "tags": []
          },
          "execution_count": 41
        }
      ]
    },
    {
      "cell_type": "markdown",
      "metadata": {
        "id": "mtVlDCeozAJ2"
      },
      "source": [
        "##Exportando a pdf"
      ]
    },
    {
      "cell_type": "code",
      "metadata": {
        "colab": {
          "base_uri": "https://localhost:8080/"
        },
        "id": "9uBE7JA22nHl",
        "outputId": "6c05e53b-d9da-4acd-b409-d458eadd1671"
      },
      "source": [
        "!ls drive/MyDrive/Colab\\ Notebooks\n"
      ],
      "execution_count": null,
      "outputs": [
        {
          "output_type": "stream",
          "text": [
            "'Copia de Práctica 2a.ipynb'\t'Práctica 2a.ipynb'   uso_keras_cpu.ipynb\n",
            "'Copia de Practice1 (1).ipynb'\t Practicas1.ipynb\n",
            "'Copia de Practice1.ipynb'\t Practice1.ipynb\n"
          ],
          "name": "stdout"
        }
      ]
    },
    {
      "cell_type": "code",
      "metadata": {
        "id": "offN_-P9zEa2"
      },
      "source": [
        "%%capture\n",
        "!wget -nc https://raw.githubusercontent.com/brpy/colab-pdf/master/colab_pdf.py\n",
        "from colab_pdf import colab_pdf\n",
        "colab_pdf('Practice1.ipynb')"
      ],
      "execution_count": null,
      "outputs": []
    }
  ]
}